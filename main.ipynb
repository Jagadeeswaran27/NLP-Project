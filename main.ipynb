{
 "cells": [
  {
   "cell_type": "code",
   "execution_count": 42,
   "metadata": {},
   "outputs": [
    {
     "name": "stderr",
     "output_type": "stream",
     "text": [
      "huggingface/tokenizers: The current process just got forked, after parallelism has already been used. Disabling parallelism to avoid deadlocks...\n",
      "To disable this warning, you can either:\n",
      "\t- Avoid using `tokenizers` before the fork if possible\n",
      "\t- Explicitly set the environment variable TOKENIZERS_PARALLELISM=(true | false)\n"
     ]
    },
    {
     "name": "stdout",
     "output_type": "stream",
     "text": [
      "Defaulting to user installation because normal site-packages is not writeable\n",
      "Requirement already satisfied: textblob in /home/harish/.local/lib/python3.10/site-packages (0.19.0)\n",
      "Requirement already satisfied: nltk>=3.9 in /home/harish/.local/lib/python3.10/site-packages (from textblob) (3.9.1)\n",
      "Requirement already satisfied: click in /home/harish/.local/lib/python3.10/site-packages (from nltk>=3.9->textblob) (8.1.8)\n",
      "Requirement already satisfied: joblib in /home/harish/.local/lib/python3.10/site-packages (from nltk>=3.9->textblob) (1.4.2)\n",
      "Requirement already satisfied: regex>=2021.8.3 in /home/harish/.local/lib/python3.10/site-packages (from nltk>=3.9->textblob) (2024.11.6)\n",
      "Requirement already satisfied: tqdm in /home/harish/.local/lib/python3.10/site-packages (from nltk>=3.9->textblob) (4.67.1)\n",
      "Note: you may need to restart the kernel to use updated packages.\n"
     ]
    }
   ],
   "source": [
    "%pip install pandas matplotlib seaborn networkx scikit-learn sentence-transformers plotly nltk textblob"
   ]
  },
  {
   "cell_type": "code",
   "execution_count": 43,
   "metadata": {},
   "outputs": [
    {
     "name": "stderr",
     "output_type": "stream",
     "text": [
      "[nltk_data] Downloading package stopwords to /home/harish/nltk_data...\n",
      "[nltk_data]   Package stopwords is already up-to-date!\n"
     ]
    },
    {
     "data": {
      "text/plain": [
       "True"
      ]
     },
     "execution_count": 43,
     "metadata": {},
     "output_type": "execute_result"
    }
   ],
   "source": [
    "import pandas as pd\n",
    "import matplotlib.pyplot as plt\n",
    "import seaborn as sns\n",
    "from collections import defaultdict\n",
    "import re\n",
    "from collections import Counter\n",
    "import networkx as nx\n",
    "from sklearn.feature_extraction.text import CountVectorizer\n",
    "from sklearn.decomposition import LatentDirichletAllocation\n",
    "from sklearn.preprocessing import MinMaxScaler\n",
    "from sentence_transformers import SentenceTransformer\n",
    "from sklearn.cluster import KMeans\n",
    "from sklearn.decomposition import PCA\n",
    "import matplotlib.pyplot as plt\n",
    "import seaborn as sns\n",
    "import nltk\n",
    "import plotly.express as px\n",
    "from textblob import TextBlob\n",
    "\n",
    "nltk.download('stopwords')"
   ]
  },
  {
   "cell_type": "code",
   "execution_count": null,
   "metadata": {},
   "outputs": [],
   "source": [
    "class Analytics:\n",
    "    def __init__(self, file):\n",
    "        self.data = None\n",
    "        self.file = file\n",
    "        self.df = None\n",
    "        self.users_messages = None\n",
    "        self.users_most_frequent_words = {}\n",
    "        self.setup()\n",
    "        \n",
    "    def setup(self):\n",
    "        try:\n",
    "            with open(self.file) as f:\n",
    "                self.data = f.read()\n",
    "        except FileNotFoundError:\n",
    "            print(\"File not found\")\n",
    "            exit(1)\n",
    "        except PermissionError:\n",
    "            print(\"check your file permissions.\")\n",
    "            exit(1)\n",
    "        except Exception as e:\n",
    "            print(f\"An unexpected error occurred: {e}\")\n",
    "            exit(1)             \n",
    "        combined_data = self.combine_multiline_messages(self.data)\n",
    "        self.df = pd.DataFrame(combined_data)\n",
    "        self.df[\"date\"] = self.df[0].str.split(\" \", expand=True)[0]\n",
    "        self.df['date'] = pd.to_datetime(self.df['date'], dayfirst=True)\n",
    "        self.df[\"time\"] = self.df[0].str.split(\" \", expand=True)[1]\n",
    "        self.df[\"content\"] = self.df[0].str.partition(\",\", expand=True)[2].str.partition(\"-\", expand=True)[2]\n",
    "        # Only split when ':' is present\n",
    "        self.df['user'] = self.df['content'].apply(lambda x: x.split(\":\")[0] if \":\" in x else \"system\")\n",
    "        self.df['message'] = self.df['content'].apply(lambda x: x.split(\":\", 1)[1].strip() if \":\" in x else x.strip())\n",
    "\n",
    "        self.df = self.df.drop(columns=[0, \"content\"])\n",
    "        self.df['message_length'] = self.df['message'].str.len()\n",
    "        self.users_messages = self.get_user_message(self.df)\n",
    "        \n",
    "    def combine_multiline_messages(self, text):\n",
    "        combined_lines = []\n",
    "        pattern = re.compile(r\"^\\d{2}/\\d{2}/\\d{4}, \\d{1,2}:\\d{2}\\s?(am|pm)?\\s?-\\s\")\n",
    "        for line in text.splitlines()[1:]:\n",
    "            if pattern.match(line):\n",
    "                if \" <Media omitted>\" not in line:\n",
    "                    combined_lines.append(line)\n",
    "            else:\n",
    "                if combined_lines:\n",
    "                    combined_lines[-1] += ' ' + line.strip()\n",
    "        return combined_lines\n",
    "    \n",
    "    def get_user_message(self, df):\n",
    "        users_text = defaultdict(str)\n",
    "        for index, row in df.iterrows():\n",
    "            user = str(row[\"user\"]).lstrip(\" \")\n",
    "            message = row[\"message\"]\n",
    "            users_text[user] += message\n",
    "        return users_text\n",
    "        \n",
    "    def get_top_frequent_words(self, n=5):\n",
    "        for user, text in self.users_messages.items():\n",
    "            text = text.lower()\n",
    "            words = re.findall(r'\\b\\w{4,}\\b', text)  # only words with length >= 4\n",
    "            word_counter = Counter(words)\n",
    "            self.users_most_frequent_words[user] = word_counter.most_common(n)\n",
    "\n",
    "        # Visualization\n",
    "        data = []\n",
    "        for user, word_freqs in self.users_most_frequent_words.items():\n",
    "            for word, freq in word_freqs:\n",
    "                data.append((user, word, freq))\n",
    "\n",
    "        df_words = pd.DataFrame(data, columns=['User', 'Word', 'Frequency'])\n",
    "\n",
    "        plt.figure(figsize=(12, 6))\n",
    "        sns.barplot(data=df_words, x='Frequency', y='Word', hue='User', dodge=True)\n",
    "        plt.title(\"Top Frequent Words Per User (Min 4 Characters)\")\n",
    "        plt.xlabel(\"Frequency\")\n",
    "        plt.ylabel(\"Word\")\n",
    "        plt.legend(title='User', bbox_to_anchor=(1.05, 1), loc='upper left')\n",
    "        plt.tight_layout()\n",
    "        plt.show()\n",
    "\n",
    "\n",
    "    def message_length_analysis(self):\n",
    "        user_avg = self.df.groupby('user')['message_length'].mean().sort_values(ascending=False)\n",
    "        print(\"Average message length per user:\\n\", user_avg)\n",
    "        daily_avg = self.df.groupby(self.df['date'].dt.date)['message_length'].mean()\n",
    "\n",
    "        # Plot average length over time\n",
    "        plt.figure(figsize=(10, 4))\n",
    "        daily_avg.plot()\n",
    "        plt.title(\"Average Message Length Over Time\")\n",
    "        plt.xlabel(\"Date\")\n",
    "        plt.ylabel(\"Avg Message Length\")\n",
    "        plt.tight_layout()\n",
    "        plt.show()\n",
    "    def active_time_analysis(self):\n",
    "        # Clean up the time column if needed\n",
    "        if isinstance(self.df['time'].iloc[0], str):\n",
    "            self.df['time'] = self.df['time'].str.replace('\\u202f', '', regex=True).str.strip()\n",
    "        \n",
    "        # Extract hour from the existing datetime 'date' column\n",
    "        self.df['hour'] = self.df['date'].dt.hour\n",
    "        \n",
    "        # Extract weekday from the existing datetime 'date' column\n",
    "        self.df['weekday'] = self.df['date'].dt.day_name()\n",
    "\n",
    "        # Weekday activity\n",
    "        plt.figure(figsize=(10, 4))\n",
    "        sns.countplot(x='weekday', data=self.df, order=[\n",
    "            'Monday', 'Tuesday', 'Wednesday', 'Thursday', 'Friday', 'Saturday', 'Sunday'\n",
    "        ])\n",
    "        plt.title(\"Most Active Weekdays\")\n",
    "        plt.tight_layout()\n",
    "        plt.show()\n",
    "    def user_interaction(self):\n",
    "        user_counts = Counter(self.df['user'])\n",
    "\n",
    "        G = nx.Graph()\n",
    "        for user, count in user_counts.items():\n",
    "            G.add_node(user, size=count)\n",
    "\n",
    "        users = list(user_counts.keys())\n",
    "        for i in range(len(users)):\n",
    "            for j in range(i + 1, len(users)):\n",
    "                G.add_edge(users[i], users[j])\n",
    "\n",
    "        sizes = [G.nodes[u]['size'] * 50 for u in G.nodes]\n",
    "\n",
    "        plt.figure(figsize=(8, 8))\n",
    "        pos = nx.spring_layout(G, seed=42)  # consistent layout\n",
    "        nx.draw_networkx_nodes(G, pos, node_size=sizes, node_color='skyblue')\n",
    "        nx.draw_networkx_edges(G, pos, width=1.5, edge_color='gray')\n",
    "        nx.draw_networkx_labels(G, pos, font_size=10, font_color='black')\n",
    "\n",
    "        plt.title(\"User Interaction Graph\", fontsize=14)\n",
    "        plt.axis(\"off\")\n",
    "        plt.tight_layout()\n",
    "        plt.show()\n",
    "\n",
    "    def topic_modeling(self,n_topics=5):\n",
    "        # Sample: df[\"message\"]\n",
    "        messages = self.df[\"message\"]\n",
    "        # 1. Convert messages to bag-of-words\n",
    "        vectorizer = CountVectorizer(stop_words='english')\n",
    "        X = vectorizer.fit_transform(messages)\n",
    "\n",
    "        # 2. Apply LDA\n",
    "        lda = LatentDirichletAllocation(n_components=5, random_state=42)  # 2 topics for example\n",
    "        lda.fit(X)\n",
    "\n",
    "        # 3. Get top words per topic\n",
    "        words = vectorizer.get_feature_names_out()\n",
    "        for topic_idx, topic in enumerate(lda.components_):\n",
    "            top_words = [words[i] for i in topic.argsort()[:-6:-1]]\n",
    "            print(f\"Topic {topic_idx + 1}: {', '.join(top_words)}\")\n",
    "    \n",
    "    def similar_conversations(self,n_clusters=5):\n",
    "        stop_words = set(nltk.corpus.stopwords.words('english'))\n",
    "        self.df['cleaned_message'] = self.df['message'].apply(\n",
    "        lambda text: ' '.join(\n",
    "        [word for word in re.sub(r'[^\\w\\s]', '', text.lower()).split() if word not in stop_words and len(word) > 3]\n",
    "        )\n",
    "    )\n",
    "\n",
    "\n",
    "        # Generate sentence embeddings\n",
    "        embedder = SentenceTransformer('all-MiniLM-L6-v2')\n",
    "        embeddings = embedder.encode(self.df['cleaned_message'], show_progress_bar=False)\n",
    "\n",
    "\n",
    "        # Clustering\n",
    "        kmeans = KMeans(n_clusters=n_clusters, random_state=42, n_init='auto')\n",
    "        self.df['cluster'] = kmeans.fit_predict(embeddings)\n",
    "\n",
    "        # Dimensionality reduction + scaling\n",
    "        pca = PCA(n_components=2)\n",
    "        reduced = pca.fit_transform(embeddings)\n",
    "        self.df[['x', 'y']] = MinMaxScaler().fit_transform(reduced)\n",
    "\n",
    "        # Assign top keyword per cluster\n",
    "        top_keywords = {}\n",
    "        for c in self.df['cluster'].unique():\n",
    "            words = ' '.join(self.df[self.df['cluster'] == c]['cleaned_message']).split()\n",
    "            if words:\n",
    "                top_words = [word for word, _ in Counter(words).most_common(10)]\n",
    "                cluster_label = ', '.join(top_words).title()\n",
    "            else:\n",
    "                cluster_label = f'Cluster {c}'\n",
    "            top_keywords[c] = cluster_label\n",
    "\n",
    "        self.df['cluster_label'] = self.df['cluster'].map(top_keywords)\n",
    "\n",
    "        # Plot\n",
    "        fig = px.scatter(\n",
    "            self.df,\n",
    "            x='x',\n",
    "            y='y',\n",
    "            color='cluster_label',\n",
    "            hover_data=['user', 'message'],\n",
    "            title='Semantic Clustering of Messages',\n",
    "            labels={'x': 'PCA Component 1', 'y': 'PCA Component 2'}\n",
    "        )\n",
    "        fig.update_traces(marker=dict(size=10, opacity=0.8))\n",
    "        fig.update_layout(legend_title_text='Cluster Topics')\n",
    "        fig.show()\n",
    "    def sentiment_dashboard(self):\n",
    "        self.df['sentiment'] = self.df['message'].astype(str).apply(lambda x: float(TextBlob(x).sentiment.polarity))        \n",
    "        # Sentiment per user\n",
    "        user_sentiment = self.df.groupby('user')['sentiment'].mean().sort_values()\n",
    "        plt.figure(figsize=(10, 4))\n",
    "        user_sentiment.plot(kind='barh', color='skyblue')\n",
    "        plt.title(\"Average Sentiment per User\")\n",
    "        plt.xlabel(\"Avg Sentiment Score\")\n",
    "        plt.tight_layout()\n",
    "        plt.show()\n",
    "\n"
   ]
  },
  {
   "cell_type": "code",
   "execution_count": 45,
   "metadata": {},
   "outputs": [
    {
     "data": {
      "image/png": "[encoded data removed]",
      "text/plain": [
       "<Figure size 1200x600 with 1 Axes>"
      ]
     },
     "metadata": {},
     "output_type": "display_data"
    },
    {
     "data": {
      "text/plain": [
       "{'system': [('pinned', 14),\n",
       "  ('group', 9),\n",
       "  ('this', 7),\n",
       "  ('changed', 6),\n",
       "  ('settings', 6)],\n",
       " 'Darani(MIC)': [('message', 49),\n",
       "  ('this', 42),\n",
       "  ('character', 38),\n",
       "  ('string', 36),\n",
       "  ('than', 34)],\n",
       " 'Santhosh Vit': [('message', 11),\n",
       "  ('panna', 9),\n",
       "  ('this', 8),\n",
       "  ('send', 6),\n",
       "  ('test', 6)],\n",
       " 'Jagadeeswaran MIC': [('fuzzy', 35),\n",
       "  ('name', 30),\n",
       "  ('this', 24),\n",
       "  ('string', 22),\n",
       "  ('data', 20)],\n",
       " 'Harish20205': [('this', 16),\n",
       "  ('name', 15),\n",
       "  ('learning', 15),\n",
       "  ('deleted', 12),\n",
       "  ('from', 11)],\n",
       " 'Avinash MIC': [('dhan', 8),\n",
       "  ('class', 5),\n",
       "  ('option', 5),\n",
       "  ('iruku', 4),\n",
       "  ('slot', 4)],\n",
       " 'Ashwin MIC': [('marks', 12),\n",
       "  ('option', 7),\n",
       "  ('votes', 7),\n",
       "  ('this', 5),\n",
       "  ('time', 4)],\n",
       " 'Ganapathy (MIC)': [('data', 9),\n",
       "  ('num_attributes', 8),\n",
       "  ('range', 8),\n",
       "  ('this', 5),\n",
       "  ('edited', 5)]}"
      ]
     },
     "execution_count": 45,
     "metadata": {},
     "output_type": "execute_result"
    }
   ],
   "source": [
    "\n",
    "model = Analytics(\"group_chat.txt\")\n",
    "model.get_top_frequent_words(5)\n",
    "model.users_most_frequent_words\n"
   ]
  },
  {
   "cell_type": "code",
   "execution_count": 46,
   "metadata": {},
   "outputs": [
    {
     "name": "stdout",
     "output_type": "stream",
     "text": [
      "Average message length per user:\n",
      " user\n",
      " Jagadeeswaran MIC    114.399225\n",
      " Harish20205          105.321212\n",
      " Darani(MIC)           70.566576\n",
      " Ganapathy (MIC)       44.443396\n",
      "system                 36.696970\n",
      " Avinash MIC           21.222727\n",
      " Santhosh Vit          16.023310\n",
      " Ashwin MIC            14.043103\n",
      "Name: message_length, dtype: float64\n"
     ]
    },
    {
     "data": {
      "image/png": "[encoded data removed]",
      "text/plain": [
       "<Figure size 1000x400 with 1 Axes>"
      ]
     },
     "metadata": {},
     "output_type": "display_data"
    }
   ],
   "source": [
    "model.message_length_analysis()\n"
   ]
  },
  {
   "cell_type": "code",
   "execution_count": 47,
   "metadata": {},
   "outputs": [
    {
     "data": {
      "image/png": "[encoded data removed]",
      "text/plain": [
       "<Figure size 1000x400 with 1 Axes>"
      ]
     },
     "metadata": {},
     "output_type": "display_data"
    }
   ],
   "source": [
    "model.active_time_analysis()\n"
   ]
  },
  {
   "cell_type": "code",
   "execution_count": 48,
   "metadata": {},
   "outputs": [
    {
     "data": {
      "image/png": "[encoded data removed]",
      "text/plain": [
       "<Figure size 800x800 with 1 Axes>"
      ]
     },
     "metadata": {},
     "output_type": "display_data"
    }
   ],
   "source": [
    "model.user_interaction()\n"
   ]
  },
  {
   "cell_type": "code",
   "execution_count": 49,
   "metadata": {},
   "outputs": [
    {
     "name": "stdout",
     "output_type": "stream",
     "text": [
      "Topic 1: pan, character, option, votes, throw\n",
      "Topic 2: da, ok, illa, enna, ithu\n",
      "Topic 3: id, mod, book, data, session\n",
      "Topic 4: fuzzy, https, da, code, branch\n",
      "Topic 5: message, deleted, import, edited, ah\n"
     ]
    }
   ],
   "source": [
    "model.topic_modeling()\n"
   ]
  },
  {
   "cell_type": "code",
   "execution_count": 50,
   "metadata": {},
   "outputs": [
    {
     "data": {
      "application/vnd.plotly.v1+json": {
       "config": {
        "plotlyServerURL": "https://plot.ly"
       },
       "data": [
        {
         "customdata": [
          [
           "system",
           "Ganapathy (MIC) created group \"9/11 Survivors💀\""
          ],
          [
           "system",
           "Ganapathy (MIC) added you"
          ],
          [
           "system",
           "Ganapathy (MIC) turned on admin approval to join this group."
          ],
          [
           " Jagadeeswaran MIC",
           "Confirm varanuma"
          ],
          [
           " Santhosh Vit",
           "Attendance kedaikumla"
          ],
          [
           " Jagadeeswaran MIC",
           "leave airlama da"
          ],
          [
           " Darani(MIC)",
           "Ennathu da ithu"
          ],
          [
           " Santhosh Vit",
           "Mudichitu"
          ],
          [
           " Darani(MIC)",
           "Ennathu da ithu"
          ],
          [
           " Santhosh Vit",
           "Aama"
          ],
          [
           " Darani(MIC)",
           "ok pa thambi"
          ],
          [
           " Avinash MIC",
           "Thokitangha"
          ],
          [
           " Santhosh Vit",
           "Sollitanga"
          ],
          [
           " Santhosh Vit",
           "Enga da pona"
          ],
          [
           " Avinash MIC",
           "Appo enna hair ku da requiz illa ivangaluku mattum"
          ],
          [
           " Santhosh Vit",
           "Ippovae"
          ],
          [
           " Santhosh Vit",
           "Ethana karanam sollu"
          ],
          [
           " Jagadeeswaran MIC",
           "bandaruvishnu.teja2022@vitstudent.ac.in jagadeeswaran.m2022@vitstudent.ac.in"
          ],
          [
           " Darani(MIC)",
           "daranivelan.va2022@vitstudent.ac.in"
          ],
          [
           " Avinash MIC",
           "srijai.ganapathysn2022@vitstudent.ac.in"
          ],
          [
           " Jagadeeswaran MIC",
           "athellam apdi than"
          ],
          [
           " Darani(MIC)",
           "Summa oru fun"
          ],
          [
           " Darani(MIC)",
           "Yen da anupara"
          ],
          [
           " Darani(MIC)",
           "Athan solran"
          ],
          [
           " Darani(MIC)",
           "Maranthuda poringanu sonnan"
          ],
          [
           " Santhosh Vit",
           "Arigatou"
          ],
          [
           " Ashwin MIC",
           "Lord jagadees"
          ],
          [
           " Santhosh Vit",
           "Intha faculties pathu ketu sollunga da"
          ],
          [
           " Darani(MIC)",
           "Athalan solla mudiyathu"
          ],
          [
           " Santhosh Vit",
           "Sollu pa thambi"
          ],
          [
           " Darani(MIC)",
           "Yethuku ??"
          ],
          [
           " Santhosh Vit",
           "Enna bayam vittupocha"
          ],
          [
           " Santhosh Vit",
           "Narayanan ketan"
          ],
          [
           " Darani(MIC)",
           "Yaar kitta kekurathu 🤷🏻"
          ],
          [
           " Santhosh Vit",
           "Therinjavanga kita"
          ],
          [
           " Darani(MIC)",
           "Intha faculty lan eppadi da"
          ],
          [
           " Santhosh Vit",
           "Sari atha vidu"
          ],
          [
           " Darani(MIC)",
           "Sollunga da"
          ],
          [
           " Darani(MIC)",
           "Ketu solran"
          ],
          [
           " Darani(MIC)",
           "Pozhachi po"
          ],
          [
           " Darani(MIC)",
           "Vanakkam pa"
          ],
          [
           " Jagadeeswaran MIC",
           "yethuku"
          ],
          [
           " Darani(MIC)",
           "Paaka mudiyathu da"
          ],
          [
           " Jagadeeswaran MIC",
           "deii guys ennaiku reopen?"
          ],
          [
           " Jagadeeswaran MIC",
           "Waatha"
          ],
          [
           " Jagadeeswaran MIC",
           "Date solra"
          ],
          [
           " Santhosh Vit",
           "Aana 56 naal leave"
          ],
          [
           " Darani(MIC)",
           "Ketu paaru da"
          ],
          [
           " Darani(MIC)",
           "Dei antha assignment uh"
          ],
          [
           " Darani(MIC)",
           "Dei rendume kuda naane anupanran da"
          ],
          [
           " Darani(MIC)",
           "Report mattum neenga anupunga"
          ],
          [
           " Santhosh Vit",
           "Sari ok"
          ],
          [
           " Darani(MIC)",
           "enna ivlo ok va ??"
          ],
          [
           " Santhosh Vit",
           "Events enna da podalam"
          ],
          [
           " Avinash MIC",
           "Athuve kammi"
          ],
          [
           " Santhosh Vit",
           "Max 1 page tha solli irukanunga"
          ],
          [
           " Darani(MIC)",
           "Apdiya"
          ],
          [
           " Darani(MIC)",
           "Ennaku ethuva irunthalum ok da"
          ],
          [
           " Avinash MIC",
           "Ethula potruku"
          ],
          [
           " Darani(MIC)",
           "Antha model anupanan la athuve potudu"
          ],
          [
           " Santhosh Vit",
           "Namba ethuvum pogalaiyae"
          ],
          [
           " Santhosh Vit",
           "Naliki paakalam"
          ],
          [
           " Darani(MIC)",
           "Paravala da podu paathukalam"
          ],
          [
           " Santhosh Vit",
           "Pdf potralama"
          ],
          [
           " Darani(MIC)",
           "Potudalam 👍🏻"
          ],
          [
           " Santhosh Vit",
           "Faculty name MURALI S"
          ],
          [
           " Jagadeeswaran MIC",
           "innum varala da"
          ],
          [
           " Jagadeeswaran MIC",
           "Guys ipdi na ennanu theriyuma?"
          ],
          [
           " Darani(MIC)",
           "Civil kadachiruku"
          ],
          [
           " Jagadeeswaran MIC",
           "Minor na enna?"
          ],
          [
           " Santhosh Vit",
           "Category 1 kedachi irukku"
          ],
          [
           " Jagadeeswaran MIC",
           "Funda athu therithu minor na enna"
          ],
          [
           " Darani(MIC)",
           "Ethachu specialisation nu ninaikuran"
          ],
          [
           " Darani(MIC)",
           "Bcoz with minor in CS nu poturukanga"
          ],
          [
           " Darani(MIC)",
           "Oru Vela civil + little bit of computer science nu ninaikuran"
          ],
          [
           " Darani(MIC)",
           "Confirm ah theriyala"
          ],
          [
           " Darani(MIC)",
           "Dei wishlist podunga da"
          ],
          [
           " Darani(MIC)",
           "Namaku 5 labs iruku intha sem"
          ],
          [
           " Darani(MIC)",
           "Eppa discussion poduvom ??"
          ],
          [
           " Darani(MIC)",
           "Ennaku okiee"
          ],
          [
           " Darani(MIC)",
           "Neenga sollunga eppa nu"
          ],
          [
           " Darani(MIC)",
           "Aama da 😂"
          ],
          [
           " Avinash MIC",
           "mudinchu"
          ],
          [
           " Darani(MIC)",
           "Maximum namma extra potathu illa"
          ],
          [
           " Darani(MIC)",
           "Avanga kuduthathu than podanum pola"
          ],
          [
           " Avinash MIC",
           "neraya faculty options iruku so ok dhan"
          ],
          [
           " Darani(MIC)",
           "Night paapom enna nadakuthunu 😂 <This message was edited>"
          ],
          [
           " Darani(MIC)",
           "Enna da pesalama"
          ],
          [
           " Darani(MIC)",
           "Illa nalaika ??"
          ],
          [
           " Ashwin MIC",
           "Naaliku.."
          ],
          [
           " Harish20205",
           "Irukingala"
          ],
          [
           " Darani(MIC)",
           "Pesuvoma ??"
          ],
          [
           " Jagadeeswaran MIC",
           "Naa veliya irukkan neenga pesunga"
          ],
          [
           " Darani(MIC)",
           "Amogam"
          ],
          [
           " Ganapathy (MIC)",
           "cloud ranjith kumar"
          ],
          [
           " Ganapathy (MIC)",
           "cloud                ranjith kumar   PRP                                         crypto               thangaramya   PRP linear algerbra  roy S                PRP cyber seurity     siva sankari      PRP"
          ],
          [
           " Ganapathy (MIC)",
           "cloud                ranjith kumar   PRP                                         crypto               thangaramya   PRP linear algerbra  roy S                PRP cyber seurity     siva sankari S   PRP Logic                 umapriya         PRP arch                   thirunavukarasan  PRP sts                      FACE                PRP 414 inovative           sumagala         TT <This message was edited>"
          ],
          [
           " Darani(MIC)",
           "Dei ganapathy"
          ],
          [
           " Ganapathy (MIC)",
           "Sollra"
          ],
          [
           " Santhosh Vit",
           "ithu"
          ],
          [
           " Santhosh Vit",
           "illana ithu"
          ],
          [
           " Santhosh Vit",
           "Sirikiran da"
          ],
          [
           " Santhosh Vit",
           "Teja"
          ],
          [
           " Darani(MIC)",
           "Apdiya 😂"
          ],
          [
           " Santhosh Vit",
           "Asinga padithita la"
          ],
          [
           " Darani(MIC)",
           "Dei Avanum vote poturukan da"
          ],
          [
           " Darani(MIC)",
           "Afternoon than poturukan"
          ],
          [
           " Santhosh Vit",
           "Therithu"
          ],
          [
           " Darani(MIC)",
           "8pm ku pesuvom da"
          ],
          [
           " Avinash MIC",
           "But time table nalla iruku 😂😂"
          ],
          [
           " Avinash MIC",
           "enaku okay"
          ],
          [
           " Darani(MIC)",
           "Neenga 2 per than paathurukinga"
          ],
          [
           " Darani(MIC)",
           "Santhosh lan net off la iruku 😂"
          ],
          [
           " Harish20205",
           "Neenga pesunga"
          ],
          [
           " Ganapathy (MIC)",
           "enna slot da morning a evening a"
          ],
          [
           " Darani(MIC)",
           "Cloud Computing (Ranjith Kumar) - B1 + TB1 (L53 + L54)  Wireless Networks (Priyanka) - A1 + TA1 (L37 + L38) Cyber Security (Siva Sankari) - C1 + TC1 (L49 + L50) Cryptography (Farooq) - A2 (L51 + L52) Linear Algebra (Debaroti Das) - G1 + TG1 Computer Architecture (Thirunaukarasan) - E1 + TE1 Logic and Combinators (Uma Priya) - F1 + TF1 <This message was edited>"
          ],
          [
           " Ganapathy (MIC)",
           "full a annupu da"
          ],
          [
           " Darani(MIC)",
           "ozunga paaru da"
          ],
          [
           " Santhosh Vit",
           "Madhu v"
          ],
          [
           " Avinash MIC",
           "but adhu sjt"
          ],
          [
           " Santhosh Vit",
           "Paravala"
          ],
          [
           " Avinash MIC",
           "enaku ok"
          ],
          [
           " Santhosh Vit",
           "Nalla faculty nu solran la"
          ],
          [
           " Santhosh Vit",
           "Athu kedaikalana"
          ],
          [
           " Darani(MIC)",
           "debaroti das nalla faculty nu sonnanga"
          ],
          [
           " Avinash MIC",
           "madhu 30min dhan class ahm"
          ],
          [
           " Ganapathy (MIC)",
           "thambi edited pa"
          ],
          [
           " Santhosh Vit",
           "1st. Madhu 2nd. Roy 3rd. Das"
          ],
          [
           " Avinash MIC",
           "but eludhana dhan mark uh mathapadi ok"
          ],
          [
           " Darani(MIC)",
           "apa madhu va ??"
          ],
          [
           " Ganapathy (MIC)",
           "cyber thana front end illela"
          ],
          [
           " Santhosh Vit",
           "Nani"
          ],
          [
           " Ganapathy (MIC)",
           "enna pa sollra"
          ],
          [
           " Darani(MIC)",
           "sollu da"
          ],
          [
           " Santhosh Vit",
           "Aama"
          ],
          [
           " Avinash MIC",
           "enaku ok"
          ],
          [
           " Santhosh Vit",
           "Illana roy frist poduvoma"
          ],
          [
           " Darani(MIC)",
           "ethuku da ??"
          ],
          [
           " Avinash MIC",
           "roy eppadi class lam?"
          ],
          [
           " Santhosh Vit",
           "Therila"
          ],
          [
           " Darani(MIC)",
           "roy waste nu sonnanga da"
          ],
          [
           " Ganapathy (MIC)",
           "yaaru"
          ],
          [
           " Darani(MIC)",
           "lekya"
          ],
          [
           " Santhosh Vit",
           "Sari"
          ],
          [
           " Avinash MIC",
           "SJT ok na madhu edukalam best uh"
          ],
          [
           " Santhosh Vit",
           "Mathu Das"
          ],
          [
           " Ganapathy (MIC)",
           "then ok madhu"
          ],
          [
           " Santhosh Vit",
           "Illa  Das Madhu"
          ],
          [
           " Santhosh Vit",
           "Ethu?"
          ],
          [
           " Ashwin MIC",
           "Athukaga SJT ponuma daa?"
          ],
          [
           " Darani(MIC)",
           "Mathu Das is a badass"
          ],
          [
           " Avinash MIC",
           "deabroti pathi ketu sollu"
          ],
          [
           " Santhosh Vit",
           "Athe maathiri sts ku sjt polam"
          ],
          [
           " Ganapathy (MIC)",
           "nalaiku eppo"
          ],
          [
           " Darani(MIC)",
           "dei ozunga sollunga da"
          ],
          [
           " Ganapathy (MIC)",
           "yarta kekka"
          ],
          [
           " Avinash MIC",
           "class lam eppadi da"
          ],
          [
           " Avinash MIC",
           "full ah irukuma or free ah"
          ],
          [
           " Darani(MIC)",
           "apa madhu ve ok da"
          ],
          [
           " Avinash MIC",
           "sts prp laye irukatum"
          ],
          [
           " Darani(MIC)",
           "Cloud Computing (Ranjith Kumar) - B1 + TB1 (L53 + L54)  Wireless Networks (Priyanka) - A1 + TA1 (L37 + L38) Cyber Security (Siva Sankari) - C1 + TC1 (L49 + L50) Cryptography (Farooq) - A2 (L51 + L52) Linear Algebra (Madhu) - G1 + TG1 Computer Architecture (Thirunaukarasan) - E1 + TE1 Logic and Combinators (Uma Priya) - F1 + TF1"
          ],
          [
           " Darani(MIC)",
           "logic ku yaaru da uma priya ok va ??"
          ],
          [
           " Santhosh Vit",
           "Ethula iruko athu"
          ],
          [
           " Darani(MIC)",
           "seri ok"
          ],
          [
           " Darani(MIC)",
           "apa theory lan yaaru athigama irukangalo edunga"
          ],
          [
           " Santhosh Vit",
           "Neraiya facs irukkanga la"
          ],
          [
           " Santhosh Vit",
           "Aama"
          ],
          [
           " Darani(MIC)",
           "apa ellarukum ithu ok va"
          ],
          [
           " Darani(MIC)",
           "ithu than priority wise edukanum"
          ],
          [
           " Darani(MIC)",
           "Cloud Computing (Ranjith Kumar) - B1 + TB1 (L53 + L54)  Wireless Networks (Priyanka) - A1 + TA1 (L37 + L38) Cyber Security (Siva Sankari) - C1 + TC1 (L49 + L50) Cryptography (Farooq) - A2 (L51 + L52) Linear Algebra (Madhu) - G1 + TG1 Computer Architecture (Thirunaukarasan) - E1 + TE1 Logic and Combinators (Uma Priya) - F1 + TF1"
          ],
          [
           " Darani(MIC)",
           "414 kadaikalana 411 edunga"
          ],
          [
           " Darani(MIC)",
           "naalai santhipom"
          ],
          [
           " Santhosh Vit",
           "411 irukka enna"
          ],
          [
           " Darani(MIC)",
           "Iruku nu than ninaikuran"
          ],
          [
           " Avinash MIC",
           "Thirnaukarasan almost full aiducham da"
          ],
          [
           " Darani(MIC)",
           "Enna da solringa 🙄"
          ],
          [
           " Darani(MIC)",
           "Athu kulla start aagiducha ??"
          ],
          [
           " Avinash MIC",
           "Avangaluku registration mudinchu"
          ],
          [
           " Avinash MIC",
           "Terla but apdi nu sonnanga"
          ],
          [
           " Avinash MIC",
           "Registration appo dhan teriyum"
          ],
          [
           " Darani(MIC)",
           "Paathukalam"
          ],
          [
           " Avinash MIC",
           "Alternate vechita nala irukum"
          ],
          [
           " Ganapathy (MIC)",
           "Seri thirunavukarasan illena"
          ],
          [
           " Darani(MIC)",
           "Yaar athigama irukangalo edukalam da"
          ],
          [
           " Darani(MIC)",
           "Theory only thana"
          ],
          [
           " Avinash MIC",
           "mostly elective dhan da"
          ],
          [
           " Ganapathy (MIC)",
           "Dai logic Malini edukalam da"
          ],
          [
           " Ganapathy (MIC)",
           "Yen frnd avanga linieant nu sonna"
          ],
          [
           " Darani(MIC)",
           "Cloud Computing (Ranjith Kumar) - B1 + TB1 (L53 + L54)  Wireless Networks (Priyanka) - A1 + TA1 (L37 + L38) Cyber Security (Siva Sankari) - C1 + TC1 (L49 + L50) Cryptography (Farooq) - A2 (L51 + L52) Linear Algebra (Madhu) - G1 + TG1 Computer Architecture (Thirunaukarasan) - E1 + TE1 Logic and Combinators (Malini) - F1 + TF1"
          ],
          [
           " Darani(MIC)",
           "Annan konjam fast ah irupan da"
          ],
          [
           " Darani(MIC)",
           "Yaar athigama irukangalo avanga than backup"
          ],
          [
           " Darani(MIC)",
           "Epdi irunthalum call la irupingala edukum pothu"
          ],
          [
           " Darani(MIC)",
           "So apde sollitu eduthudalam"
          ],
          [
           " Jagadeeswaran MIC",
           "ipo priorities ah poroma ah ila core, elective antha maari porom ah?"
          ],
          [
           " Darani(MIC)",
           "1st uh lab iruka course lan edunga"
          ],
          [
           " Darani(MIC)",
           "Illana timetable maaridum"
          ],
          [
           " Darani(MIC)",
           "Ithan order"
          ],
          [
           " Jagadeeswaran MIC",
           "ithula priority laam crt ah irukku la?"
          ],
          [
           " Darani(MIC)",
           "Apdi than ninaikuran"
          ],
          [
           " Darani(MIC)",
           "Oru thadava check pannikonga"
          ],
          [
           " Jagadeeswaran MIC",
           "paathukalam"
          ],
          [
           " Darani(MIC)",
           "Athan Darani"
          ],
          [
           " Darani(MIC)",
           "Cloud Computing (Ranjith Kumar) - B1 + TB1 (L53 + L54)  Wireless Networks (Priyanka) - A1 + TA1 (L37 + L38) Cyber Security (Siva Sankari) - C1 + TC1 (L49 + L50) Cryptography (Farooq) - A2 (L51 + L52) Linear Algebra (Madhu) - G1 + TG1 Computer Architecture (Thirunaukarasan) - E1 + TE1 Logic and Combinators (Malini) - F1 + TF1"
          ],
          [
           " Darani(MIC)",
           "intha link thana da ??"
          ],
          [
           " Avinash MIC",
           "411 illaya da?"
          ],
          [
           " Darani(MIC)",
           "414 illana 411 da"
          ],
          [
           " Avinash MIC",
           "411 edutha continuous ah same class la irukalam"
          ],
          [
           " Avinash MIC",
           "So 411 ok dhana?"
          ],
          [
           " Darani(MIC)",
           "Ooh apdiya"
          ],
          [
           " Avinash MIC",
           "Ithula paru da"
          ],
          [
           " Santhosh Vit",
           "Ulla pona first sts thana podanum"
          ],
          [
           " Jagadeeswaran MIC",
           "aama"
          ],
          [
           " Darani(MIC)",
           "Dei intha thadava yaarume grp la kuda msg podala da"
          ],
          [
           " Darani(MIC)",
           "Yennala yeduka mudiyala apdi lan"
          ],
          [
           " Darani(MIC)",
           "Namma mattum than makku maari eduthurukom nu ninaikuran"
          ],
          [
           " Jagadeeswaran MIC",
           "@918667672284 @918778310929 ungalodaya courses anuppunga da"
          ],
          [
           " Ashwin MIC",
           "Tamil ila avlotha"
          ],
          [
           " Darani(MIC)",
           "Next sem la irunthu mrg theory eh kadaiyathu da"
          ],
          [
           " Darani(MIC)",
           "Next sem 27 eduka porom ahh da ??"
          ],
          [
           " Harish20205",
           "Edukanum nu nenaikuren"
          ],
          [
           " Jagadeeswaran MIC",
           "tamil eduthu irukkingala?"
          ],
          [
           " Avinash MIC",
           "F2 + Tf2 slot space iruku"
          ],
          [
           " Avinash MIC",
           "Add drop la kedacha edukalam"
          ],
          [
           " Darani(MIC)",
           "Soft skills vena D2 ku maathidalama ??"
          ],
          [
           " Darani(MIC)",
           "Apdi panna front end edukalam nu ninaikuran"
          ],
          [
           " Darani(MIC)",
           "Confirm ah theriyala"
          ],
          [
           " Avinash MIC",
           "front end lab slot pakanum"
          ],
          [
           " Avinash MIC",
           "appo edukalam"
          ],
          [
           " Darani(MIC)",
           "Athan L15 + L16 nu ninaikuran"
          ],
          [
           " Avinash MIC",
           "logic iruke"
          ],
          [
           " Darani(MIC)",
           "Athuvum illama afternoon slot than nariya free ah iruku"
          ],
          [
           " Darani(MIC)",
           "Athan sonnan"
          ],
          [
           " Avinash MIC",
           "yeah but mostly clash agum half half slots edutha"
          ],
          [
           " Avinash MIC",
           "so theory la f2 edukalam iruntha"
          ],
          [
           " Avinash MIC",
           "or front end lab slot vera irundhalum edukalam"
          ],
          [
           " Darani(MIC)",
           "Illa nee sonnala"
          ],
          [
           " Darani(MIC)",
           "So logic thooki F2 la potudalam"
          ],
          [
           " Darani(MIC)",
           "Apa front end edukalam"
          ],
          [
           " Avinash MIC",
           "appo frontedn theory enga?"
          ],
          [
           " Darani(MIC)",
           "Apdiya 😮"
          ],
          [
           " Avinash MIC",
           "but kedaikanum"
          ],
          [
           " Avinash MIC",
           "and logic um kedaikanum and sts um"
          ],
          [
           " Avinash MIC",
           "Summa vena podalam but official illa nu nenaikuren"
          ],
          [
           " Ashwin MIC",
           "Podalam daa"
          ],
          [
           " Darani(MIC)",
           "Ithu rendu mattum pothuma da ??"
          ],
          [
           " Darani(MIC)",
           "Enna slot podalam ??"
          ],
          [
           " Darani(MIC)",
           "Front end um podalama da"
          ],
          [
           " Darani(MIC)",
           "Bcoz cyber kadaikalana front end eduthudalam"
          ],
          [
           " Santhosh Vit",
           "NPTEL poda poroma da"
          ],
          [
           " Ashwin MIC",
           "Amaaaa"
          ],
          [
           " Santhosh Vit",
           "20 kulla podanuma"
          ],
          [
           " Ashwin MIC",
           "Potudalamm"
          ],
          [
           " Ashwin MIC",
           "Clg poi paathukalam"
          ],
          [
           " Ganapathy (MIC)",
           "Enna course"
          ],
          [
           " Ashwin MIC",
           "Terilayeee"
          ],
          [
           " Santhosh Vit",
           "Therila"
          ],
          [
           " Santhosh Vit",
           "Eppadi pakanum"
          ],
          [
           " Ashwin MIC",
           "Swayam app instal karo"
          ],
          [
           " Santhosh Vit",
           "Teekae baiya"
          ],
          [
           " Santhosh Vit",
           "Nanbargale nptel reg"
          ],
          [
           " Santhosh Vit",
           "Etho hod ku mail anapanumamae ennathu"
          ],
          [
           " Darani(MIC)",
           "Post poduda"
          ],
          [
           " Darani(MIC)",
           "Antha form la no need abcd I'd eh podalam da"
          ],
          [
           " Santhosh Vit",
           "Id potutenae"
          ],
          [
           " Darani(MIC)",
           "Apa vidu"
          ],
          [
           " Harish20205",
           "nanbargale time table classes change aiiduchu"
          ],
          [
           " Darani(MIC)",
           "Nalaiku than last day"
          ],
          [
           " Harish20205",
           "Da 3.10 ku class ku vantha sir eathum solla matara?"
          ],
          [
           " Darani(MIC)",
           "Wild Life Ecology last date ra inniku"
          ],
          [
           " Darani(MIC)",
           "Muduchidunga"
          ],
          [
           " Jagadeeswaran MIC",
           "question number laam maari irukku da"
          ],
          [
           " Avinash MIC",
           "ithuku"
          ],
          [
           " Darani(MIC)",
           "Thoongitan 😴"
          ],
          [
           " Darani(MIC)",
           "Evlo neram aagum ??"
          ],
          [
           " Darani(MIC)",
           "Naan marantan"
          ],
          [
           " Avinash MIC",
           "ithuku answer teriyuma"
          ],
          [
           " Avinash MIC",
           "also ithuku"
          ],
          [
           " Santhosh Vit",
           "Ellathaiyum ore line la poten"
          ],
          [
           " Darani(MIC)",
           "Podu da paathukalam"
          ],
          [
           " Santhosh Vit",
           "Quiz eppo nanbargale"
          ],
          [
           " Jagadeeswaran MIC",
           "enna quiz da"
          ],
          [
           " Jagadeeswaran MIC",
           "innaika?"
          ],
          [
           " Santhosh Vit",
           "Appaditha nenaikuren"
          ],
          [
           " Santhosh Vit",
           "Atha keten"
          ],
          [
           " Santhosh Vit",
           "Ohh appidiya"
          ],
          [
           " Santhosh Vit",
           "Moodle la irukkum paarunga yoi instructions"
          ],
          [
           " Darani(MIC)",
           "unnaku vanthuducha da ?"
          ],
          [
           " Jagadeeswaran MIC",
           "haan da"
          ],
          [
           " Santhosh Vit",
           "Nanbargale 9 maniki adda quiz"
          ],
          [
           " Jagadeeswaran MIC",
           "c.area da"
          ],
          [
           " Santhosh Vit",
           "Vada vela"
          ],
          [
           " Darani(MIC)",
           "Jagadees um varan"
          ],
          [
           " Darani(MIC)",
           "6 members podunga da"
          ],
          [
           " Darani(MIC)",
           "Vinod varan"
          ],
          [
           " Santhosh Vit",
           "Jags varana"
          ],
          [
           " Santhosh Vit",
           "Ash varalayam"
          ],
          [
           " Darani(MIC)",
           "Enna da ithu ??"
          ],
          [
           " Santhosh Vit",
           "Adda ref material"
          ],
          [
           " Santhosh Vit",
           "Eppura ivalo seekram potaru"
          ],
          [
           " Darani(MIC)",
           "Theriyalaye"
          ],
          [
           " Darani(MIC)",
           "Sirikara nee"
          ],
          [
           " Darani(MIC)",
           "Vekkama illa"
          ],
          [
           " Santhosh Vit",
           "Enga da irukku ithellam"
          ],
          [
           " Santhosh Vit",
           "Ithula entha topic"
          ],
          [
           " Darani(MIC)",
           "Theriyala"
          ],
          [
           " Darani(MIC)",
           "Harish kitta kelu"
          ],
          [
           " Santhosh Vit",
           "Solra Harish"
          ],
          [
           " Santhosh Vit",
           "Adei"
          ],
          [
           " Santhosh Vit",
           "Ithu athil entha topic"
          ],
          [
           " Darani(MIC)",
           "Dei ithu 3rd module"
          ],
          [
           " Darani(MIC)",
           "Yaara unnaku ithalan anuparathu"
          ],
          [
           " Darani(MIC)",
           "Poda punda"
          ],
          [
           " Darani(MIC)",
           "Sollu"
          ],
          [
           " Harish20205",
           "Class mudincha?"
          ],
          [
           " Darani(MIC)",
           "Avanga room ke poitanga da"
          ],
          [
           " Ganapathy (MIC)",
           "Ethula naalum varum"
          ],
          [
           " Darani(MIC)",
           "Naan santhosh ku sonnan da"
          ],
          [
           " Darani(MIC)",
           "Oru joke kuda purinjika maatringa"
          ],
          [
           " Darani(MIC)",
           "Sts mark vanthuduchu"
          ],
          [
           " Darani(MIC)",
           "Ellarum evlo sollunga"
          ],
          [
           " Santhosh Vit",
           "Potu anupu"
          ],
          [
           " Darani(MIC)",
           "Inniku than last date"
          ],
          [
           " Darani(MIC)",
           "Digi Locker poitu"
          ],
          [
           " Darani(MIC)",
           "Download kudu da"
          ],
          [
           " Harish20205",
           "Rendum same thaan da"
          ],
          [
           " Avinash MIC",
           "But abc already iruku and apaar puthusa create aguthu"
          ],
          [
           " Avinash MIC",
           "document downloading loading laye iruku"
          ],
          [
           " Harish20205",
           "Crypto mark vanthuduchu"
          ],
          [
           " Santhosh Vit",
           "Arigatou 🫡"
          ],
          [
           " Jagadeeswaran MIC",
           "Illai"
          ],
          [
           " Santhosh Vit",
           "Athana varala"
          ],
          [
           " Jagadeeswaran MIC",
           "Kudukanuma?"
          ],
          [
           " Harish20205",
           "ITHU SUBSCRIBE TO TEST IRUKU"
          ],
          [
           " Santhosh Vit",
           "Subscribe to test mattum kudunga"
          ],
          [
           " Harish20205",
           "YAKO"
          ],
          [
           " Darani(MIC)",
           "Ithula antha source code mattum eduthudu da"
          ],
          [
           " Darani(MIC)",
           "Step 7 verification nu poturuku"
          ],
          [
           " Ashwin MIC",
           "Na podala"
          ],
          [
           " Darani(MIC)",
           "naanum podala"
          ],
          [
           " Darani(MIC)",
           "ithu crt ah iruka ?"
          ],
          [
           " Harish20205",
           "Adeii"
          ],
          [
           " Harish20205",
           "Class mudincha?"
          ],
          [
           " Harish20205",
           "Epo mudiyum?"
          ],
          [
           " Ashwin MIC",
           "Unaku?"
          ],
          [
           " Harish20205",
           "Mudinchu"
          ],
          [
           " Ashwin MIC",
           "Yenga iruka?"
          ],
          [
           " Darani(MIC)",
           "Nalaiku clg leave uh da"
          ],
          [
           " Darani(MIC)",
           "Summa than da"
          ],
          [
           " Darani(MIC)",
           "Already mrg leave podalam nu sollitu irunthinga da"
          ],
          [
           " Darani(MIC)",
           "Afternoon 1 class than iruku"
          ],
          [
           " Darani(MIC)",
           "So full day leave potudalam"
          ],
          [
           " Avinash MIC",
           "Ok dhan"
          ],
          [
           " Avinash MIC",
           "Maybe adda attendance adi vangalam"
          ],
          [
           " Harish20205",
           "Yes illana Nan debar aaiduven"
          ],
          [
           " Darani(MIC)",
           "Paathukalam da"
          ],
          [
           " Darani(MIC)",
           "Dei Ashwin nee thana da sonna, nalaiku mrg leave podalam nu ?"
          ],
          [
           " Ashwin MIC",
           "ADDA polam.."
          ],
          [
           " Darani(MIC)",
           "Athu mattuma ?"
          ],
          [
           " Darani(MIC)",
           "Seri ok"
          ],
          [
           " Santhosh Vit",
           "Nanbargale"
          ],
          [
           " Santhosh Vit",
           "Adda quiz"
          ],
          [
           " Darani(MIC)",
           "Dei harish"
          ],
          [
           " Darani(MIC)",
           "Ennoda note cloud class la iruku da"
          ],
          [
           " Harish20205",
           "Eduthuten"
          ],
          [
           " Harish20205",
           "En kitta than iruuku"
          ],
          [
           " Harish20205",
           "Class mudincha?"
          ],
          [
           " Darani(MIC)",
           "Mudinchu"
          ],
          [
           " Harish20205",
           "Enga irukinga?"
          ],
          [
           " Ashwin MIC",
           "Enna assessment da?"
          ],
          [
           " Harish20205",
           "ungaloda  Crypto book eduthutu vanga da @all <This message was edited>"
          ],
          [
           " Santhosh Vit",
           "Adda imps irukka"
          ],
          [
           " Darani(MIC)",
           "Iruku"
          ],
          [
           " Santhosh Vit",
           "Nanbargale 3rd kashtama irukku"
          ],
          [
           " Ganapathy (MIC)",
           "Mudutchutu annupu da"
          ],
          [
           " Harish20205",
           "Ganapathy 1,2 question anupuda"
          ],
          [
           " Santhosh Vit",
           "Appadiyae per potu anupidu 😁"
          ],
          [
           " Ganapathy (MIC)",
           "general la annupuran per mattum matghiko"
          ],
          [
           " Ganapathy (MIC)",
           "ithe maari mathavanga mathikonga"
          ],
          [
           " Ganapathy (MIC)",
           "maranthu pdf annupitan"
          ],
          [
           " Darani(MIC)",
           "Antha cloud DA mudichitingala da ?"
          ],
          [
           " Ashwin MIC",
           "Jaga eduku irukan"
          ],
          [
           " Santhosh Vit",
           "Ithu irukku da"
          ],
          [
           " Santhosh Vit",
           "Harish tha sollanum"
          ],
          [
           " Darani(MIC)",
           "Theriyala"
          ],
          [
           " Harish20205",
           "Panni amikiren da night kulla"
          ],
          [
           " Darani(MIC)",
           "Naan 26 🤯"
          ],
          [
           " Harish20205",
           "Ganpati?"
          ],
          [
           " Darani(MIC)",
           "Santhosh, avinash ?"
          ],
          [
           " Darani(MIC)",
           "Ellar peraiyum potachu 😌"
          ],
          [
           " Ashwin MIC",
           "ana Yaarum online la illa😂"
          ],
          [
           " Ashwin MIC",
           "anna yaaaru Ganapathyyyyyyyyyy"
          ],
          [
           " Jagadeeswaran MIC",
           "nalla kelvinga. ennanga ponga"
          ],
          [
           " Darani(MIC)",
           "Marakama vaangi kuduthudunga"
          ],
          [
           " Ganapathy (MIC)",
           "sts assesment um mark vanthurutchu"
          ],
          [
           " Harish20205",
           "Open stack avlothaan"
          ],
          [
           " Jagadeeswaran MIC",
           "enkitta ipo laptop ila"
          ],
          [
           " Harish20205",
           "Nan veliye iruken"
          ],
          [
           " Santhosh Vit",
           "Arumai"
          ],
          [
           " Ganapathy (MIC)",
           "adhu veriya evalo nee"
          ],
          [
           " Ashwin MIC",
           "Varala"
          ],
          [
           " Santhosh Vit",
           "printout edukanuma"
          ],
          [
           " Ganapathy (MIC)",
           "sjt 418 naan"
          ],
          [
           " Jagadeeswaran MIC",
           "5 unakku?"
          ],
          [
           " Ganapathy (MIC)",
           "Enakku 6"
          ],
          [
           " Jagadeeswaran MIC",
           "aama da"
          ],
          [
           " Jagadeeswaran MIC",
           "Ganapathy unakku da?"
          ],
          [
           " Ashwin MIC",
           "Avanuku 6 to 9 pola"
          ],
          [
           " Ganapathy (MIC)",
           "enakku 6 kalaila"
          ],
          [
           " Ashwin MIC",
           "Ennada solraaa"
          ],
          [
           " Ganapathy (MIC)",
           "aama"
          ],
          [
           " Ashwin MIC",
           "Aniki OD varuma?"
          ],
          [
           " Harish20205",
           "Class mudincha?"
          ],
          [
           " Harish20205",
           "Eppo mudiyum?"
          ],
          [
           " Ganapathy (MIC)",
           "Unakku mudunjutha"
          ],
          [
           " Darani(MIC)",
           "Team - 1  Harish KB (Leader) Jagadees Ganapathy Darani"
          ],
          [
           " Darani(MIC)",
           "Team 2  Ashwin Avinash Santhosh Varshan"
          ],
          [
           " Santhosh Vit",
           "Arumai"
          ],
          [
           " Darani(MIC)",
           "Sri Jai Ganapathy S N, 22MIC0012 Jagadeeswaran M, 22MIC0023 Daranivelan V A, 22MIC0025"
          ],
          [
           " Harish20205",
           "Theva illa"
          ],
          [
           " Santhosh Vit",
           "varshan reg no"
          ],
          [
           " Jagadeeswaran MIC",
           "Kettu solran"
          ],
          [
           " Santhosh Vit",
           "Varshan podrana da?"
          ],
          [
           " Jagadeeswaran MIC",
           "Leader santhosh thana?"
          ],
          [
           " Ashwin MIC",
           "Amaa"
          ],
          [
           " Santhosh Vit",
           "Varshan podalam da"
          ],
          [
           " Harish20205",
           "\"THATHA PHONK\"  Veida"
          ],
          [
           " Ashwin MIC",
           "Maatha solu"
          ],
          [
           " Jagadeeswaran MIC",
           "Ennanu"
          ],
          [
           " Ashwin MIC",
           "Keluu"
          ],
          [
           " Jagadeeswaran MIC",
           "Solliyachu"
          ],
          [
           " Ganapathy (MIC)",
           "Slot kammi da"
          ],
          [
           " Avinash MIC",
           "but mostly kedaikathu 🙃"
          ],
          [
           " Darani(MIC)",
           "paathukalam"
          ],
          [
           " Santhosh Vit",
           "crypto DA yarna pannitu irukkingala?"
          ],
          [
           " Santhosh Vit",
           "Ithu full answer illa"
          ],
          [
           " Santhosh Vit",
           "Nalla paaru"
          ],
          [
           " Santhosh Vit",
           "Enna?"
          ],
          [
           " Santhosh Vit",
           "12 ae podu paathukalam"
          ],
          [
           " Avinash MIC",
           "2 min dhan agum"
          ],
          [
           " Santhosh Vit",
           "Mudiyathu"
          ],
          [
           " Santhosh Vit",
           "ithe faculty thana da eduka porom"
          ],
          [
           " Darani(MIC)",
           "Nariya per 323 edukaranga da"
          ],
          [
           " Avinash MIC",
           "technical English 1 edukalam aprama thokirlam??"
          ],
          [
           " Jagadeeswaran MIC",
           "ethuku da?"
          ],
          [
           " Avinash MIC",
           "summa dhan"
          ],
          [
           " Jagadeeswaran MIC",
           "apo ethuku da?"
          ],
          [
           " Avinash MIC",
           "un ishtam dhan, maybe use agalam"
          ],
          [
           " Ganapathy (MIC)",
           "Neenga sollradhu dhan da"
          ],
          [
           " Santhosh Vit",
           "Podunga"
          ],
          [
           " Darani(MIC)",
           "Dei venam da"
          ],
          [
           " Harish20205",
           "LOGIC DA yarachum mudichingala?"
          ],
          [
           " Darani(MIC)",
           "Naan mudichitan"
          ],
          [
           " Santhosh Vit",
           "Cloud quiz link vantha sollunga da"
          ],
          [
           " Harish20205",
           "QUIZ AH MUDICHITINGA NA KB AH ANUPUNGA"
          ],
          [
           " Darani(MIC)",
           "Epdi irunthalum quiz timing mudinchu"
          ],
          [
           " Darani(MIC)",
           "Poi velaiya paaru"
          ],
          [
           " Santhosh Vit",
           "5 mins irukku"
          ],
          [
           " Santhosh Vit",
           "Quiz irukkalam"
          ],
          [
           " Darani(MIC)",
           "Inniku quiz illa da"
          ],
          [
           " Darani(MIC)",
           "But naan varan"
          ],
          [
           " Harish20205",
           "Boizz yarachum enaku crypto DA Submit pannunga   HARISH20205 Naruto@20205  Plz da"
          ],
          [
           " Avinash MIC",
           "tomorrow polama?"
          ],
          [
           " Avinash MIC",
           "oh pnatingala and xerox eduthacha?"
          ],
          [
           " Avinash MIC",
           "cabin enga iruku?"
          ],
          [
           " Avinash MIC",
           "and bonfide company kita irundhu vangiyacha @919976795710"
          ],
          [
           " Harish20205",
           "Romba perusa iruku athu"
          ],
          [
           " Ganapathy (MIC)",
           "Adda ....!!!"
          ],
          [
           " Harish20205",
           "POLL: Tomorrow afternoon veliya sapda polam (strictly no kushka) OPTION: Yes (6 votes) OPTION: No (0 votes)"
          ],
          [
           " Santhosh Vit",
           "exam mudichitu polaiya da"
          ],
          [
           " Santhosh Vit",
           "last naal"
          ],
          [
           " Darani(MIC)",
           "Adda ....!!!"
          ],
          [
           " Darani(MIC)",
           "Inniku than last date"
          ],
          [
           " Ashwin MIC",
           "Suma..."
          ],
          [
           " Avinash MIC",
           "But namba 143 creds and phy 1901 mudikalaye 🙃"
          ],
          [
           " Avinash MIC",
           "Terla for iip, lsm but Tarp ku ithu dhan requirements"
          ],
          [
           " Santhosh Vit",
           "Ithuva"
          ],
          [
           " Santhosh Vit",
           "enna topic"
          ],
          [
           " Darani(MIC)",
           "Topic eh kekalaiye da"
          ],
          [
           " Darani(MIC)",
           "Topic keturukangala enna ??"
          ],
          [
           " Santhosh Vit",
           "kekaliya"
          ],
          [
           " Jagadeeswaran MIC",
           "Tharkuries"
          ],
          [
           " Darani(MIC)",
           "Dei santhosh eh"
          ],
          [
           " Darani(MIC)",
           "Team theriyuma theriyatha da"
          ],
          [
           " Darani(MIC)",
           "Loosu maari team poturuka"
          ],
          [
           " Santhosh Vit",
           "Maathidu da"
          ],
          [
           " Santhosh Vit",
           "Sumimasen"
          ],
          [
           " Darani(MIC)",
           "Naan yen da maathanum"
          ],
          [
           " Darani(MIC)",
           "Poda dei"
          ],
          [
           " Santhosh Vit",
           "Naliki maathuren"
          ],
          [
           " Ganapathy (MIC)",
           "ithu enna theory plus lab a"
          ],
          [
           " Darani(MIC)",
           "Ganapathy than mutton biryani 🥳"
          ],
          [
           " Darani(MIC)",
           "Enna da pesuran ivan"
          ],
          [
           " Ganapathy (MIC)",
           "Naan ashwin nu nenaikran"
          ],
          [
           " Darani(MIC)",
           "Yaar sonna ??"
          ],
          [
           " Jagadeeswaran MIC",
           "Varshan ganapathy Ashwin avinash"
          ],
          [
           " Santhosh Vit",
           "Skill mattum leave podalam da"
          ],
          [
           " Santhosh Vit",
           "Polam nu sollala"
          ],
          [
           " Santhosh Vit",
           "Leave podalam"
          ],
          [
           " Santhosh Vit",
           "9 maniki polam"
          ],
          [
           " Santhosh Vit",
           "Sari"
          ],
          [
           " Ashwin MIC",
           "Darani out"
          ],
          [
           " Santhosh Vit",
           "Dei Monday kooda cut adika porom da"
          ],
          [
           " Santhosh Vit",
           "9 maniki polam"
          ],
          [
           " Santhosh Vit",
           "Aprm theva padumbothu cut adika mudiyathu"
          ],
          [
           " Santhosh Vit",
           "Monday pogala la class ku"
          ],
          [
           " Santhosh Vit",
           "So, tomo 9 ku polan"
          ],
          [
           " Santhosh Vit",
           "Varinga ellarum"
          ],
          [
           " Santhosh Vit",
           "Poll podalam"
          ],
          [
           " Jagadeeswaran MIC",
           "Avan avanuku enna thonutho pannunga daa"
          ],
          [
           " Jagadeeswaran MIC",
           "Ennidam varathirgal tholargale"
          ],
          [
           " Ashwin MIC",
           "Darani ku puriyathu daa"
          ],
          [
           " Ashwin MIC",
           "Pudichathu Naa than"
          ],
          [
           " Santhosh Vit",
           "Enna da solla varanga"
          ],
          [
           " Santhosh Vit",
           "Leave thana"
          ],
          [
           " Jagadeeswaran MIC",
           "aama"
          ],
          [
           " Jagadeeswaran MIC",
           "athu paithiyam"
          ],
          [
           " Jagadeeswaran MIC",
           "loosu"
          ],
          [
           " Santhosh Vit",
           "Ithu varaikum doubt aa irunthuchi"
          ],
          [
           " Santhosh Vit",
           "Ippa conform"
          ],
          [
           " Ashwin MIC",
           "Deii thirupi grp vitu veliya ponum ah?"
          ],
          [
           "system",
           "Darani(MIC) removed Ashwin MIC"
          ],
          [
           "system",
           "Darani(MIC) added Ashwin MIC"
          ],
          [
           " Santhosh Vit",
           "Amitabha 🙏🏻🙏🏻"
          ],
          [
           " Santhosh Vit",
           "Ennathu ithu guyzz"
          ],
          [
           " Darani(MIC)",
           "Ithu avanga class DA"
          ],
          [
           " Darani(MIC)",
           "Ithu namma assignment"
          ],
          [
           " Santhosh Vit",
           "minna-san  IIP  DA varainuma illa google la irunthu images vechi pannalama?"
          ],
          [
           " Santhosh Vit",
           "dekimashita ka?"
          ],
          [
           " Santhosh Vit",
           "3rd module evalo da padikanum"
          ],
          [
           " Ashwin MIC",
           "Deiii calculator venum da.. room la extra iruntha marakama eduthunu vaa da .."
          ],
          [
           " Santhosh Vit",
           "Eduthuten"
          ],
          [
           " Darani(MIC)",
           "POLL: Tomorrow afternoon salim dhaba..? OPTION: Polam (4 votes) OPTION: Venam (1 vote)"
          ],
          [
           " Darani(MIC)",
           "Thambi ithula ella topic um iruku"
          ],
          [
           " Darani(MIC)",
           "Ganapathy treat confirm"
          ],
          [
           " Darani(MIC)",
           "Neenga ?"
          ],
          [
           " Harish20205",
           "Avinash ganapathy?"
          ],
          [
           " Darani(MIC)",
           "Naan 35"
          ],
          [
           " Darani(MIC)",
           "Theriyum"
          ],
          [
           " Darani(MIC)",
           "Ithu treat ku varavanga mattum Iruka grp da"
          ],
          [
           " Darani(MIC)",
           "So nee veliya polan intha grp la irunthu"
          ],
          [
           " Jagadeeswaran MIC",
           "Today limbra Ashwin treat"
          ],
          [
           " Darani(MIC)",
           "Pasikuthu"
          ],
          [
           " Darani(MIC)",
           "Sollitu emathathinga"
          ],
          [
           " Darani(MIC)",
           "Poi solravan oru potta da"
          ],
          [
           " Jagadeeswaran MIC",
           "We are never potta"
          ],
          [
           " Darani(MIC)",
           "IIP elutha theva illa"
          ],
          [
           " Jagadeeswaran MIC",
           "Innaika?"
          ],
          [
           " Darani(MIC)",
           "Ellarum oru oru problems photo eduthu, Athuku solution sollanum"
          ],
          [
           " Jagadeeswaran MIC",
           "Alladuvom"
          ],
          [
           " Darani(MIC)",
           "namaku 2nd question thana ??"
          ],
          [
           " Harish20205",
           "BOIZZ ellam DA mudichitingala?"
          ],
          [
           " Jagadeeswaran MIC",
           "Enna da ithu..................?"
          ],
          [
           " Harish20205",
           "namba not interested thana"
          ],
          [
           " Santhosh Vit",
           "Nanbargalae....."
          ],
          [
           " Santhosh Vit",
           "Yaridam aavathu hard disk unda?"
          ],
          [
           " Santhosh Vit",
           "Innum koraikalam"
          ],
          [
           " Harish20205",
           "boiiz ithu okay va?"
          ],
          [
           " Santhosh Vit",
           "Apdiyae ennodathu screenshot eduthala athuvum send karo"
          ],
          [
           " Santhosh Vit",
           "Arigatou"
          ],
          [
           " Jagadeeswaran MIC",
           "room vada harish"
          ],
          [
           " Santhosh Vit",
           "venam da"
          ],
          [
           " Jagadeeswaran MIC",
           "aama"
          ],
          [
           " Santhosh Vit",
           "Naliki sts class cut adikalama?"
          ],
          [
           " Darani(MIC)",
           "Today ASSP DA iruku"
          ],
          [
           " Darani(MIC)",
           "ithu ok va paarunga"
          ],
          [
           " Darani(MIC)",
           "Intha DA vum theory DA vum same question"
          ],
          [
           " Darani(MIC)",
           "Naan verum 5 points than eluthirukan algorithm"
          ],
          [
           " Santhosh Vit",
           "Pakalam"
          ],
          [
           " Darani(MIC)",
           "Tailwind podanuma ??"
          ],
          [
           " Darani(MIC)",
           "Seri ok"
          ],
          [
           " Darani(MIC)",
           "Kadupa iruku"
          ],
          [
           " Ashwin MIC",
           "Deii Matti.. Ivlo lam pana theva illa"
          ],
          [
           " Ashwin MIC",
           "Ithu pothum"
          ],
          [
           " Santhosh Vit",
           "nee sootha moodu"
          ],
          [
           " Darani(MIC)",
           "So ithuve pothuma ??"
          ],
          [
           " Darani(MIC)",
           "Apa aval than ponga da"
          ],
          [
           " Ashwin MIC",
           "@919790373682 intha Matti pechu lam kekatha da"
          ],
          [
           " Darani(MIC)",
           "Ganapathy ketan paaru"
          ],
          [
           " Ganapathy (MIC)",
           "Seri annupuda"
          ],
          [
           " Santhosh Vit",
           "Fat eppa mudiyuthu?"
          ],
          [
           " Santhosh Vit",
           "Intha sem"
          ],
          [
           " Darani(MIC)",
           "Review start aagiducha illaiya da ??"
          ],
          [
           " Darani(MIC)",
           "Ennaku class illa"
          ],
          [
           " Darani(MIC)",
           "Inniku lab submission \"SVM, KNN and Naive Byers\""
          ],
          [
           " Santhosh Vit",
           "moodle la irukurathu da?"
          ],
          [
           " Darani(MIC)",
           "Theriyala da"
          ],
          [
           " Santhosh Vit",
           "IIP irukku guys"
          ],
          [
           " Santhosh Vit",
           "In ml mam enna loosu koo va da.. Date ippa maathitu etho april 3 tha iruntha maari pesitu irukku"
          ],
          [
           " Darani(MIC)",
           "Athan da 🤣"
          ],
          [
           " Darani(MIC)",
           "Ithu individual assignment ra"
          ],
          [
           " Darani(MIC)",
           "Antha pic kuda chatgpt than kuduthuchu"
          ],
          [
           " Ashwin MIC",
           "Call Ganapathy"
          ],
          [
           " Santhosh Vit",
           "IIP mudichitu varen"
          ],
          [
           " Santhosh Vit",
           "dei potta DA mudi da"
          ],
          [
           " Ashwin MIC",
           "Mudichita da potta"
          ],
          [
           " Ashwin MIC",
           "Seri kk"
          ],
          [
           " Ashwin MIC",
           "Vaangadaa"
          ],
          [
           " Darani(MIC)",
           "Tho vantan"
          ],
          [
           " Santhosh Vit",
           "vkdragger map etha sollu da"
          ],
          [
           " Ganapathy (MIC)",
           "Ethittu irrukan"
          ],
          [
           " Ashwin MIC",
           "Darani yaruda antha vkdrager"
          ],
          [
           " Santhosh Vit",
           "innoruthan varan"
          ],
          [
           " Darani(MIC)",
           "Vera map podu"
          ],
          [
           " Darani(MIC)",
           "Intha map chinnatha iruku"
          ],
          [
           " Darani(MIC)",
           "Vera map poduda"
          ],
          [
           " Santhosh Vit",
           "enna map"
          ],
          [
           " Santhosh Vit",
           "nute town illa"
          ],
          [
           " Darani(MIC)",
           "Etho onnu"
          ],
          [
           " Santhosh Vit",
           "download podala"
          ],
          [
           " Ashwin MIC",
           "Tdm podra"
          ],
          [
           " Ashwin MIC",
           "Na kelambara daa Byeee"
          ],
          [
           " Santhosh Vit",
           "ganja?"
          ],
          [
           " Darani(MIC)",
           "Avanum ganapathy um saptutu irukanga"
          ],
          [
           " Darani(MIC)",
           "Saptu varuvanga"
          ],
          [
           " Darani(MIC)",
           "Namba ippa vilayadalam"
          ],
          [
           " Santhosh Vit",
           "Appo na charge podren"
          ],
          [
           " Santhosh Vit",
           "Avanga vantha sollu"
          ],
          [
           " Ashwin MIC",
           "Vkdrager yarda?"
          ],
          [
           " Darani(MIC)",
           "Naan oru 10 mins la varan da"
          ],
          [
           " Ashwin MIC",
           "Deii varalaya daa"
          ],
          [
           " Santhosh Vit",
           "vanga nanbargale"
          ],
          [
           " Ashwin MIC",
           "Evlo neram daa.."
          ],
          [
           " Ganapathy (MIC)",
           "Vantom"
          ],
          [
           " Ganapathy (MIC)",
           "Darani 2 mins"
          ],
          [
           " Darani(MIC)",
           "Hardpoint podu da"
          ],
          [
           " Ashwin MIC",
           "Deii na kelambara"
          ],
          [
           " Darani(MIC)",
           "Dei hardpoint eh poduda"
          ],
          [
           " Darani(MIC)",
           "Tdm podu da"
          ],
          [
           " Darani(MIC)",
           "Kill house podu da"
          ],
          [
           " Darani(MIC)",
           "Tdm podu da"
          ],
          [
           " Darani(MIC)",
           "Dei veliya vaa da"
          ],
          [
           " Darani(MIC)",
           "Jagadees ku net illa"
          ],
          [
           " Darani(MIC)",
           "Innoru match podalam"
          ],
          [
           " Darani(MIC)",
           "Tho vantu irukan da"
          ],
          [
           " Darani(MIC)",
           "Padichitiya ??"
          ],
          [
           " Santhosh Vit",
           "Innun eluthiyae mudikala"
          ],
          [
           " Darani(MIC)",
           "Naanum last pdf than"
          ],
          [
           " Santhosh Vit",
           "Arumai"
          ],
          [
           " Santhosh Vit",
           "Ulla tha irukken"
          ],
          [
           " Santhosh Vit",
           "Charge gaali"
          ],
          [
           " Santhosh Vit",
           "Aprm varen"
          ],
          [
           " Ganapathy (MIC)",
           "Santhosh vaa da"
          ],
          [
           " Darani(MIC)",
           "Ippa"
          ],
          [
           " Ashwin MIC",
           "Cod vaangada"
          ],
          [
           " Darani(MIC)",
           "Tho vantan"
          ],
          [
           " Santhosh Vit",
           "5th module illaiya da"
          ],
          [
           " Santhosh Vit",
           "3rd mod ethala irunthu"
          ],
          [
           " Jagadeeswaran MIC",
           "ML DA irukku da"
          ],
          [
           " Jagadeeswaran MIC",
           "Therila"
          ],
          [
           " Ashwin MIC",
           "Rana bitch"
          ],
          [
           " Ashwin MIC",
           "Rana out"
          ],
          [
           " Darani(MIC)",
           "Except Jagadees, everyone can vote"
          ],
          [
           " Santhosh Vit",
           "Software DA Ethana pages irukanum"
          ],
          [
           " Darani(MIC)",
           "Kmeans"
          ],
          [
           " Jagadeeswaran MIC",
           "@917418967740 ok va nu paaru da"
          ],
          [
           " Jagadeeswaran MIC",
           "athu maathikalam"
          ],
          [
           " Avinash MIC",
           "pakren da"
          ],
          [
           " Avinash MIC",
           "looks good overall @919976795710   1. section 5.2 and 5.3 illaya? 2. chapter wise pdf a separate pananum 3. chapter 3 and 4 content short ah feel aguthu 4. ennoda reg no mathanum da"
          ],
          [
           " Avinash MIC",
           "1. appo future work 5.2 nu mathu da"
          ],
          [
           " Avinash MIC",
           "pakren"
          ],
          [
           " Avinash MIC",
           "page no 11   (likely using a testnet like Sepolia) (based on the project structure)  ithulam vara kudathu da"
          ]
         ],
         "hovertemplate": "cluster_label=Enna, Ithu, Iruku, Illa, Ganapathy, Class, Podalam, Logic, Madhu, Dhan<br>PCA Component 1=%{x}<br>PCA Component 2=%{y}<br>user=%{customdata[0]}<br>message=%{customdata[1]}<extra></extra>",
         "legendgroup": "Enna, Ithu, Iruku, Illa, Ganapathy, Class, Podalam, Logic, Madhu, Dhan",
         "marker": {
          "color": "#636efa",
          "opacity": 0.8,
          "size": 10,
          "symbol": "circle"
         },
         "mode": "markers",
         "name": "Enna, Ithu, Iruku, Illa, Ganapathy, Class, Podalam, Logic, Madhu, Dhan",
         "showlegend": true,
         "type": "scattergl",
         "x": {
          "bdata": "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",
          "dtype": "f4"
         },
         "xaxis": "x",
         "y": {
          "bdata": "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",
          "dtype": "f4"
         },
         "yaxis": "y"
        },
        {
         "customdata": [
          [
           "system",
           "You're now an admin"
          ],
          [
           "system",
           "You're no longer an admin"
          ],
          [
           "system",
           "You're now an admin"
          ],
          [
           "system",
           "Ganapathy (MIC) changed the settings so only admins can edit the group settings"
          ],
          [
           "system",
           "Ganapathy (MIC) changed this group's settings to allow only admins to send messages to this group"
          ],
          [
           "system",
           "Ganapathy (MIC) changed this group's settings to allow only admins to add others to this group."
          ],
          [
           " Darani(MIC)",
           "This message was deleted"
          ],
          [
           " Darani(MIC)",
           "This message was deleted"
          ],
          [
           " Darani(MIC)",
           "This message was deleted"
          ],
          [
           " Darani(MIC)",
           "This message was deleted"
          ],
          [
           " Darani(MIC)",
           "This message was deleted"
          ],
          [
           " Darani(MIC)",
           "This message was deleted"
          ],
          [
           " Darani(MIC)",
           "This message was deleted"
          ],
          [
           "system",
           "You're no longer an admin"
          ],
          [
           "system",
           "You're now an admin"
          ],
          [
           " Santhosh Vit",
           "Teams meeting vanga da"
          ],
          [
           " Harish20205",
           "https://docs.google.com/forms/d/e/1FAIpQLScOajh-oSERBDDixGqCz4i6uszrPJ_wbWIF8_rPTf8MWWnrfg/viewform"
          ],
          [
           " Avinash MIC",
           "Select the Virtual machine representations  * 1 point DAG Bytecodes Postfix notation Triples"
          ],
          [
           " Avinash MIC",
           "Bytecodes"
          ],
          [
           " Avinash MIC",
           "Substitution of values for names whose values are constant, is done in  * 1 point Constant folding Local optimization Loop optimization None of these"
          ],
          [
           " Avinash MIC",
           "Constant Folding"
          ],
          [
           " Darani(MIC)",
           "Last day, April - 19"
          ],
          [
           " Santhosh Vit",
           "https://forms.gle/FzqteK122daEd5wX6"
          ],
          [
           " Santhosh Vit",
           "Attendance"
          ],
          [
           " Santhosh Vit",
           "https://forms.gle/Uep7CoGK5a6VrNuH6"
          ],
          [
           " Santhosh Vit",
           "https://forms.gle/eWbbERznFUsJN29V7"
          ],
          [
           " Santhosh Vit",
           "This message was deleted"
          ],
          [
           " Santhosh Vit",
           "Rollno underscore name"
          ],
          [
           " Santhosh Vit",
           "Joinmyquiz.com"
          ],
          [
           " Santhosh Vit",
           "Fast"
          ],
          [
           " Avinash MIC",
           "avinash.h2022@vitstudent.ac.in"
          ],
          [
           " Ashwin MIC",
           "ashwin.v2022a@vitstudent.ac.in"
          ],
          [
           " Santhosh Vit",
           "santhosh.2022@vitstudent.ac.in"
          ],
          [
           " Santhosh Vit",
           "null"
          ],
          [
           " Santhosh Vit",
           "Compiler design quiz 2 syllabus"
          ],
          [
           " Avinash MIC",
           "https://schoolcheats.net/quizizz"
          ],
          [
           " Darani(MIC)",
           "Quiz da"
          ],
          [
           " Jagadeeswaran MIC",
           "This message was deleted"
          ],
          [
           " Darani(MIC)",
           ".model small .stack 100h .data secret_password db 'SHALINI22MIC0053' ; input_password db 20 DUP ('$') ; success_msg db 10,13, 'Password is correct. Congratulations!$' error_msg db 10,13, 'Invalid password. Please try again.$' .code main proc mov ax, @data mov ds, ax ; Display prompt for user to input password mov dx, offset input_password mov ah, 0Ah int 21h ; Compare input password with secret password mov si, offset secret_password mov di, offset input_password + 2 ; xor cx, cx ; check_loop: lodsb ; cmp al, '$' ; je password_matched cmp al, [di] ; jne password_mismatch inc di loop check_loop password_matched: ; Display success message mov dx, offset success_msg mov ah, 09h int 21h jmp exit_program password_mismatch: ; Display error message mov dx, offset error_msg mov ah, 09h int 21h exit_program: mov ah, 4Ch int 21h main endp end main"
          ],
          [
           " Darani(MIC)",
           "FOR PASSWORD VALIDATION THIS ONE WORKS"
          ],
          [
           " Darani(MIC)",
           "Except Fibonacci for all codes outputs are crt"
          ],
          [
           " Santhosh Vit",
           "Summer course"
          ],
          [
           " Santhosh Vit",
           "Software important questions sollu"
          ],
          [
           " Santhosh Vit",
           "Mass na nee"
          ],
          [
           " Ashwin MIC",
           "Bayammmmm!!!"
          ],
          [
           " Harish20205",
           "https://chat.whatsapp.com/I8KEbf1PfVN1jtuK2RVBki"
          ],
          [
           "system",
           "You pinned a message"
          ],
          [
           " Harish20205",
           "You deleted this message"
          ],
          [
           " Harish20205",
           "You deleted this message"
          ],
          [
           " Harish20205",
           "You deleted this message"
          ],
          [
           " Harish20205",
           "You deleted this message"
          ],
          [
           " Darani(MIC)",
           ".MODEL SMALL .STACK 100H  .DATA length DW 10    ; Length of the rectangle width DW 5      ; Width of the rectangle area DW ?         ; Variable to store the result  .CODE MAIN PROC MOV AX, @DATA   ; Initialize data segment MOV DS, AX  FLD length      ; Load length onto the FPU stack FLD width       ; Load width onto the FPU stack FMUL  st(0), st(1)           ; Multiply length by width  FSTP area  MOV AH, area  MOV AH, 4CH     ; Exit program INT 21H         ; DOS interrupt MAIN ENDP    END MAIN"
          ],
          [
           " Darani(MIC)",
           "Area of Rectangle"
          ],
          [
           " Darani(MIC)",
           "This message was deleted"
          ],
          [
           " Darani(MIC)",
           "This message was deleted"
          ],
          [
           " Darani(MIC)",
           ".MODEL SMALL .STACK 100H  .DATA  radius DW 5.8 area DW ?  .CODE MAIN PROC MOV AX, @DATA   ; Initialize data segment MOV DS, AX  FLD radius FMUL FLDPI FMUL  FSTP area  MOV AH, area  MOV AH, 4CH     ; Exit program INT 21H         ; DOS interrupt MAIN ENDP  END MAIN"
          ],
          [
           " Darani(MIC)",
           "Area of Circle"
          ],
          [
           "system",
           "Ashwin MIC pinned a message"
          ],
          [
           "system",
           "Ashwin MIC pinned a message"
          ],
          [
           " Harish20205",
           "C2 Slot  EER Conflict / View Serializability Inter query and Intra query parallelism Data partition Parallel database fragmentation(horizontal, vertical and hybrid) 2 phase commit protocol Spatial database R- Tree Indexing Location management Cloud database Active database - Arch, functionality, reliability and scalability Temporal database Threats in security models database Concurrency control Multimedia querying"
          ],
          [
           "system",
           "Darani(MIC) pinned a message"
          ],
          [
           "system",
           "You pinned a message"
          ],
          [
           " Darani(MIC)",
           "12th"
          ],
          [
           " Darani(MIC)",
           "11th"
          ],
          [
           "system",
           "You pinned a message"
          ],
          [
           "system",
           "You pinned a message"
          ],
          [
           " Darani(MIC)",
           "#include <stdio.h> #include <stdlib.h>  #define n 16  int total = 0;  void checkPos(int[n][n], int, int); int isSafe(int[n][n], int, int);  int main() { int matrix[n][n];  for (int i=0; i<n; i++) { for (int j=0; j<n; j++) { matrix[i][j] = 0; } }  int row=0, col=0;  checkPos(matrix, row, col);  printf(\"\\nTotal Solutions: %d\\n\", total); }  void checkPos(int matrix[n][n], int row, int col) { if (col >= n) { total++; printf(\"Solution - %d:\\n\", total); for (int i=0; i<n; i++) { for (int j=0; j<n; j++) { printf(\"%d \", matrix[i][j]); } printf(\"\\n\"); } printf(\"\\n\"); return; }  for (int i=0; i<n; i++) { if (isSafe(matrix, i, col)) { matrix[i][col] = 1; checkPos(matrix, row+1, col+1); matrix[i][col] = 0; } } }  int isSafe(int matrix[n][n], int row, int col) { for (int i=0; i<col; i++) { if (matrix[row][i]) { return 0; } } for (int i=row, j=col; i>=0 && j>=0; i--, j--) { if (matrix[i][j]) { return 0; } } for (int i=row, j=col; i<n && j>=0; i++, j--) { if (matrix[i][j]) { return 0; } } return 1; }"
          ],
          [
           " Harish20205",
           "FAT mod1 2 10 mark Phases of compiler 6 phases One program will be given through all phases output Regular to DFA direct method Few 2 marks ( tokens available,lexems)  Mod2 2 10 marks 5 mark grammer given eliminate ambiguity Types of top down 10 marks-LLR(1) Parsing 5 marks -Recursive decent parsing ( write the procedure for all terminals) Some theory ( what is the rule of parser, diff bet parser and syntax tree)  Mod3 2 10 marks Shift reduce parse Alternative precedence parce Slr clr lalr  Mod4 1 10 marks SDT Scheme L attributed and r attributed SDT for assignment and bool and if statements looping switch case( production rules )  Mod5 Syntax tree Post fix Three address ( all types) Gen three add and represent in quad triple etc format Gen 3 add using SDT backpatching  Mod6 2 10 marks Code given apply optimisation technique Loop optimisation DAG construction( code given turn into 3 address then to flow then dag  Mod 7 From 3 add to assembly Issue in the design of code generation Optimisation of basic blocks Peephole optimisation"
          ],
          [
           " Darani(MIC)",
           "https://youtu.be/y0eB8I4vZZ8?si=ryUmK0kTpp8XA173"
          ],
          [
           " Jagadeeswaran MIC",
           "This message was deleted"
          ],
          [
           " Santhosh Vit",
           "Intha questions la nalla pathukonga da <This message was edited>"
          ],
          [
           " Jagadeeswaran MIC",
           "Ok nga in questions"
          ],
          [
           " Santhosh Vit",
           "July"
          ],
          [
           " Santhosh Vit",
           "Date therla"
          ],
          [
           " Avinash MIC",
           "16 prolly"
          ],
          [
           " Santhosh Vit",
           "https://www.geeksforgeeks.org/route-poisoning-and-count-to-infinity-problem-in-routing/"
          ],
          [
           " Santhosh Vit",
           "https://www.geeksforgeeks.org/difference-between-encapsulation-and-decapsulation/"
          ],
          [
           " Santhosh Vit",
           "https://www.geeksforgeeks.org/delays-in-computer-network/"
          ],
          [
           " Darani(MIC)",
           "Antha competitive coding"
          ],
          [
           " Darani(MIC)",
           "Assignment"
          ],
          [
           " Avinash MIC",
           "@919790373682 kelu pa unga senior ta"
          ],
          [
           " Darani(MIC)",
           "⭕⭕⭕⭕⭕⭕ As all of you must be aware, you will have to submit a report as the final assessment of this course. Here are the things that your report must contain:  1. A brief description of all the tech events that you attended after registering for the course in the table (provided in the template). 2. A brief description of all the sessions conducted under the competitive coding course on the next page (max 1 page). 3. Research and make a 200-250 word write up on the uses and working of a hashmap. 4. Research and make a 200-250 word write up on Randomised Quick Sort. You may include whatever you see fit.  The first page of your report should have your name, registration number, course name and the course code. For the rest, there is no specific format, just make sure to use appropriate heading for the given 3 tasks.  The file upload is under Examinations > ECA File Upload on VTOP. If you already have a file uploaded there, edit it and upload this report.  Deadline: 31st May 2024. Make sure you upload the report before this date or else it may result in you failing this course.  You can use the template provided.  for any queries you can contact @918910553223  or me"
          ],
          [
           " Darani(MIC)",
           "250 words about hashmap"
          ],
          [
           " Darani(MIC)",
           "250 words about quicksort"
          ],
          [
           " Santhosh Vit",
           "Okay"
          ],
          [
           " Darani(MIC)",
           "## Hashmaps: Key-Value Pairs for Speedy Retrieval  Hashmaps are a fundamental data structure found in many programming languages. They store information like a dictionary, but with a twist: data is organized using key-value pairs. Each unique key acts like a label, allowing for quick retrieval of its associated value.  Imagine a phonebook - each name (key) points you to a phone number (value). Similarly, a hashmap lets you store any kind of data. Keys can be strings, numbers, or even custom objects, as long as they are unique. Values can be anything you want - another string, a list, or even another hashmap!  So how does this speedy retrieval work? Hashmaps use a special technique called hashing. When you add a key-value pair, the key is passed through a hashing function, which transforms it into a unique index within the hashmap. This index allows for direct access to the value, significantly faster than searching a linear list.  Here are some common uses of hashmaps:  * **User profiles:** Websites store user data (name, email) using hashmaps, with the username as the key. * **Shopping carts:** Online stores use hashmaps to keep track of items in your cart, with the product ID as the key and quantity as the value. * **In-memory caching:** Applications can store frequently accessed data in a hashmap for faster retrieval than a database.  Hashmaps offer a powerful and versatile way to organize information. Their ability to store and retrieve data using unique keys makes them a popular choice for various programming tasks."
          ],
          [
           " Darani(MIC)",
           "## Randomized Quicksort: Taming the Worst with a Touch of Chance  Quicksort is a divide-and-conquer sorting algorithm known for its efficiency. However, it suffers from a worst-case scenario where choosing a bad pivot element leads to a slow runtime. Randomized Quicksort tackles this by introducing a touch of luck!  Here's how regular Quicksort works: 1. Pick a pivot element (often the first or last element). 2. Partition the list: elements smaller than the pivot go to the left, larger ones to the right. 3. Recursively sort the left and right sub-lists.  The problem arises when the pivot consistently ends up being the largest or smallest element. This creates very unbalanced sub-lists, leading to a high number of comparisons and a slow sort.  Randomized Quicksort throws a die (figuratively) by choosing the pivot element randomly from the list. This simple change has a dramatic effect:  * The chance of consistently picking the worst pivot becomes extremely low. * The average runtime complexity becomes O(n log n), making it very efficient for most inputs.  There are two ways to implement random pivot selection:  1. **Randomly choose an element** from the list and swap it with the actual pivot (often the last element). 2. **Shuffle the entire list** before starting the sort. This ensures a random pivot is chosen implicitly.  Randomized Quicksort offers several advantages:  * **Efficiency:** It maintains the average-case speed of Quicksort while avoiding the worst-case pitfalls. * **Simplicity:** The randomization process is easy to implement. * **Adaptability:** It works well with various data distributions, making it a versatile sorting choice.  However, it's not without drawbacks:  * **Non-determinism:** The random nature can lead to slightly different sorting times for the same input (though the average remains consistent). * **Overhead:** Introducing randomness adds a small overhead compared to the standard Quicksort.  Despite these minor drawbacks, Randomized Quicksort is a powerful and widely used sorting algorithm, offering a robust and efficient way to organize your data."
          ],
          [
           " Santhosh Vit",
           "This message was deleted"
          ],
          [
           " Avinash MIC",
           "Report lam atleast 20 pages mela irukanum da <This message was edited>"
          ],
          [
           " Santhosh Vit",
           "Watha"
          ],
          [
           " Santhosh Vit",
           "This message was deleted"
          ],
          [
           " Santhosh Vit",
           "Aprm?"
          ],
          [
           " Ashwin MIC",
           "Marks out guysss"
          ],
          [
           " Avinash MIC",
           "sts marks 💀"
          ],
          [
           " Avinash MIC",
           "yeahh"
          ],
          [
           " Ashwin MIC",
           "Sts came...."
          ],
          [
           " Ashwin MIC",
           "Actual Grades will be released on 13 June 2024 (Thursday). The Pass criteria and Grading Procedure are available in Academics → Regulations Tab in your login."
          ],
          [
           " Ashwin MIC",
           "Grades out!"
          ],
          [
           " Harish20205",
           "Oh evlo da"
          ],
          [
           " Jagadeeswaran MIC",
           "Guys"
          ],
          [
           " Jagadeeswaran MIC",
           "Suys"
          ],
          [
           " Jagadeeswaran MIC",
           "Guys"
          ],
          [
           " Jagadeeswaran MIC",
           "Guys"
          ],
          [
           " Jagadeeswaran MIC",
           "Guys"
          ],
          [
           " Harish20205",
           "null"
          ],
          [
           " Harish20205",
           "Faculty list came"
          ],
          [
           " Harish20205",
           "Night okay va?"
          ],
          [
           " Avinash MIC",
           "python and machine learning illa 💀"
          ],
          [
           " Darani(MIC)",
           "Mrg or evening or night ??"
          ],
          [
           " Ashwin MIC",
           "Mrng"
          ],
          [
           " Darani(MIC)",
           "Okiee"
          ],
          [
           " Darani(MIC)",
           "Noice"
          ],
          [
           " Harish20205",
           "null"
          ],
          [
           " Darani(MIC)",
           "illa da"
          ],
          [
           " Jagadeeswaran MIC",
           "Evolo credits"
          ],
          [
           " Jagadeeswaran MIC",
           "Arumai <This message was edited>"
          ],
          [
           " Jagadeeswaran MIC",
           "Morning slot?"
          ],
          [
           " Santhosh Vit",
           "POLL: MIC STUDENTS OPTION: Morning theory (5 votes) OPTION: Afternoon theory (0 votes)"
          ],
          [
           "system",
           "You pinned a message"
          ],
          [
           " Ashwin MIC",
           "POLL: Time? OPTION: 4pm (0 votes) OPTION: 5pm (0 votes) OPTION: 6pm (0 votes) OPTION: 7pm (0 votes) OPTION: 8pm (5 votes)"
          ],
          [
           " Ashwin MIC",
           "Discussion time"
          ],
          [
           " Avinash MIC",
           "evalo credits da? @918667672284"
          ],
          [
           " Ganapathy (MIC)",
           "okaaaaay"
          ],
          [
           " Avinash MIC",
           "@everyone ?"
          ],
          [
           " Darani(MIC)",
           "Call"
          ],
          [
           " Darani(MIC)",
           "null"
          ],
          [
           " Harish20205",
           "5 mins da Nan varen"
          ],
          [
           " Darani(MIC)",
           "Okiee"
          ],
          [
           " Darani(MIC)",
           "This message was deleted"
          ],
          [
           " Darani(MIC)",
           "Night"
          ],
          [
           " Avinash MIC",
           "venue 👀😄"
          ],
          [
           " Santhosh Vit",
           "Linear algebra"
          ],
          [
           " Darani(MIC)",
           "Soft Skills (PRP - 414) - D1 + TD1 (FACE) <This message was edited>"
          ],
          [
           " Santhosh Vit",
           "3 options"
          ],
          [
           " Darani(MIC)",
           "front end than"
          ],
          [
           " Avinash MIC",
           "la class da"
          ],
          [
           " Santhosh Vit",
           "Time waste aagum"
          ],
          [
           " Avinash MIC",
           "watha"
          ],
          [
           " Darani(MIC)",
           "POLL: ? OPTION: Madhu (4 votes) OPTION: Das (0 votes) OPTION: Roy (0 votes)"
          ],
          [
           " Darani(MIC)",
           "okiee"
          ],
          [
           "system",
           "Darani(MIC) pinned a message"
          ],
          [
           " Darani(MIC)",
           "Soft Skills (PRP - 414) - D1 + TD1 (FACE)"
          ],
          [
           " Darani(MIC)",
           "okiee"
          ],
          [
           " Avinash MIC",
           "Seniors da"
          ],
          [
           " Darani(MIC)",
           "So problem illa"
          ],
          [
           " Darani(MIC)",
           "Okiee"
          ],
          [
           " Jagadeeswaran MIC",
           "seri apo backup faculties?"
          ],
          [
           " Jagadeeswaran MIC",
           "right uh"
          ],
          [
           " Darani(MIC)",
           "Priority wise than da"
          ],
          [
           " Santhosh Vit",
           "Core  Elective Core Elective"
          ],
          [
           " Jagadeeswaran MIC",
           "done"
          ],
          [
           "system",
           "Ashwin MIC pinned a message"
          ],
          [
           " Darani(MIC)",
           "https://vtopreg.vit.ac.in/access/"
          ],
          [
           " Darani(MIC)",
           "okiee"
          ],
          [
           " Darani(MIC)",
           "Soft Skills (PRP - 414) - D1 + TD1 (FACE)"
          ],
          [
           " Darani(MIC)",
           "Okiee"
          ],
          [
           " Darani(MIC)",
           "1st priority 411 da"
          ],
          [
           " Darani(MIC)",
           "Next uh 414"
          ],
          [
           " Jagadeeswaran MIC",
           "I guess"
          ],
          [
           " Harish20205",
           "null"
          ],
          [
           " Darani(MIC)",
           "Cloud Computing (Ranjith Kumar) - B1 + TB1 (L53 + L54) [CORE] Wireless Networks (Priyanka) - A1 + TA1 (L37 + L38) [ELECTIVE] Cyber Security (Siva Sankari) - C1 + TC1 (L49 + L50) [ELECTIVE] Cryptography (Farooq) - A2 (L51 + L52) [CORE] Linear Algebra (Madhu) - G1 + TG1 [CORE] Computer Architecture (Thirunaukarasan) - E1 + TE1 [ELECTIVE] Logic and Combinators (Malini) - F1 + TF1 [ELECTIVE] <This message was edited>"
          ],
          [
           " Darani(MIC)",
           "This message was deleted"
          ],
          [
           " Avinash MIC",
           "@919976795710"
          ],
          [
           " Avinash MIC",
           "nvmm"
          ],
          [
           " Darani(MIC)",
           "Ithe than"
          ],
          [
           " Jagadeeswaran MIC",
           "@918667672284 @918778310929"
          ],
          [
           " Avinash MIC",
           "Time Table: 🥳 Credits: ☠️"
          ],
          [
           " Darani(MIC)",
           "Nope"
          ],
          [
           " Avinash MIC",
           "vera lab slot?"
          ],
          [
           " Darani(MIC)",
           "Ooho 😕"
          ],
          [
           " Darani(MIC)",
           "F2 free nu"
          ],
          [
           " Avinash MIC",
           "c2 clash"
          ],
          [
           " Avinash MIC",
           "evening slots"
          ],
          [
           " Harish20205",
           "Heloooo"
          ],
          [
           " Harish20205",
           "https://forms.gle/3Hi4bXLqF2t6eX7x9  22MIC students are requested to provide information regarding courses that they were unable to register for due to unavailability of seats during FFCS."
          ],
          [
           " Ashwin MIC",
           "Cyber and comp architecture"
          ],
          [
           " Darani(MIC)",
           "Okiee"
          ],
          [
           " Darani(MIC)",
           "Haa okiee"
          ],
          [
           " Jagadeeswaran MIC",
           "Slot uh?"
          ],
          [
           " Darani(MIC)",
           "Okiee"
          ],
          [
           " Jagadeeswaran MIC",
           "Confirm ah?"
          ],
          [
           " Harish20205",
           "call la vanga da"
          ],
          [
           " Harish20205",
           "ah okay da"
          ],
          [
           " Harish20205",
           "null"
          ],
          [
           " Santhosh Vit",
           "Registration open aaidicham"
          ],
          [
           " Darani(MIC)",
           "Okiee"
          ],
          [
           " Santhosh Vit",
           "Eppo"
          ],
          [
           " Santhosh Vit",
           "Ogayy"
          ],
          [
           " Darani(MIC)",
           "Wild Life Ecology"
          ],
          [
           " Harish20205",
           "https://forms.gle/vnPJUVLiKXe2bxJr8"
          ],
          [
           " Darani(MIC)",
           "https://vtopreg.vit.ac.in/addendum/"
          ],
          [
           " Darani(MIC)",
           "https://forms.gle/wgVGf8cvY2H8mcSr6"
          ],
          [
           " Harish20205",
           "https://chat.whatsapp.com/GMfSIQ5crHBIsOX7HRGwX3"
          ],
          [
           " Darani(MIC)",
           "https://forms.gle/Mo7R2HpKTWfn9Y7K8  22MIC students are requested to fill in this Google Form *as soon as possible* regarding courses that they were unable to register for even after Add/Drop."
          ],
          [
           " Avinash MIC",
           "after \"add/drop\""
          ],
          [
           " Avinash MIC",
           "only f2 and e1 slots"
          ],
          [
           " Darani(MIC)",
           "Haa okiee"
          ],
          [
           " Darani(MIC)",
           "https://docs.google.com/spreadsheets/d/1dynWx7VCpxAMc_Kr1tdUmyjJuSlg9Pz-XWg6oQyA2Vk/edit?usp=sharing  *Those who have filled up the form for additional slots required for this semester, please fill up your cgpa and number of credits registered this semester against your name in the above excel sheet as soon as possible.*"
          ],
          [
           " Avinash MIC",
           "Noice"
          ],
          [
           " Darani(MIC)",
           "Okiee"
          ],
          [
           " Harish20205",
           "https://jobs.careers.microsoft.com/global/en/share/1743242/?utm_source=Job Share&utm_campaign=Copy-job-share"
          ],
          [
           " Darani(MIC)",
           "Assignment - 1, 2"
          ],
          [
           " Avinash MIC",
           "need ans for 2 and 9"
          ],
          [
           " Darani(MIC)",
           "Okiee"
          ],
          [
           " Santhosh Vit",
           "20 mins"
          ],
          [
           " Darani(MIC)",
           "Okiee"
          ],
          [
           " Santhosh Vit",
           "same questions aa da"
          ],
          [
           " Avinash MIC",
           "illa"
          ],
          [
           " Avinash MIC",
           "huhh"
          ],
          [
           " Avinash MIC",
           "rendume different answer 💀"
          ],
          [
           " Santhosh Vit",
           "Cloud"
          ],
          [
           " Harish20205",
           "Next Tuesday class la thana da cloud quiz"
          ],
          [
           "system",
           "You pinned a message"
          ],
          [
           " Santhosh Vit",
           "This message was deleted"
          ],
          [
           " Santhosh Vit",
           "To create test file. vit.adda...... package right click ->junit test <This message was edited>"
          ],
          [
           " Santhosh Vit",
           "To run test ->test file right click->test"
          ],
          [
           " Darani(MIC)",
           "okiee"
          ],
          [
           " Jagadeeswaran MIC",
           "ant application ah da?"
          ],
          [
           " Santhosh Vit",
           "maven"
          ],
          [
           " Darani(MIC)",
           "okiee"
          ],
          [
           " Jagadeeswaran MIC",
           "noice"
          ],
          [
           " Ashwin MIC",
           "null"
          ],
          [
           " Ganapathy (MIC)",
           "https://archive.apache.org/dist/netbeans/netbeans-installers/19/Apache-NetBeans-19.pkg"
          ],
          [
           " Santhosh Vit",
           "5654"
          ],
          [
           " Santhosh Vit",
           "5654"
          ],
          [
           " Santhosh Vit",
           "5654"
          ],
          [
           " Santhosh Vit",
           "5654"
          ],
          [
           " Santhosh Vit",
           "5654"
          ],
          [
           " Santhosh Vit",
           "5654"
          ],
          [
           " Santhosh Vit",
           "5654"
          ],
          [
           " Santhosh Vit",
           "5654"
          ],
          [
           " Santhosh Vit",
           "5654"
          ],
          [
           " Harish20205",
           "6271"
          ],
          [
           " Santhosh Vit",
           "7414"
          ],
          [
           " Darani(MIC)",
           "Ethana per"
          ],
          [
           " Darani(MIC)",
           "Code sollu"
          ],
          [
           " Ganapathy (MIC)",
           "6716"
          ],
          [
           " Ganapathy (MIC)",
           "4155"
          ],
          [
           " Ganapathy (MIC)",
           "6179"
          ],
          [
           " Avinash MIC",
           "6745"
          ],
          [
           " Avinash MIC",
           "Codu"
          ],
          [
           " Avinash MIC",
           "9978"
          ],
          [
           " Avinash MIC",
           "6149"
          ],
          [
           " Avinash MIC",
           "4344"
          ],
          [
           " Santhosh Vit",
           "6585"
          ],
          [
           " Harish20205",
           "4389"
          ],
          [
           " Harish20205",
           "Illa"
          ],
          [
           " Harish20205",
           "1979"
          ],
          [
           " Santhosh Vit",
           "3438"
          ],
          [
           " Darani(MIC)",
           "6928"
          ],
          [
           " Darani(MIC)",
           "3638"
          ],
          [
           " Harish20205",
           "ACHO"
          ],
          [
           " Harish20205",
           "RSA OR ELGAMEL anyone will surely come from 3rd mod"
          ],
          [
           " Harish20205",
           "Full AES DES - theory and numerical from these"
          ],
          [
           " Harish20205",
           "1st mod  Security attacks that theory part Numerical Gcd of 2 number Fermet theorem Euler Totient function Power modulo Fast exponential method"
          ],
          [
           " Darani(MIC)",
           "Linear quiz marks vanthuduchu"
          ],
          [
           " Darani(MIC)",
           "Evlo ?"
          ],
          [
           " Darani(MIC)",
           "https://youtu.be/Q5p0WIa8S0o?si=6pK3xRjwrgPKsCzl"
          ],
          [
           " Darani(MIC)",
           "https://youtu.be/I68uBhHdnM4?si=pgTC4T6xDw4elj2o"
          ],
          [
           " Darani(MIC)",
           "https://youtu.be/5PHMbGr8eOA?si=N2eEtbjjZBgA90eO"
          ],
          [
           " Darani(MIC)",
           "Brain 😌"
          ],
          [
           " Darani(MIC)",
           "This message was deleted"
          ],
          [
           " Darani(MIC)",
           "1st module da"
          ],
          [
           " Santhosh Vit",
           "Ohhhhhhhh"
          ],
          [
           " Ganapathy (MIC)",
           "Service models Scenario based question for service and deployment Rapid elasticity Nsi architecture Virtualization Pros and cons Levels of implementation Virtual cluster Line migrations Key characteristics of architecture Mod 1 2q Mod 2 1 q Mod 3 2q"
          ],
          [
           " Santhosh Vit",
           "Business?"
          ],
          [
           " Harish20205",
           "You deleted this message"
          ],
          [
           " Darani(MIC)",
           "Gauss elimination Gauss Jordan LU factorisation Verification of vector spaces or subspace ( Eg for disprove: counter eg) Linearly independance or dependence , forms basis or not, wt is d dimension of a vector spaces and..."
          ],
          [
           " Jagadeeswaran MIC",
           "Oombal"
          ],
          [
           " Darani(MIC)",
           "Important Pages: 1, 2, 11, 17"
          ],
          [
           " Avinash MIC",
           "3797"
          ],
          [
           " Santhosh Vit",
           "1935"
          ],
          [
           " Harish20205",
           "Hellloo"
          ],
          [
           " Ganapathy (MIC)",
           "Nptel ku"
          ],
          [
           " Darani(MIC)",
           "Okiee"
          ],
          [
           " Darani(MIC)",
           "Phone or Laptop"
          ],
          [
           " Ganapathy (MIC)",
           "Unable to register nu varuthu"
          ],
          [
           " Santhosh Vit",
           "Last date"
          ],
          [
           " Santhosh Vit",
           "Cloud report"
          ],
          [
           " Avinash MIC",
           "nice"
          ],
          [
           " Avinash MIC",
           "chat gpt?"
          ],
          [
           " Avinash MIC",
           "on ec2 instance details"
          ],
          [
           " Santhosh Vit",
           "With screenshots"
          ],
          [
           " Darani(MIC)",
           "Illa da"
          ],
          [
           " Darani(MIC)",
           "Haa ithe than da"
          ],
          [
           " Avinash MIC",
           "Okay"
          ],
          [
           " Avinash MIC",
           "Code"
          ],
          [
           " Santhosh Vit",
           "Nearby"
          ],
          [
           " Avinash MIC",
           "@918667672284 water da"
          ],
          [
           " Darani(MIC)",
           "Illa da 😂"
          ],
          [
           " Avinash MIC",
           "Nice"
          ],
          [
           " Santhosh Vit",
           "https://rapidapi.com/letscrape-6bRBa3QguO5/api/real-time-amazon-data/playground/apiendpoint_82b49a5d-2415-45c2-9fc5-c3a2c60141a0"
          ],
          [
           " Jagadeeswaran MIC",
           "bf5d081b04mshbd04f624e878239p1c36ffjsn57ddbc4ef9b2"
          ],
          [
           " Jagadeeswaran MIC",
           "cf18f231aemsh88b71e0af8d15efp1c9ac1jsn1b7ee3fef1be"
          ],
          [
           " Santhosh Vit",
           "@918667672284 @918248052926 @919894474945"
          ],
          [
           " Ashwin MIC",
           "7b49f3cd46msh77d37f9b59d9c09p111598jsnb49f29350779"
          ],
          [
           " Jagadeeswaran MIC",
           "3b0901424fmsh3c3c9f2456078e8p1f83adjsnaa0cbcbcaec3"
          ],
          [
           " Ashwin MIC",
           "482fed8e82mshef59adb676efalep180e3bjsn1ec050a1d67f"
          ],
          [
           " Darani(MIC)",
           "aba16c8644msh9a56880f626e5eap135f36jsn1b7c09eac847"
          ],
          [
           " Darani(MIC)",
           "4c3b9679b5msh661d91bde710732p1bd294jsnc206848a29c9"
          ],
          [
           " Harish20205",
           "7de61cd3b3msh2ab4f6ce718dab0p1631ccjsnc7db29284589"
          ],
          [
           " Harish20205",
           "2eab10910cmshf262797099a54d4p16549bjsn60861a8e7fbe"
          ],
          [
           " Santhosh Vit",
           "Subscribe to test kuduthingala? <This message was edited>"
          ],
          [
           " Harish20205",
           "c1045d878dmshb3243fb121ca097p195514jsn36103adccedc"
          ],
          [
           " Jagadeeswaran MIC",
           "Okies"
          ],
          [
           " Harish20205",
           "2eab10910cmshf262797099a54d4p16549bjsn60861a8e7fbe"
          ],
          [
           " Ganapathy (MIC)",
           "5708ee1971msh12bd46ed385aaafp1a98fbjsnda2322d51455"
          ],
          [
           " Jagadeeswaran MIC",
           "Varala <This message was edited>"
          ],
          [
           " Darani(MIC)",
           "In a centralized version control system (VCS) like Git, the scrum model and Agile practices can be efficiently integrated by following specific branch management strategies. Here's how I would maintain the source code for the project:  ### 1. **Maintaining Branches** - **Master/Main Branch**: This branch contains stable code that is always production-ready. No direct commits are allowed here; only merges from other branches. - **Develop Branch**: This is the integration branch where all the code for the current sprint is merged after feature development. It's the main branch for active development and collaboration. - **Feature Branches**: Developers (d1, d2, d3) will create feature branches based on the tasks assigned in each sprint. These are branched off from the `develop` branch. Once the feature is complete, it is merged back into `develop`. - Naming convention: `feature/d1-login`, `feature/d2-payment`, etc. - **Release Branches**: When preparing for a release, a `release` branch is created from `develop`. It contains code that has passed all quality checks for the sprint and is ready to be tested by QA. - Naming convention: `release/v1.0`, `release/sprint5` - **Hotfix Branches**: If critical issues arise in production, a hotfix branch can be created from `master` to quickly address them. - Naming convention: `hotfix/login-fix`  ### 2. **Creating Local Repository** - Each developer (d1, d2, d3) and tester (11, 12) will clone the centralized repository onto their local machine using Git. - For feature development or testing, each team member will create their respective branches from `develop` locally. - After local changes, they push to the remote feature branches and create pull requests (PR) for code review and integration.  ### 3. **Maintaining Code for Each Sprint** - At the beginning of each sprint, a sprint planning session determines the features to be developed. Developers create `feature` branches corresponding to these tasks. - Each sprint's code is committed to the `develop` branch after peer reviews, ensuring no broken code is pushed. - At the end of the sprint, the code is reviewed, tested, and merged into the `release` branch to prepare for deployment.  ### 4. **Maintain the Testing Code** - Test engineers (11, 12) will have their own testing branches where they develop and maintain automated tests, likely using branches such as `test/sprint5`. - Test cases and automated scripts for integration and unit tests will be created based on the feature branch. - Test engineers will run tests on the `develop` branch before the code is merged into the `release` branch. - Bug fixes identified by testers will follow the same branch-based workflow, creating issues and having them fixed in feature branches.  ### Preparing Release Code - Before each release, we create a `release` branch from `develop` and run a final round of testing by the test engineers (11, 12). - Once the `release` branch has been verified and passes all tests, it is merged into the `master` branch and tagged with a version number, e.g., `v1.0`. - Any further updates (such as minor fixes) can be handled through the `hotfix` branch. - The `master` branch is always stable and ready for deployment to production environments.  This approach ensures the codebase is well-organized, allows for smooth collaboration in a team, and keeps the development process aligned with scrum and Agile principles."
          ],
          [
           " Darani(MIC)",
           "FROM openjdk:17 WORKDIR /app COPY DockerExample.java /app/ RUN javac DockerExample.java CMD [\"java\", \"DockerExample\"]"
          ],
          [
           " Darani(MIC)",
           "public class DockerExample { public static void main(String[] args) { System.out.println(\"This is the java file executing in the container\"); } }"
          ],
          [
           " Darani(MIC)",
           "docker buildx build -f DockerFile ./DockerSourceCode/ -t javadockertest:v1"
          ],
          [
           " Avinash MIC",
           "correct ah"
          ],
          [
           " Darani(MIC)",
           "Illa da"
          ],
          [
           " Darani(MIC)",
           "okiee"
          ],
          [
           " Ashwin MIC",
           "12.50"
          ],
          [
           " Harish20205",
           "Mess la"
          ],
          [
           " Darani(MIC)",
           "POLL: Tomorrow Leave OPTION: Yes (3 votes) OPTION: No (4 votes)"
          ],
          [
           " Avinash MIC",
           "2 only c <This message was edited>"
          ],
          [
           " Santhosh Vit",
           "https://shopping-cart-self-nu.vercel.app/"
          ],
          [
           " Avinash MIC",
           "Hi there, I want to play Business with you! Please download and install the game. Android: https://play.google.com/store/apps/details?id=business.monopoly.city  iOS: https://itunes.apple.com/us/app/business-monopoly-city/id1392901318?mt=8  MAC: https://apps.apple.com/in/app/business-game-monopolist/id1400136442?mt=12  After installing the game, tap on \"Play With Friends\" and select \"Join Room\" and enter this Room Code 3965.  Thanks!"
          ],
          [
           " Darani(MIC)",
           "Okiee"
          ],
          [
           " Jagadeeswaran MIC",
           "Sjts"
          ],
          [
           " Harish20205",
           "You deleted this message"
          ],
          [
           " Santhosh Vit",
           "Assessment"
          ],
          [
           " Santhosh Vit",
           "Quiz 2"
          ],
          [
           " Harish20205",
           "5633"
          ],
          [
           " Harish20205",
           "You deleted this message"
          ],
          [
           " Santhosh Vit",
           "Mass yoi"
          ],
          [
           " Santhosh Vit",
           "Docx"
          ],
          [
           " Darani(MIC)",
           "docx anupu da"
          ],
          [
           " Darani(MIC)",
           "okiee"
          ],
          [
           " Darani(MIC)",
           "Nicee"
          ],
          [
           " Darani(MIC)",
           "Super ra"
          ],
          [
           " Darani(MIC)",
           "Okiee"
          ],
          [
           " Jagadeeswaran MIC",
           "Logic and combinators marks out"
          ],
          [
           " Darani(MIC)",
           "Nicee"
          ],
          [
           " Ashwin MIC",
           "Evlo??"
          ],
          [
           " Ashwin MIC",
           "Jags?"
          ],
          [
           " Jagadeeswaran MIC",
           "28 <This message was edited>"
          ],
          [
           " Ganapathy (MIC)",
           "Naan 32 <This message was edited>"
          ],
          [
           " Jagadeeswaran MIC",
           "Tan tan tan tan tada tan tan"
          ],
          [
           " Darani(MIC)",
           "Seri da 3 members 3 days da"
          ],
          [
           " Harish20205",
           "12.00000000000000000"
          ],
          [
           " Darani(MIC)",
           "Okiee"
          ],
          [
           " Ashwin MIC",
           "ADDA marks out"
          ],
          [
           " Harish20205",
           "Nee evlo da"
          ],
          [
           " Avinash MIC",
           "Nice"
          ],
          [
           " Ganapathy (MIC)",
           "crypto mark came"
          ],
          [
           " Ashwin MIC",
           "Evlo?"
          ],
          [
           " Ashwin MIC",
           "Softskill marks out"
          ],
          [
           " Ganapathy (MIC)",
           "evalo"
          ],
          [
           " Ashwin MIC",
           "ADDA assesment 3 marks out"
          ],
          [
           " Ashwin MIC",
           "NPTEL hall tickets came"
          ],
          [
           " Santhosh Vit",
           "downloaded"
          ],
          [
           " Santhosh Vit",
           "okkk"
          ],
          [
           " Ashwin MIC",
           "Sjt G18 time:3pm"
          ],
          [
           " Ashwin MIC",
           "Cloud marks out"
          ],
          [
           " Ganapathy (MIC)",
           "Date"
          ],
          [
           " Ashwin MIC",
           "Niceeee"
          ],
          [
           " Santhosh Vit",
           "super"
          ],
          [
           " Ganapathy (MIC)",
           "yes I guess"
          ],
          [
           " Darani(MIC)",
           "Crypto - 35 Cloud - 30 SS - 6 ADDA - 3.75"
          ],
          [
           " Darani(MIC)",
           "Nptel Venue - SJT 218 Time - 3pm"
          ],
          [
           " Harish20205",
           "PRP-117  3PM-6PM"
          ],
          [
           " Ashwin MIC",
           "ADDA mid term marks out."
          ],
          [
           " Ganapathy (MIC)",
           "Illa"
          ],
          [
           " Ashwin MIC",
           "12.50"
          ],
          [
           " Darani(MIC)",
           "https://wildlife-nptel.now.sh/"
          ],
          [
           " Darani(MIC)",
           "Decide your team leader"
          ],
          [
           " Avinash MIC",
           "POLL: Team leader suggestion OPTION: Santhosh (6 votes) OPTION: Ashwin (0 votes) OPTION: Avinash (0 votes) OPTION: Varshan (0 votes)"
          ],
          [
           " Harish20205",
           "Code Crafters"
          ],
          [
           " Ganapathy (MIC)",
           "Code Crafters"
          ],
          [
           " Darani(MIC)",
           "Code Crafters"
          ],
          [
           " Jagadeeswaran MIC",
           "Code Crafters"
          ],
          [
           " Darani(MIC)",
           "null"
          ],
          [
           " Harish20205",
           "POLL: FFCS OPTION: Morning (5 votes) OPTION: Afternoon (2 votes)"
          ],
          [
           " Harish20205",
           "Already majority morning slot thaan da"
          ],
          [
           " Santhosh Vit",
           "team name?"
          ],
          [
           " Santhosh Vit",
           "acha"
          ],
          [
           " Jagadeeswaran MIC",
           "22MIC0101 Varshan Manish"
          ],
          [
           " Santhosh Vit",
           "Santhosh N ,22MIC0037"
          ],
          [
           " Santhosh Vit",
           "Team name: JP Devs"
          ],
          [
           " Santhosh Vit",
           "Avinash H , 22MIC0049"
          ],
          [
           " Santhosh Vit",
           "Ashwin V, 22MIC0032"
          ],
          [
           " Jagadeeswaran MIC",
           "Ellarume podanum la <This message was edited>"
          ],
          [
           " Jagadeeswaran MIC",
           "Santhosh is final"
          ],
          [
           " Santhosh Vit",
           "null"
          ],
          [
           " Avinash MIC",
           "Team name vega7"
          ],
          [
           " Avinash MIC",
           "VEGA7"
          ],
          [
           " Harish20205",
           "Team name  \"JIT\""
          ],
          [
           " Avinash MIC",
           "Credits da?"
          ],
          [
           " Darani(MIC)",
           "POLL: Which Time Table is best ? OPTION: 1 (3 votes) OPTION: 2 (1 vote) OPTION: 3 (1 vote)"
          ],
          [
           " Ganapathy (MIC)",
           "Luck by chance"
          ],
          [
           " Darani(MIC)",
           "aprm nptel"
          ],
          [
           " Avinash MIC",
           "okay"
          ],
          [
           " Santhosh Vit",
           "https://youtu.be/knAS0w-jiUk?si=Be3dMRKf3B8mFx4Q"
          ],
          [
           " Avinash MIC",
           "Elgamel"
          ],
          [
           " Avinash MIC",
           "But 7 option laye illaye"
          ],
          [
           " Avinash MIC",
           "in the elgamal cryptosystem, alice and bob use p = 17 and = 3. bob chooses his secret to be a = 6, so = 15. alice sends ...  https://brainly.com/question/31981757?utm_source=android&utm_medium=share&utm_campaign=question"
          ],
          [
           " Ashwin MIC",
           "Face?"
          ],
          [
           " Harish20205",
           "CHANGE : SS-PRP 411"
          ],
          [
           " Avinash MIC",
           "yen da? next class"
          ],
          [
           " Ganapathy (MIC)",
           "ohok"
          ],
          [
           " Darani(MIC)",
           "null"
          ],
          [
           " Harish20205",
           "You deleted this message"
          ],
          [
           " Avinash MIC",
           "2 creds"
          ],
          [
           " Darani(MIC)",
           "25 is more than enough"
          ],
          [
           " Darani(MIC)",
           "Okiee"
          ],
          [
           " Santhosh Vit",
           "Course name crt aa?"
          ],
          [
           " Santhosh Vit",
           "Advanced?"
          ],
          [
           " Santhosh Vit",
           "This message was deleted"
          ],
          [
           " Santhosh Vit",
           "Best of three a da?"
          ],
          [
           " Darani(MIC)",
           "Think so"
          ],
          [
           " Darani(MIC)",
           "Dei 15 mins than da quiz eh"
          ],
          [
           " Santhosh Vit",
           "Linear varingala da"
          ],
          [
           " Darani(MIC)",
           "Next week than quiz"
          ],
          [
           " Avinash MIC",
           "Cloud quiz da ippo"
          ],
          [
           " Avinash MIC",
           "null"
          ],
          [
           " Santhosh Vit",
           "Feedback bro"
          ],
          [
           " Santhosh Vit",
           "Blank page"
          ],
          [
           " Darani(MIC)",
           "This message was deleted"
          ],
          [
           " Santhosh Vit",
           "Cloud quiz opened,potingala <This message was edited>"
          ],
          [
           " Harish20205",
           "okay da nanga 11.15 ku mam cabin kitta irupom"
          ],
          [
           " Harish20205",
           "yes and hardcopy mam ku reference venum"
          ],
          [
           " Avinash MIC",
           "okay"
          ],
          [
           " Harish20205",
           "PRP 315-AB-24"
          ],
          [
           " Avinash MIC",
           "okay 11 15 ku varen 👍🏻"
          ],
          [
           " Avinash MIC",
           "okayy"
          ],
          [
           " Darani(MIC)",
           "Linear DA"
          ],
          [
           " Ganapathy (MIC)",
           "Mod 1: SLDC, estimations Mod 2: Build release management, RACI matrix Mod 3: Branching, code version, repository management. Mod 4: VLAN, network, application security, cloud arch Mod 5: docker, kubernetes, release management Mod 6: testing, selenium, Mod 7: worm Mod 8: recent trends, CI/CD, How the softwares are used?"
          ],
          [
           " Ganapathy (MIC)",
           "Just write required parts"
          ],
          [
           " Ganapathy (MIC)",
           "See from which pov the questions are asked (like from release management or build management)"
          ],
          [
           " Ganapathy (MIC)",
           "9 and 10th questions are choice"
          ],
          [
           " Ganapathy (MIC)",
           "Mod 1 and 4 - 2questions"
          ],
          [
           " Darani(MIC)",
           "Extended EA oyls nf fermns 3 to pow 4 or sq using squre root 2nd mod.. Symmetrc  RC4 AES key expmsion DES Architecture Rcc diffiehellman rsa Elliptic curve  4th mod Secure hash md5 shahh abc gf5 how can we calculate Mod 5 ....Whts the possbly to take aithentcn Mod 6 Pgp smv smip...6 steps diagrm Ip security Ssi Types of firewalls Proxy applocatn gateway Nefwrk based in...cirrectn 3 to 4 types Mod 8 recent trends challenges manh concepts"
          ],
          [
           " Darani(MIC)",
           "Extended euclidean algo-x and y  Fermets eulers-3^186mod29- using square root method  Symm crypto-des aes rc4-2 prob -rc4 prob on teams-set s and t value get k value Must know algorithm to get ans …key generation ,architecture(aes des like cat1)  Diffie helman ,rcc,rsa Elliptic curve question must  2nd and 3rd mod-40mrks  Mod4-sha,hmac,dig sig,md5 Prop,authentication,performance,abc and gh Md5 and sha   Mod5-identification authentication key management snd distribution(infrastructure certification what is poss to )  Mod6 and 7-pgp,smnv,smip,performance of server hebros (6 steps,diagram) Ip security,ssl**-1 q atleast Types of firewalls Proxy Intrusion  Mod 7 2 question Mod8-5/10m Diagrams focus plej"
          ],
          [
           " Darani(MIC)",
           "Extended EA oyls nf fermns 3 to pow 4 or sq using squre root 2nd mod.. Symmetrc  RC4 AES key expmsion DES Architecture Rcc diffiehellman rsa Elliptic curve  4th mod Secure hash md5 shahh abc gf5 how can we calculate Mod 5 ....Whts the possbly to take aithentcn Mod 6 Pgp smv smip...6 steps diagrm Ip security Ssi Types of firewalls Proxy applocatn gateway Nefwrk based in...cirrectn 3 to 4 types Mod 8 recent trends challenges manh concepts"
          ],
          [
           " Jagadeeswaran MIC",
           "ok buddy"
          ],
          [
           "system",
           "Darani(MIC) pinned a message"
          ],
          [
           " Harish20205",
           "boiiss"
          ],
          [
           " Harish20205",
           "nptel results are outt"
          ],
          [
           " Santhosh Vit",
           "link"
          ],
          [
           " Harish20205",
           "https://internalapp.nptel.ac.in/"
          ],
          [
           " Harish20205",
           "You deleted this message"
          ],
          [
           " Santhosh Vit",
           "minus 10"
          ],
          [
           " Harish20205",
           "Crypto   Module 1 1 qn (Number Theory) Module 2 2 qn Module 3 2 qn Module 4 2 qn Module 5 1 qn ( No Zero Knowledge Protocol and identity based encryption) Module 6 1 qn (Only PGP, S/MIME, Kerebros) Module 7 1 qn ( Important IPsex, SSL/TLS)  Choice is given for module 6 and 7"
          ],
          [
           " Harish20205",
           "Other faculty 's"
          ],
          [
           " Ashwin MIC",
           "Module wise break up for Theory FAT   (Module, Questions, Marks)   (1, 2,20) (2,1,10) (3,2,20) (4,1,10) (5,2,20) (6,2,20) (7,2,20)"
          ],
          [
           " Darani(MIC)",
           "For what subject buddy ?"
          ],
          [
           " Ashwin MIC",
           "Cloud"
          ],
          [
           " Darani(MIC)",
           "Ooh ok buddy"
          ],
          [
           " Darani(MIC)",
           "Mod 1: SLDC, estimations Mod 2: Build release management, RACI matrix Mod 3: Branching, code version, repository management. Mod 4: VLAN, network, application security, cloud arch Mod 5: docker, kubernetes, release management Mod 6: testing, selenium, Mod 7: worm Mod 8: recent trends, CI/CD, How the softwares are used?"
          ],
          [
           " Darani(MIC)",
           "Just write required parts"
          ],
          [
           " Darani(MIC)",
           "See from which pov the questions are asked (like from release management or build management)"
          ],
          [
           " Darani(MIC)",
           "9 and 10th questions are choice"
          ],
          [
           " Darani(MIC)",
           "Mod 1 and 4 - 2questions"
          ],
          [
           " Harish20205",
           "EVENT: Limra Event Start time: 1732777800316 Event Cancelled: false Event Description: Tomorrow afternoon Event Location Point: LocationPoint(latitude=0.0, longitude=0.0)"
          ],
          [
           " Darani(MIC)",
           "EVENT: NPTEL certificate upload Event Start time: 1732811400000 Event Cancelled: false Event Location Point: LocationPoint(latitude=0.0, longitude=0.0)"
          ],
          [
           " Ashwin MIC",
           "Where to upload"
          ],
          [
           " Darani(MIC)",
           "MOOC file upload"
          ],
          [
           " Darani(MIC)",
           "POLL: 12th December, Going to Chennai OPTION: Okiee (3 votes) OPTION: No (0 votes)"
          ],
          [
           " Ashwin MIC",
           "Logic!"
          ],
          [
           " Harish20205",
           "https://youtu.be/Ngj48yeoNZU?si=KN0wDtclWrR5eEkS"
          ],
          [
           " Darani(MIC)",
           "https://docs.google.com/forms/d/e/1FAIpQLScKC0SX5Bo5fvoRE3JdRG4FAaN2FsD9av1b5mtWvKhw5Bq1Ow/viewform"
          ],
          [
           " Darani(MIC)",
           "Fill this form before 6"
          ],
          [
           " Santhosh Vit",
           "Cat2"
          ],
          [
           " Darani(MIC)",
           "Dei @918778310929 @919790373682 @918248052926"
          ],
          [
           " Harish20205",
           "okay da"
          ],
          [
           " Darani(MIC)",
           "Super da"
          ],
          [
           " Darani(MIC)",
           "Okiee"
          ],
          [
           " Santhosh Vit",
           "ogayy"
          ],
          [
           " Ashwin MIC",
           "null"
          ],
          [
           " Santhosh Vit",
           "null"
          ],
          [
           " Ashwin MIC",
           "This message was deleted"
          ],
          [
           " Santhosh Vit",
           "Hehe"
          ],
          [
           " Darani(MIC)",
           "Okiee"
          ],
          [
           " Avinash MIC",
           "https://chat.whatsapp.com/GswZ3qXNyje7goEVKxvoYs"
          ],
          [
           " Ashwin MIC",
           "Result out"
          ],
          [
           " Darani(MIC)",
           "Overall Marks  Crypto TH + LAB - 66.2 + 87 - 71.4 Cloud TH + LAB - 66.2 + 87.8 - 71.6 ADDA TH + LAB - 61.9 + 85.75 - 67.9 Logic - 73.4 Linear - 69.3 Soft skills - 61.8 <This message was edited>"
          ],
          [
           " Ganapathy (MIC)",
           "Overall Marks  Crypto TH + LAB - 67 + 86 Cloud TH + LAB - 78 + 95 ADDA TH + LAB - 74 + 92.25 Logic -69 Linear - 75.8 Soft skills - 57.2 <This message was edited>"
          ],
          [
           " Harish20205",
           "You deleted this message"
          ],
          [
           " Harish20205",
           "Overall Marks  Crypto TH + LAB - 72.6+84.2 = 75.5 Cloud TH + LAB - 71.2 + 87.4 = 75.25 ADDA TH + LAB - 71.6 + 90.75 = 76.3875 Logic - 76.9 ACOA - 69.55 Soft skills - 66.2 AI - 84.9"
          ],
          [
           " Ashwin MIC",
           "Overall marks  Crypto 75 Cloud 74.5 SS 50 Logics 76 LA 74 ADDA 68"
          ],
          [
           " Ganapathy (MIC)",
           "Ashwin buddy"
          ],
          [
           " Ganapathy (MIC)",
           "Papom buddy"
          ],
          [
           " Ashwin MIC",
           "Actual Grades will be released on 01 January 2025 (Wednesday)."
          ],
          [
           " Ashwin MIC",
           "Check mail bro"
          ],
          [
           " Darani(MIC)",
           "Okiee"
          ],
          [
           " Jagadeeswaran MIC",
           "Overall marks  Crypto 63.8, 82 Cloud 77.6,96.2 SS 59.1 Logics 71 LA 60 ADDA 72,83.7"
          ],
          [
           " Ganapathy (MIC)",
           "https://youtu.be/Ry1ffD-IbkY"
          ],
          [
           " Darani(MIC)",
           "POLL: IIP OPTION: Intrested (1 vote) OPTION: Not Interested (0 votes) OPTION: Don't know (6 votes)"
          ],
          [
           " Santhosh Vit",
           "CFOC642M - conservation economics"
          ],
          [
           " Darani(MIC)",
           "https://forms.gle/SwAuHJXonowMLoAU9"
          ],
          [
           " Jagadeeswaran MIC",
           "Lsm team 1"
          ],
          [
           " Jagadeeswaran MIC",
           "Remaining team 2"
          ],
          [
           " Jagadeeswaran MIC",
           "Captain you decide"
          ],
          [
           " Darani(MIC)",
           "This message was deleted"
          ],
          [
           " Darani(MIC)",
           "POLL: Tomorrow Morning Leave OPTION: Yes (1 vote) OPTION: No (0 votes) OPTION: Except Lean Start-up Management (4 votes)"
          ],
          [
           " Santhosh Vit",
           "Soft skills only?"
          ],
          [
           " Jagadeeswaran MIC",
           "NOOOOOOOOOOOOOOOOOOOOOOOOOOOOOOOOOOOOOOOOOOOOOOOOOOOOOOOOOOOOOOOOOOOOOOOOOOOOOOOOOOOOOOOOOOOOOOOOOOOOOOOOOOOOOOOOOOOOOOOOOOOOOOOOOOOOOOOOOOOOOOOOOOOOOOOOOOOOOOOOOOOOOOOOOOOOOOOOOOOOOOOOOOOOOOOOOOOOOOOOOOOOOOO"
          ],
          [
           " Darani(MIC)",
           "If you wake up for 8'o clock class, then you can attend other classes also right ?? 🤷🏻"
          ],
          [
           " Jagadeeswaran MIC",
           "Ellame leave daa"
          ],
          [
           " Darani(MIC)",
           "Your wish buddy"
          ],
          [
           " Ashwin MIC",
           "Straight ah LSM matum povom.."
          ],
          [
           " Darani(MIC)",
           "Ok buddy, that sounds like a good plan"
          ],
          [
           " Darani(MIC)",
           "Instead of reacting, can you please reply with a thumbs up, that would be better i guess"
          ],
          [
           " Darani(MIC)",
           "That's good"
          ],
          [
           " Darani(MIC)",
           "If you want to speak, you should speak in english, otherwise get out of this group"
          ],
          [
           "system",
           "Ashwin MIC removed Darani(MIC)"
          ],
          [
           " Jagadeeswaran MIC",
           "Do not remove my lover you bitch!!!!!"
          ],
          [
           " Jagadeeswaran MIC",
           "Add him you fuckerrr"
          ],
          [
           " Ashwin MIC",
           "I want apology from ur lover <This message was edited>"
          ],
          [
           " Jagadeeswaran MIC",
           "No he will not apologize"
          ],
          [
           " Jagadeeswaran MIC",
           "You come suck my dick"
          ],
          [
           " Ashwin MIC",
           "Ask ur lover"
          ],
          [
           " Ashwin MIC",
           "He is capable for that"
          ],
          [
           " Jagadeeswaran MIC",
           "Add!, you fuckerrrrrrrrrrrrrrrrrrrrrrrrrrrrrrrrrrrrrrrrrrrrrrrrrrrrrrrrrrrrrrrrrrrrrr"
          ],
          [
           " Ashwin MIC",
           "Strictly want apology"
          ],
          [
           " Jagadeeswaran MIC",
           "Otherwise I will rape you"
          ],
          [
           "system",
           "Ashwin MIC added Darani(MIC)"
          ],
          [
           " Jagadeeswaran MIC",
           "Bitch"
          ],
          [
           " Jagadeeswaran MIC",
           "Good ashwin😊😊😊"
          ],
          [
           " Ashwin MIC",
           "This is the first and last warning for ur lover"
          ],
          [
           " Jagadeeswaran MIC",
           "Ok ashwin😊😊😊"
          ],
          [
           " Jagadeeswaran MIC",
           "I will inform him"
          ],
          [
           " Darani(MIC)",
           "What it means ??"
          ],
          [
           "system",
           "You changed this group's settings to allow all members to send messages to this group"
          ],
          [
           "system",
           "You changed the settings so all members can edit the group settings"
          ],
          [
           "system",
           "You changed the settings so only admins can edit the group settings"
          ],
          [
           " Darani(MIC)",
           "Yeah, I'm going home tomorrow"
          ],
          [
           " Darani(MIC)",
           "So i won't attend Monday class"
          ],
          [
           " Darani(MIC)",
           "I don't know bro, you ask others"
          ],
          [
           " Darani(MIC)",
           "You are coming to attend 1 class from 9 to 10"
          ],
          [
           " Darani(MIC)",
           "I planned to skip blockchain class"
          ],
          [
           " Darani(MIC)",
           "Bcoz that class is irritating"
          ],
          [
           " Santhosh Vit",
           "Then are you fine going to that irritating class at the end of the sem?"
          ],
          [
           " Darani(MIC)",
           "We can skip 10 - 12 classes right"
          ],
          [
           " Darani(MIC)",
           "So no problem, we can manage i guess"
          ],
          [
           " Darani(MIC)",
           "We didn't bunk any classes, other than NLP till now i guess"
          ],
          [
           " Darani(MIC)",
           "What poll ??"
          ],
          [
           " Darani(MIC)",
           "You put poll, I'll vote"
          ],
          [
           " Santhosh Vit",
           "POLL: Attend class after 9 OPTION: Yes (2 votes) OPTION: No (5 votes)"
          ],
          [
           " Darani(MIC)",
           "I like to fuck a girl, can i ?? <This message was edited>"
          ],
          [
           " Ashwin MIC",
           "Yeah..jags is available."
          ],
          [
           " Darani(MIC)",
           "I don't fuck bitches, yo..!"
          ],
          [
           " Santhosh Vit",
           "Good"
          ],
          [
           " Santhosh Vit",
           "No class then"
          ],
          [
           " Darani(MIC)",
           "Good Decision, yo..!"
          ],
          [
           "system",
           "You're no longer an admin"
          ],
          [
           " Santhosh Vit",
           "Dear students, Tuesday class is shifted to Wednesday 11-12"
          ],
          [
           " Jagadeeswaran MIC",
           "mental"
          ],
          [
           " Jagadeeswaran MIC",
           "crack uh"
          ],
          [
           " Darani(MIC)",
           "Don't speak bad about teachers bro, it's wrong"
          ],
          [
           " Jagadeeswaran MIC",
           "Yo Bitch wassup"
          ],
          [
           " Jagadeeswaran MIC",
           "You Dare"
          ],
          [
           " Santhosh Vit",
           "Huhhhhhhh"
          ],
          [
           " Darani(MIC)",
           "Did you say something 😎"
          ],
          [
           " Ashwin MIC",
           "I am no longer admin"
          ],
          [
           " Ashwin MIC",
           "Such a cheap behaviour 😒"
          ],
          [
           " Darani(MIC)",
           "What you did is cheap bitch"
          ],
          [
           " Darani(MIC)",
           "Removing a member, that's cheap bitch"
          ],
          [
           " Darani(MIC)",
           "It's not cheap"
          ],
          [
           " Ashwin MIC",
           "U r not a eligible member to stay in this group"
          ],
          [
           " Darani(MIC)",
           "Then you are not eligible to be an admin"
          ],
          [
           " Darani(MIC)",
           "So shut the fuck up"
          ],
          [
           " Ashwin MIC",
           "You shut bitchh"
          ],
          [
           " Ganapathy (MIC)",
           "null"
          ],
          [
           " Darani(MIC)",
           "Already decided, why you are putting pole and all 🤷🏻"
          ],
          [
           " Jagadeeswaran MIC",
           "Shut up bitch"
          ],
          [
           " Santhosh Vit",
           "Pole❌poll✅"
          ],
          [
           " Jagadeeswaran MIC",
           "New Rule:   No treat in Limra hereafter"
          ],
          [
           " Ganapathy (MIC)",
           "Then you can leave this group  By Ashwin"
          ],
          [
           " Darani(MIC)",
           "Read this and come tomorrow @918778310929 @919790373682"
          ],
          [
           " Avinash MIC",
           "Crist 👍🏻👍🏻"
          ],
          [
           " Jagadeeswaran MIC",
           "null"
          ],
          [
           " Darani(MIC)",
           "https://youtube.com/playlist?list=PL4gu8xQu0_5JK6KmQi-Qx5hI3W13RJbDY&si=Z3qZWEv_nhxkMX9C"
          ],
          [
           " Avinash MIC",
           "Noice"
          ],
          [
           " Darani(MIC)",
           "Ithu soft computing notes"
          ],
          [
           " Jagadeeswaran MIC",
           "null"
          ],
          [
           " Santhosh Vit",
           "Alligator"
          ],
          [
           " Darani(MIC)",
           "Draw"
          ],
          [
           " Santhosh Vit",
           "This message was deleted"
          ],
          [
           " Jagadeeswaran MIC",
           "https://chatgpt.com/share/6797822c-99c8-8012-83da-5816dde8d0d9"
          ],
          [
           " Jagadeeswaran MIC",
           "Whole module 2"
          ],
          [
           " Jagadeeswaran MIC",
           "Ellame"
          ],
          [
           " Harish20205",
           "Decision tree CART-algorithm"
          ],
          [
           " Jagadeeswaran MIC",
           "https://chatgpt.com/share/679d0445-48a8-8012-a2c2-6a52b11f3514"
          ],
          [
           " Jagadeeswaran MIC",
           "Theory"
          ],
          [
           " Santhosh Vit",
           "only 2 modules?"
          ],
          [
           " Santhosh Vit",
           "niche"
          ],
          [
           " Darani(MIC)",
           "This message was deleted"
          ],
          [
           " Santhosh Vit",
           "evening slot"
          ],
          [
           " Harish20205",
           "import { useEffect, useState } from \"react\"; import \"./App.css\"; import { ethers } from \"ethers\"; import { ABI, contractAddress } from \"./constants\";  function App() { const [error, setError] = useState(\"\");  async function testingSolidity() { console.log(\"testing solidity\"); try { if (!window.ethereum) { setError( \"MetaMask is not installed. Please install it to interact with the DApp.\" ); return; } await window.ethereum.request({ method: \"eth_requestAccounts\" });  const provider = new ethers.providers.Web3Provider(window.ethereum); const signer = provider.getSigner(); console.log(signer); const contractInstance = new ethers.Contract( contractAddress, ABI, signer ); console.log(contractInstance); const test = await contractInstance.getPersons(); console.log(test); } catch (err) { console.error(err); setError(\"An error occurred while interacting with the contract.\"); } }  return ( <div> <button onClick={testingSolidity}>Click Me</button> {error && <p style={{ color: \"red\" }}>{error}</p>} </div> ); }  export default App;"
          ],
          [
           " Harish20205",
           "\"dependencies\": { \"@nomicfoundation/hardhat-toolbox\": \"^2.0.2\", \"@nomiclabs/hardhat-ethers\": \"^2.2.2\", \"dotenv\": \"^16.0.3\", \"ethers\": \"^5.7.1\", \"hardhat\": \"^2.13.0\" }"
          ],
          [
           " Darani(MIC)",
           "Software marks came"
          ],
          [
           " Jagadeeswaran MIC",
           "Fake news"
          ],
          [
           " Jagadeeswaran MIC",
           "Correct news"
          ],
          [
           " Darani(MIC)",
           "mysteryverse.co.in"
          ],
          [
           " Jagadeeswaran MIC",
           "https://arxiv.org/pdf/1810.04805"
          ],
          [
           " Jagadeeswaran MIC",
           "paper"
          ],
          [
           " Jagadeeswaran MIC",
           "http://huggingface.co/google-bert/bert-base-uncased"
          ],
          [
           " Jagadeeswaran MIC",
           "base model"
          ],
          [
           " Jagadeeswaran MIC",
           "https://huggingface.co/datasets/dair-ai/emotion"
          ],
          [
           " Jagadeeswaran MIC",
           "dataset"
          ],
          [
           " Darani(MIC)",
           "ML marks out"
          ],
          [
           " Harish20205",
           "Evloo da"
          ],
          [
           " Darani(MIC)",
           "This message was deleted"
          ],
          [
           " Darani(MIC)",
           "This message was deleted"
          ],
          [
           " Darani(MIC)",
           "This message was deleted"
          ],
          [
           " Darani(MIC)",
           "POLL: Treat on Saturday..? OPTION: Yes (3 votes) OPTION: No (1 vote)"
          ],
          [
           " Harish20205",
           "https://drive.google.com/drive/folders/1ul47-yj2jIKFniajLuzKjCBf4EwSwb0T   Conservation economics answer"
          ],
          [
           " Jagadeeswaran MIC",
           "import pandas as pd import numpy as np  def load_data(filename): data = pd.read_csv(filename) return data  def candidate_elimination(data): attributes = data.iloc[:, :-1].values labels = data.iloc[:, -1].values num_attributes = attributes.shape[1]  S = ['?' for _ in range(num_attributes)] G = [['?' for _ in range(num_attributes)]]  for i in range(len(labels)): if labels[i] == 'Yes': for j in range(num_attributes): if S[j] == '?': S[j] = attributes[i][j] elif S[j] != attributes[i][j]: S[j] = '?' G = [g for g in G if all(g[k] == '?' or g[k] == S[k] for k in range(num_attributes))] else: G = [g for g in G if not all(g[k] == '?' or g[k] == attributes[i][k] for k in range(num_attributes))] new_G = [] for g in G: for j in range(num_attributes): if g[j] == '?': new_hypothesis = g.copy() new_hypothesis[j] = S[j] new_G.append(new_hypothesis) G += new_G G = [g for g in G if any(g[k] != '?' for k in range(num_attributes))]  return S, G  filename = \"dataset.csv\" data = load_data(filename) S_final, G_final = candidate_elimination(data) print(\"Final Specific Hypothesis:\", S_final) print(\"Final General Hypothesis:\", G_final)"
          ],
          [
           " Darani(MIC)",
           "def candidate_elimination(data): num_attributes = len(data[0]) - 1  # Exclude target column S = ['?' for _ in range(num_attributes)] G = [['?' for _ in range(num_attributes)]]  for instance in data: x = instance[:-1]  # Features y = instance[-1]   # Target  if y == 'Yes':  # Positive example for i in range(num_attributes): if S[i] == '?': S[i] = x[i] elif S[i] != x[i]: S[i] = '?'  # Generalizing S G = [g for g in G if all(g[i] == '?' or g[i] == S[i] for i in range(num_attributes))] else:  # Negative example new_G = [] for g in G: for i in range(num_attributes): if g[i] == '?': new_hypothesis = g[:] new_hypothesis[i] = x[i] new_G.append(new_hypothesis) G = new_G  return S, G  # Remove the \"Day\" column df_cleaned = df.drop(columns=[\"Day\"])  # Convert to numpy array and run the algorithm dataset = df_cleaned.values S_final, G_final = candidate_elimination(dataset)  S_final, G_final"
          ],
          [
           " Darani(MIC)",
           "import pandas as pd  # Define file path file_path = \"/mnt/data/Play Tennis.csv\"  # Load the CSV file df = pd.read_csv(file_path)  # Display the first few rows of the dataset df.head()"
          ],
          [
           " Ganapathy (MIC)",
           "import pandas as pd import numpy as np  def load_data(filename): data = pd.read_csv(filename) data = data.iloc[:, 1:]  # Exclude the first column return data  def candidate_elimination(data): attributes = data.iloc[:, :-1].values labels = data.iloc[:, -1].values num_attributes = attributes.shape[1]  S = ['?' for _ in range(num_attributes)] G = [['?' for _ in range(num_attributes)]]  for i in range(len(labels)): if labels[i] == 'Yes': for j in range(num_attributes): if S[j] == '?': S[j] = attributes[i][j] elif S[j] != attributes[i][j]: S[j] = '?' G = [g for g in G if all(g[k] == '?' or g[k] == S[k] for k in range(num_attributes))] else: G = [g for g in G if not all(g[k] == '?' or g[k] == attributes[i][k] for k in range(num_attributes))] new_G = [] for g in G: for j in range(num_attributes): if g[j] == '?': new_hypothesis = g.copy() new_hypothesis[j] = S[j] new_G.append(new_hypothesis) G += new_G G = [g for g in G if any(g[k] != '?' for k in range(num_attributes))]  return S, G  filename = \"Play Tennis.csv\" data = load_data(filename) S_final, G_final = candidate_elimination(data) print(\"Final Specific Hypothesis:\", S_final) print(\"Final General Hypothesis:\", G_final)"
          ],
          [
           " Darani(MIC)",
           "Soft computing mark vanthuduchu da @918778310929 @918248052926 @919790373682"
          ],
          [
           " Darani(MIC)",
           "Mass 🔥"
          ],
          [
           " Ashwin MIC",
           "Sct review 1 marks out"
          ],
          [
           " Darani(MIC)",
           "Mass 🔥"
          ],
          [
           " Darani(MIC)",
           "https://skribbl.io/?l0Cwpklc"
          ],
          [
           " Darani(MIC)",
           "https://skribbl.io/?kTCyEBG9"
          ],
          [
           " Santhosh Vit",
           "https://www.drawasaurus.org/room/Ace"
          ],
          [
           " Jagadeeswaran MIC",
           "This message was deleted"
          ],
          [
           " Jagadeeswaran MIC",
           "This message was deleted"
          ],
          [
           " Jagadeeswaran MIC",
           "POLL: Tmrw lab leave OPTION: Yes (5 votes) OPTION: No (1 vote)"
          ],
          [
           " Darani(MIC)",
           "Okiee 🤤"
          ],
          [
           " Jagadeeswaran MIC",
           "Done"
          ],
          [
           " Jagadeeswaran MIC",
           "Sent by Ashwin"
          ],
          [
           " Ashwin MIC",
           "Ashwin = Assurance"
          ],
          [
           " Ganapathy (MIC)",
           "👍👍👍 <This message was edited>"
          ],
          [
           " Jagadeeswaran MIC",
           "Very good"
          ],
          [
           " Jagadeeswaran MIC",
           "Team wise?"
          ],
          [
           " Jagadeeswaran MIC",
           "Photo va?"
          ],
          [
           " Jagadeeswaran MIC",
           "Nice"
          ],
          [
           " Darani(MIC)",
           "This message was deleted"
          ],
          [
           " Darani(MIC)",
           "This message was deleted"
          ],
          [
           " Darani(MIC)",
           "Algorithm for PAN Number Validation (10 - 15 Steps) 1.\tStart 2.\tRead PAN number from the user as input. 3.\tCheck the length of the PAN number: •\tIf it is less than 5 characters, throw an exception. 4.\tValidate the first three characters (alphabetic series): •\tThey must be uppercase alphabets (A-Z). •\tIf not, throw an exception. 5.\tValidate the fourth character (status of PAN holder): •\tIt must be one of \"A, B, C, E, G, H, I, K, N, Q\". •\tIf not, throw an exception. 6.\tValidate the fifth character: •\tIt must be an uppercase alphabet (A-Z). •\tIf not, throw an exception. 7.\tIf the fourth character is ‘P’ (Individual PAN): •\tThe fifth character should match the first letter of the father’s first name. •\tIf it does not match, throw an exception. 8.\tIf the fourth character is not ‘P’ (Company, Firm, etc.): •\tThe fifth character should be the last letter of the entity name. •\tIf it does not match, throw an exception. 9.\tIf all conditions are met, print: •\t“This might be a valid PAN number.” 10.\tIf any condition fails, print the corresponding error message. 11.\tEnd the program."
          ],
          [
           " Darani(MIC)",
           "Engine Oil"
          ],
          [
           " Darani(MIC)",
           "Aim:  To develop a Java program that validates the first five characters of a PAN (Permanent Account Number) based on predefined rules set by the Income Tax Department of India. The program ensures correctness by checking the alphabetic series, the status identifier, and the character placement rules. If any condition fails, a user-defined exception is thrown; otherwise, the program confirms the possibility of a valid PAN number."
          ],
          [
           " Darani(MIC)",
           "import java.util.Scanner;  class InvalidPANException extends Exception { public InvalidPANException(String message) { super(message); } }  public class PanValidator {  public static void validatePAN(String pan) throws InvalidPANException { if (pan.length() != 10) { throw new InvalidPANException(\"PAN number must be 10 characters long.\"); }  String firstThree = pan.substring(0, 3); if (!firstThree.matches(\"[A-Z]{3}\")) { throw new InvalidPANException(\"First three characters must be alphabetic (AAA to ZZZ).\"); }  char fourthChar = pan.charAt(3); if (\"ABCDEFGHIKNQ\".indexOf(fourthChar) == -1) { throw new InvalidPANException( \"Fourth character must be one of the following: A, B, C, E, G, H, I, K, N, Q.\"); }  char fifthChar = pan.charAt(4); if (!Character.isAlphabetic(fifthChar)) { throw new InvalidPANException(\"Fifth character must be an alphabetic character.\"); }  String middleFour = pan.substring(5, 9); if (!middleFour.matches(\"\\\\d{4}\")) { throw new InvalidPANException(\"The 6th to 9th characters must be numeric.\"); }  char lastChar = pan.charAt(9); if (!Character.isAlphabetic(lastChar)) { throw new InvalidPANException(\"The last character must be an alphabetic character.\"); }  System.out.println(\"This might be a valid PAN number.\"); }  public static void main(String[] args) { Scanner scanner = new Scanner(System.in); System.out.print(\"Enter the PAN number: \"); String pan = scanner.nextLine();  try { validatePAN(pan); } catch (InvalidPANException e) { System.out.println(\"Invalid PAN number: \" + e.getMessage()); } finally { scanner.close(); } } }"
          ],
          [
           " Jagadeeswaran MIC",
           "Bro do we need to write in A4 sheet?"
          ],
          [
           " Ashwin MIC",
           "That's ur wish buddy"
          ],
          [
           " Jagadeeswaran MIC",
           "I guess sir told us to write in A4 sheet"
          ],
          [
           " Ashwin MIC",
           "Then y r u asking?"
          ],
          [
           " Jagadeeswaran MIC",
           "I am confirming it"
          ],
          [
           " Jagadeeswaran MIC",
           "How are you guys writing?"
          ],
          [
           " Ashwin MIC",
           "We r not going to write"
          ],
          [
           " Ashwin MIC",
           "Sir won't ask us"
          ],
          [
           " Jagadeeswaran MIC",
           "Bitch"
          ],
          [
           " Ashwin MIC",
           "I didn't asked ur name buddy"
          ],
          [
           " Darani(MIC)",
           "import java.util.Scanner;  class InvalidPANException extends Exception { public InvalidPANException(String message) { super(message); } }  public class PanValidator {  public static void validatePAN(String pan) throws InvalidPANException { if (pan.length() != 10) { throw new InvalidPANException(\"PAN number must be 10 characters long.\"); }  String firstThree = pan.substring(0, 3); if (!firstThree.matches(\"[A-Z]{3}\")) { throw new InvalidPANException(\"First three characters must be alphabetic (AAA to ZZZ).\"); }  char fourthChar = pan.charAt(3); if (\"ABCEGHIKNQ\".indexOf(fourthChar) == -1) { throw new InvalidPANException( \"Fourth character must be one of the following: A, B, C, E, G, H, I, K, N, Q.\"); }  char fifthChar = pan.charAt(4); if (!Character.isAlphabetic(fifthChar)) { throw new InvalidPANException(\"Fifth character must be an alphabetic character.\"); }  String middleFour = pan.substring(5, 9); if (!middleFour.matches(\"\\\\d{4}\")) { throw new InvalidPANException(\"The 6th to 9th characters must be numeric.\"); }  char lastChar = pan.charAt(9); if (!Character.isAlphabetic(lastChar)) { throw new InvalidPANException(\"The last character must be an alphabetic character.\"); }  System.out.println(\"This might be a valid PAN number.\"); }  public static void main(String[] args) { Scanner scanner = new Scanner(System.in); System.out.print(\"Enter the PAN number: \"); String pan = scanner.nextLine();  try { validatePAN(pan); } catch (InvalidPANException e) { System.out.println(\"Invalid PAN number: \" + e.getMessage()); } finally { scanner.close(); } } }"
          ],
          [
           " Jagadeeswaran MIC",
           "import java.util.*;  class Pan { private static void validatePanFirstFive(String pan, String type, String name) throws PanValidationException { for (int i = 0; i < 3; i++) { if (!Character.isUpperCase(pan.charAt(i))) { throw new PanValidationException(\"First three characters must be uppercase letters\"); } }  char status = pan.charAt(3); String validStatus = \"ABCEGHIKNQ\"; if (validStatus.indexOf(status) == -1) { throw new PanValidationException(\"Fourth character must be one of: A, B, C, E, G, H, I, K, N, Q\"); }  // Check fifth character based on type char fifthChar = pan.charAt(4); if (!Character.isUpperCase(fifthChar)) { throw new PanValidationException(\"Fifth character must be uppercase\"); }  if (type.equalsIgnoreCase(\"individual\")) { if (name.isEmpty() || fifthChar != Character.toUpperCase(name.charAt(0))) { throw new PanValidationException(\"Fifth character must match first character of father's name\"); } } else { if (name.isEmpty() || fifthChar != Character.toUpperCase(name.charAt(name.length() - 1))) { throw new PanValidationException(\"Fifth character must match last character of organization name\"); } } }  public static void main(String[] args) { Scanner strObj = new Scanner(System.in); try { System.out.println(\"Enter PAN Number:\"); String pan = strObj.nextLine();  System.out.println(\"Enter type (individual/non-individual):\"); String type = strObj.nextLine();  System.out.println(\"Enter \" + (type.equalsIgnoreCase(\"individual\") ? \"father's name:\" : \"organization name:\")); String name = strObj.nextLine();  if (pan.length() != 10) { throw new PanValidationException(\"PAN number must be exactly 10 characters long\"); }  validatePanFirstFive(pan, type, name); System.out.println(\"This might be valid PAN number\");  } catch (PanValidationException e) { System.out.println(\"Invalid PAN: \" + e.getMessage()); } finally { strObj.close(); } } }"
          ],
          [
           " Darani(MIC)",
           "import java.util.Scanner;  class InvalidPANException extends Exception { public InvalidPANException(String message) { super(message); } }  public class PanValidator {  public static void validatePAN(String pan, String name, boolean isIndividual) throws InvalidPANException { if (pan.length() != 10) { throw new InvalidPANException(\"PAN number must be 10 characters long.\"); }  String firstThree = pan.substring(0, 3); if (!firstThree.matches(\"[A-Z]{3}\")) { throw new InvalidPANException(\"First three characters must be alphabetic (AAA to ZZZ).\"); }  char fourthChar = pan.charAt(3); if (\"ABCEGHIKNQ\".indexOf(fourthChar) == -1) { throw new InvalidPANException( \"Fourth character must be one of the following: A, B, C, E, G, H, I, K, N, Q.\"); }  char fifthChar = pan.charAt(4); if (!Character.isAlphabetic(fifthChar)) { throw new InvalidPANException(\"Fifth character must be an alphabetic character.\"); }  if (isIndividual) { // Individual PAN holders if (name == null || name.isEmpty()) { throw new InvalidPANException(\"Father's name must be provided for individual PAN holders.\"); } if (Character.toUpperCase(fifthChar) != Character.toUpperCase(name.charAt(0))) { throw new InvalidPANException( \"Fifth character must match the first character of the father's first name/surname.\"); } } else { // Non-individual PAN holders if (name == null || name.isEmpty()) { throw new InvalidPANException(\"PAN holder's name must be provided for non-individual PAN holders.\"); } if (Character.toUpperCase(fifthChar) != Character.toUpperCase(name.charAt(name.length() - 1))) { throw new InvalidPANException( \"Fifth character must match the last character of the PAN holder's name.\"); } }  String middleFour = pan.substring(5, 9); if (!middleFour.matches(\"\\\\d{4}\")) { throw new InvalidPANException(\"The 6th to 9th characters must be numeric.\"); }  char lastChar = pan.charAt(9); if (!Character.isAlphabetic(lastChar)) { throw new InvalidPANException(\"The last character must be an alphabetic character.\"); }  System.out.println(\"This might be a valid PAN number.\"); }  public static void main(String[] args) { Scanner scanner = new Scanner(System.in); System.out.print(\"Enter the PAN number: \"); String pan = scanner.nextLine(); System.out.print(\"Is the PAN holder an individual? (yes/no): \"); boolean isIndividual = scanner.nextLine().equalsIgnoreCase(\"yes\"); String namePrompt = isIndividual ? \"Enter the father's first name/surname: \" : \"Enter the PAN holder's name: \"; System.out.print(namePrompt); String name = scanner.nextLine();  try { validatePAN(pan, name, isIndividual); } catch (InvalidPANException e) { System.out.println(\"Invalid PAN number: \" + e.getMessage()); } finally { scanner.close(); } } }"
          ],
          [
           " Darani(MIC)",
           "https://chatgpt.com/share/67b4b23b-fc1c-8006-a257-c387011cf32e"
          ],
          [
           " Darani(MIC)",
           "This message was deleted"
          ],
          [
           " Darani(MIC)",
           "https://chatgpt.com/share/67b55503-6fb4-8006-9aeb-53dbca66a357"
          ],
          [
           " Harish20205",
           "You deleted this message"
          ],
          [
           " Harish20205",
           "You deleted this message"
          ],
          [
           " Ashwin MIC",
           "This message was deleted"
          ],
          [
           " Ganapathy (MIC)",
           "Nptel week 4 assignment last date"
          ],
          [
           " Ashwin MIC",
           "Answer?"
          ],
          [
           " Darani(MIC)",
           "It's in this buddy"
          ],
          [
           " Harish20205",
           "{ \"user_id\": 12345, \"user_name\": \"John Doe\", \"similarity\": 0.23571285605430603, \"ats_score\": { \"ats_score\": 72.5, \"detailed_scores\": { \"skills_match\": 80.0, \"experience_relevance\": 65.0, \"education_relevance\": 90, \"overall_formatting\": 100 }, \"feedback\": { \"strengths\": [ \"Strong skills match\", \"Strong education relevance\", \"Strong overall formatting\" ], \"improvements\": [] }, \"detailed_feedback\": { \"skills_match\": { \"matching_elements\": [\"Python\"], \"missing_elements\": [\"Django\", \"REST APIs\"], \"explanation\": \"The candidate possesses Python skills, which is a core requirement. However, the job description specifically mentions Django and REST APIs, which are missing from the provided skill set. While other skills like C/C++, Machine Learning, Cloud technologies, and databases are valuable, they are not directly relevant to the core requirements of this specific job description. Therefore, the score reflects the presence of Python but the absence of Django and REST APIs.\" }, \"experience_relevance\": { \"matching_elements\": [ \"Experience with Python (through development of speech-to-text system and MNIST classification).\", \"Experience with NLP models (BERTsum, PEGASUS, BART), indicating potential for understanding API interactions and data processing.\" ], \"missing_elements\": [ \"Explicit mention of Django experience.\", \"Explicit mention of REST API experience.\", \"Experience building web applications.\" ], \"explanation\": \"The work experience demonstrates proficiency in Python and familiarity with NLP, which are valuable skills for a software engineer role. The intern developed a speech-to-text summarization system and a handwritten digit classification system, showcasing practical application of Python and machine learning concepts. However, the experience lacks explicit mention of Django and REST APIs, which are key requirements of the job description. The role is an internship and therefore the duration is relatively short (4 months). The experience is relevant but not a perfect match.\" }, \"education_relevance\": { \"matching_elements\": [ \"Strong GPA: 8.46\", \"MTECH (Integrated) in Computer Science and Engineering from Vellore Institute of Technology (VIT), Vellore, India\" ], \"missing_elements\": [], \"explanation\": \"Education assessment completed\" }, \"overall_formatting\": { \"matching_elements\": [\"name\", \"email\", \"phone\"], \"missing_elements\": [], \"explanation\": \"Format assessment completed\" } } }, \"structured_data\": { \"name\": \"Harish KB\", \"email\": \"harishkb20205@gmail.com\", \"phone\": \"8248052926\", \"skills\": [ \"Python\", \"Java\", \"C/C++\", \"Supervised learning\", \"Unsupervised learning\", \"NLP\", \"LLMs\", \"GitHub\", \"Docker\", \"Linux\", \"AWS\", \"Hugging Face\", \"OpenCV\", \"YOLO\", \"FastAPI\", \"Flask\", \"MongoDB\", \"Firebase\" ], \"experience\": [ { \"title\": \"AI Research and Development Intern (Remote)\", \"company\": \"eBramha Techworks Private Limited\", \"start_date\": \"Jun 2024\", \"end_date\": \"Oct 2024\", \"description\": \"- Developed a speech-to-text summarization system integrating Whisper for transcription and Pegasus for summarization, enhancing processing speed and efficiency while significantly reducing overall processing time and improving system performance.\\n- Conducted in-depth research on advanced NLP models such as PEGASUS, BERTsum and BART, contributing to the development of effective solutions for tasks like summarization and language understanding.\\n- Built a neural network for handwritten digit classification (MNIST) from scratch, implementing core machine learning concepts like gradient descent and one-hot encoding.\" } ], \"education\": [ { \"institution\": \"Vellore Institute of Technology (VIT), Vellore, India\", \"degree\": \"MTECH (Integrated) in Computer Science and Engineering\", \"start_date\": \"Aug 2022\", \"end_date\": \"July 2027\", \"gpa\": \"8.46\" } ], \"certifications\": [ \"Coursera: Supervised Machine Learning: Regression and Classification\", \"Coursera: Advanced Learning Algorithms\", \"Coursera: Generative AI with Large Language Models\" ], \"areas_of_interest\": [ \"Machine Learning and AI\", \"Full Stack Development\", \"Cloud Computing and DevOps Practices\" ] }, \"markdown_format\": \"# Harish KB\\n\\n8248052926 | harishkb20205@gmail.com\\n\\n## Education\\n\\nVellore Institute of Technology (VIT), Vellore, India\\nMTECH (Integrated) in Computer Science and Engineering (CGPA: 8.46)\\nAug 2022 - July 2027\\n\\n## Experience\\n\\n**AI Research and Development Intern (Remote)**\\neBramha Techworks Private Limited\\nJun 2024 - Oct 2024\\n\\n*   Developed a speech-to-text summarization system integrating Whisper for transcription and Pegasus for summarization, enhancing processing speed and efficiency while significantly reducing overall processing time and improving system performance.\\n*   Conducted in-depth research on advanced NLP models such as PEGASUS, BERTsum and BART, contributing to the development of effective solutions for tasks like summarization and language understanding.\\n*   Built a neural network for handwritten digit classification (MNIST) from scratch, implementing core machine learning concepts like gradient descent and one-hot encoding.\\n\\n## Projects\\n\\n**VerbiSense: Interactive Document Retrieval System**\\n\\n*   Built the VerbiSense backend with FastAPI, optimizing document uploads, query processing, and API performance for real-time interactions with the React frontend.\\n*   Integrated Retrieval-Augmented Generation (RAG) for improved document retrieval and response generation.\\n*   Applied PyTorch models for advanced NLP tasks like semantic understanding and context-based querying.\\n\\n**Speech-to-Text Summarization**\\n\\n*   Developed a Python script that improved audio transcription accuracy by 30% and reduced post-processing time by 35%.\\n*   Designed and implemented the frontend interface to provide a seamless, user-friendly experience for individuals interacting with the speech-to-text summarization system.\\n\\n## Technical Skills\\n\\n**Languages:** Python, Java, C/C++\\n**Machine Learning:** Supervised learning, unsupervised learning, NLP, LLMs\\n**Tools:** GitHub, Docker, Linux, AWS, Hugging Face\\n**Computer Vision:** OpenCV, YOLO\\n**Backend:** FastAPI, Flask, MongoDB, Firebase\\n\\n## Areas of Interest\\n\\n*   Machine Learning and AI\\n*   Full Stack Development\\n*   Cloud Computing and DevOps Practices\\n\\n## Certifications\\n\\n*   Coursera: Supervised Machine Learning: Regression and Classification\\n*   Coursera: Advanced Learning Algorithms\\n*   Coursera: Generative AI with Large Language Models.\" }"
          ],
          [
           " Jagadeeswaran MIC",
           "last date?"
          ],
          [
           " Darani(MIC)",
           "illa"
          ],
          [
           " Darani(MIC)",
           "interested people 1st question"
          ],
          [
           " Darani(MIC)",
           "not interested people 2nd question"
          ],
          [
           " Santhosh Vit",
           "Ohhhhh"
          ],
          [
           " Santhosh Vit",
           "Nice"
          ],
          [
           " Darani(MIC)",
           "This message was deleted"
          ],
          [
           " Darani(MIC)",
           "This message was deleted"
          ],
          [
           " Jagadeeswaran MIC",
           "yess"
          ],
          [
           " Darani(MIC)",
           "Illa"
          ],
          [
           " Darani(MIC)",
           "Send the code bro"
          ],
          [
           " Jagadeeswaran MIC",
           "<%@ page language=\"java\" contentType=\"text/html; charset=UTF-8\" pageEncoding=\"UTF-8\"%> <!DOCTYPE html> <html> <head> <title>JSP String and Number Operations</title> </head> <body> <h2>Enter a Number and Two Strings</h2> <form action=\"process.jsp\" method=\"post\"> <label>Enter a Number:</label> <input type=\"text\" name=\"number\" required><br><br>  <label>Enter First String:</label> <input type=\"text\" name=\"string1\" required><br><br>  <label>Enter Second String:</label> <input type=\"text\" name=\"string2\" required><br><br>  <input type=\"submit\" value=\"Submit\"> </form> </body> </html>"
          ],
          [
           " Jagadeeswaran MIC",
           "index.jsp"
          ],
          [
           " Jagadeeswaran MIC",
           "<%@ page language=\"java\" contentType=\"text/html; charset=UTF-8\" pageEncoding=\"UTF-8\"%> <!DOCTYPE html> <html> <head> <title>Processing Result</title> </head> <body> <h2>Results</h2>  <%! // Method to check if a number is an Armstrong number public boolean isArmstrong(int num) { int originalNum = num, remainder, sum = 0, n = 0; while (originalNum != 0) { originalNum /= 10; ++n; } originalNum = num; while (originalNum != 0) { remainder = originalNum % 10; sum += Math.pow(remainder, n); originalNum /= 10; } return sum == num; } %>  <% // Fetching form values int number = Integer.parseInt(request.getParameter(\"number\")); String str1 = request.getParameter(\"string1\"); String str2 = request.getParameter(\"string2\");  // Check if Armstrong boolean isArmstrong = isArmstrong(number); %>  <h3>Armstrong Number Check:</h3> <p>Number <b><%= number %></b> is <b><%= isArmstrong ? \"an Armstrong number\" : \"not an Armstrong number\" %></b>.</p>  <h3>String Manipulations:</h3> <ul> <li><b>Concatenation:</b> <%= str1.concat(str2) %></li> <li><b>Replace 'a' with '@' in first string:</b> <%= str1.replace('a', '@') %></li> <li><b>Length of first string:</b> <%= str1.length() %></li> <li><b>Trimmed second string:</b> <%= str2.trim() %></li> <li><b>Substring (First 3 chars of first string):</b> <%= str1.length() >= 3 ? str1.substring(0, 3) : str1 %></li> </ul>  <a href=\"index.jsp\">Go Back</a> </body> </html>"
          ],
          [
           " Jagadeeswaran MIC",
           "process.jsp"
          ],
          [
           "system",
           "Darani(MIC) pinned a message"
          ],
          [
           " Darani(MIC)",
           "This message was deleted"
          ],
          [
           " Darani(MIC)",
           "This message was deleted"
          ],
          [
           " Darani(MIC)",
           "This message was deleted"
          ],
          [
           " Ashwin MIC",
           "Little bit shorter?"
          ],
          [
           " Darani(MIC)",
           "This message was deleted"
          ],
          [
           " Darani(MIC)",
           "This message was deleted"
          ],
          [
           " Darani(MIC)",
           "This message was deleted"
          ],
          [
           " Darani(MIC)",
           "Algorithm: 1.\tCreate a JSP file (index.jsp) with an HTML form to accept a number and two strings. 2.\tAdd input fields for the number and two strings, along with a submit button. 3.\tRetrieve the user input using request.getParameter() in JSP. 4.\tConvert the number from string to an integer using Integer.parseInt(). 5.\tDefine a method inside a declaration tag (<%! ... %>) to check if the number is an Armstrong number. 6.\tCalculate the sum of the cubes of the digits and compare it with the original number. 7.\tPerform string manipulations: •\tConcatenate the two strings. •\tReplace a character in one string. •\tRemove a specific character. •\tConvert a string to uppercase. •\tFind the string length. 8.\tDisplay the results of the Armstrong number check and string manipulations. 9.\tRun the JSP application on a Tomcat server. 10.\tTest the application by entering different inputs and verifying the outputs."
          ],
          [
           " Jagadeeswaran MIC",
           "work aacha?"
          ],
          [
           " Darani(MIC)",
           "Aim:  To develop a Servlet-based Employee Management System using JDBC connectivity that allows adding, viewing, updating, and deleting employee records from a database."
          ],
          [
           " Darani(MIC)",
           "Algorithm: 1.\tSet up the environment: Install Tomcat and configure MySQL/PostgreSQL for database storage. 2.\tCreate an employee table with fields like id, name, designation, and salary. 3.\tEstablish JDBC connection in the servlet using DriverManager.getConnection(). 4.\tCreate a servlet (EmployeeServlet.java) to handle requests using doGet() and doPost(). 5.\tImplement CRUD operations (Add, View, Update, Delete) using SQL queries. 6.\tCreate an HTML form (index.html) for user input. 7.\tProcess form data in the servlet using request.getParameter(). 8.\tDisplay employee records in a JSP page (employees.jsp). 9.\tDeploy the application on Tomcat and configure web.xml. 10.\tTest the application by performing various employee operations and verifying database changes."
          ],
          [
           " Avinash MIC",
           "@918248052926 mine also vro"
          ],
          [
           " Jagadeeswaran MIC",
           "Aim To develop a servlet-based employee management system using MySQL for database operations and Java Servlets for backend processing.  Algorithm Setup Environment: Install and configure Apache Tomcat, MySQL, and Eclipse IDE. Add the MySQL JDBC driver to the project.  Create Database: Use Java code to create a MySQL database (EmployeeDB) and an Employees table during servlet initialization.  Design Servlet: Create a Java servlet (EmployeeManagement) to handle HTTP requests and database operations.  Implement init Method: Write code to drop the database if it exists, recreate it, and set up the Employees table during servlet initialization.  Handle GET Requests: Fetch employee records from the database and display them in an HTML table on the web page.  Handle POST Requests: Accept user input (name, department, salary) from a form and insert it into the Employees table using prepared statements.  Build HTML Interface: Create an HTML form for adding employees and a page to display the employee list.  Deploy on Tomcat: Deploy the application on the Apache Tomcat server and ensure the servlet is accessible.  Test the Application: Test all features like database initialization, adding employees, and viewing the employee list.  Handle Exceptions: Implement proper error handling for database and servlet operations to display meaningful error messages."
          ],
          [
           " Harish20205",
           "import java.io.*; import java.math.BigDecimal; import java.sql.*; import javax.servlet.*; import javax.servlet.annotation.WebServlet; import javax.servlet.http.*;  @WebServlet(\"/EmployeeManagement\") public class EmployeeManagement extends HttpServlet {  private static final long serialVersionUID = 1L;  private static final String DB_URL = \"jdbc:mysql://localhost:3306/\"; private static final String DB_NAME = \"Employee\"; private static final String DB_USER = \"root\"; private static final String DB_PASSWORD = \"1234\";  public void init() throws ServletException { super.init(); try { Class.forName(\"com.mysql.cj.jdbc.Driver\"); try (Connection conn = DriverManager.getConnection(DB_URL, DB_USER, DB_PASSWORD); Statement stmt = conn.createStatement()) { stmt.executeUpdate(\"DROP DATABASE IF EXISTS \" + DB_NAME);  stmt.executeUpdate(\"CREATE DATABASE \" + DB_NAME);  stmt.executeUpdate(\"USE \" + DB_NAME);  stmt.executeUpdate(\"CREATE TABLE Employees (\" + \"id INT AUTO_INCREMENT PRIMARY KEY, \" + \"name VARCHAR(255) NOT NULL, \" + \"department VARCHAR(255) NOT NULL, \" + \"salary DECIMAL(10, 2) NOT NULL)\"); } } catch (ClassNotFoundException e) { throw new ServletException(\"MySQL JDBC Driver not found: \" + e.getMessage(), e); } catch (SQLException e) { throw new ServletException(\"Error initializing database: \" + e.getMessage(), e); } }  protected void doGet(HttpServletRequest request, HttpServletResponse response) throws ServletException, IOException { response.setContentType(\"text/html\"); PrintWriter out = response.getWriter();  try (Connection conn = DriverManager.getConnection(DB_URL + DB_NAME, DB_USER, DB_PASSWORD); Statement stmt = conn.createStatement()) {  ResultSet rs = stmt.executeQuery(\"SELECT * FROM Employees\");  out.println(\"<html><body>\"); out.println(\"<h1>Employee List</h1>\"); out.println(\"<table border='1'><tr><th>ID</th><th>Name</th><th>Department</th><th>Salary</th></tr>\");  while (rs.next()) { out.println(\"<tr><td>\" + rs.getInt(\"id\") + \"</td><td>\" + rs.getString(\"name\") + \"</td><td>\" + rs.getString(\"department\") + \"</td><td>\" + rs.getBigDecimal(\"salary\") + \"</td></tr>\"); }  out.println(\"</table>\"); out.println(\"<a href='index.html'>Back</a>\"); out.println(\"</body></html>\"); } catch (SQLException e) { out.println(\"<html><body><h1>Error: \" + e.getMessage() + \"</h1></body></html>\"); } }  protected void doPost(HttpServletRequest request, HttpServletResponse response) throws ServletException, IOException { String name = request.getParameter(\"name\"); String department = request.getParameter(\"department\"); String salary = request.getParameter(\"salary\");  try (Connection conn = DriverManager.getConnection(DB_URL + DB_NAME, DB_USER, DB_PASSWORD); PreparedStatement pstmt = conn.prepareStatement(\"INSERT INTO Employees (name, department, salary) VALUES (?, ?, ?)\");) {  pstmt.setString(1, name); pstmt.setString(2, department); pstmt.setBigDecimal(3, new BigDecimal(salary)); pstmt.executeUpdate();  response.sendRedirect(\"EmployeeManagement\"); } catch (SQLException e) { throw new ServletException(\"Error inserting employee: \" + e.getMessage(), e); } } }"
          ],
          [
           " Harish20205",
           "<html> <body> <h1>Add Employee</h1> <form method=\"post\" action=\"EmployeeManagement\"> Name: <input type=\"text\" name=\"name\" required><br> Department: <input type=\"text\" name=\"department\" required><br> Salary: <input type=\"number\" step=\"0.01\" name=\"salary\" required><br> <button type=\"submit\">Add Employee</button> </form> <a href=\"EmployeeManagement\">View Employees</a> </body> </html>"
          ],
          [
           " Harish20205",
           "yarakachum own output venuma? <This message was edited>"
          ],
          [
           " Avinash MIC",
           "yass"
          ],
          [
           " Avinash MIC",
           "venam @918248052926  Only Armstrong output venum"
          ],
          [
           " Ashwin MIC",
           "POLL: Tomorrow leave? OPTION: Yes (4 votes) OPTION: No (3 votes)"
          ],
          [
           " Darani(MIC)",
           "! Guys important announcement"
          ],
          [
           " Darani(MIC)",
           "Aim:  To develop a RESTful API using Node.js and Express.js that allows users to perform CRUD (Create, Read, Update, Delete) operations on an employee management system."
          ],
          [
           " Darani(MIC)",
           "Algorithm for Implementing a RESTful API 1.\tInitialize the Project – Install Node.js and required dependencies (express, body-parser, cors). 2.\tSet Up Express Server – Create an app instance and define the port. 3.\tEnable Middleware – Use body-parser for JSON parsing and enable cors. 4.\tCreate a Sample Database – Use an array to store employee data. 5.\tDefine API Routes – Implement GET, POST, PUT, and DELETE routes for employees. 6.\tHandle Errors – Return appropriate error messages and HTTP status codes. 7.\tTest API – Use Postman or cURL to verify all endpoints. 8.\tStart Server – Run node server.js and check API responses."
          ],
          [
           " Jagadeeswaran MIC",
           "const express = require(\"express\");  const app = express();  app.use(express.json());  const products = [ { id: 1, name: \"TV\", price: 50000, currency: \"INR\", }, { id: 2, name: \"Mobile\", price: 20000, currency: \"INR\", }, { id: 3, name: \"Laptop\", price: 60000, currency: \"INR\", }, { id: 4, name: \"Earphones\", price: 1000, currency: \"INR\", }, { id: 5, name: \"Smart Watch\", price: 5000, currency: \"INR\", }, { id: 6, name: \"Charger\", price: 500, currency: \"INR\", }, { id: 7, name: \"Power Bank\", price: 1000, currency: \"INR\", }, { id: 8, name: \"Camera\", price: 20000, currency: \"INR\", }, { id: 9, name: \"Headphones\", price: 2000, currency: \"INR\", }, { id: 10, name: \"Keyboard\", price: 1000, currency: \"INR\", }, { id: 11, name: \"Mouse\", price: 500, currency: \"INR\", }, ];  app.get(\"/get-products\", (req, res) => { res.status(200).json({ products }); });  app.get(\"/add-product\", (req, res, next) => { const product = req.body.product; products.push(product); res.status(200).json({ products }); });  app.get(\"/delete-product\", (req, res, next) => { const id = req.body.id; const index = products.findIndex((product) => product.id === id); products.splice(index, 1); res.status(200).json({ products }); });  app.get(\"/update-product\", (req, res, next) => { const id = req.body.id; const product = req.body.product; const index = products.findIndex((product) => product.id === id); products[index] = product; res.status(200).json({ products }); });  const PORT = 3000; app.listen(PORT, () => { console.log(`Server running on http://localhost:${PORT}`); }); <This message was edited>"
          ],
          [
           " Darani(MIC)",
           "Code and screenshot lan same than"
          ],
          [
           " Santhosh Vit",
           "Okay"
          ],
          [
           " Jagadeeswaran MIC",
           "Tomorrow limra treat mine and avinash <This message was edited>"
          ],
          [
           " Jagadeeswaran MIC",
           "const express = require('express'); const multer = require('multer'); const path = require('path');  const app = express();  // Set up storage for uploaded files const storage = multer.diskStorage({ destination: (req, file, cb) => { cb(null, 'uploads/'); // Save files in 'uploads' folder }, filename: (req, file, cb) => { cb(null, `${Date.now()}-${file.originalname}`); // Rename file to avoid conflicts } });  const upload = multer({ storage });  // Serve static files (optional, for testing uploads) app.use('/uploads', express.static(path.join(__dirname, 'uploads')));  // Endpoint for file upload app.post('/upload', upload.single('file'), (req, res) => { if (!req.file) { return res.status(400).json({ message: 'No file uploaded' }); } res.json({ message: 'File uploaded successfully', file: req.file }); });  // Start the server const PORT = 3000; app.listen(PORT, () => { console.log(`Server running on http://localhost:${PORT}`); });"
          ],
          [
           " Darani(MIC)",
           "Super name da"
          ],
          [
           " Darani(MIC)",
           "Fund X ku ithuve super per da"
          ],
          [
           " Harish20205",
           "https://www.canva.com/design/DAGgrBlNQwA/rZJn4BIQqp8db4D79svCqg/edit?utm_content=DAGgrBlNQwA&utm_campaign=designshare&utm_medium=link2&utm_source=sharebutton"
          ],
          [
           " Ganapathy (MIC)",
           "https://docs.google.com/presentation/d/1WH7QCeN0GW2NOESyA9xOYrENW1wc-f55xkJekwk-Abg/edit?usp=sharing"
          ],
          [
           " Darani(MIC)",
           "To develop a Node.js application that performs basic arithmetic operations (addition, subtraction, multiplication, and division) using the events module. The application should demonstrate: •\tCreating an event for arithmetic operations. •\tEmitting an event when an operation is performed. •\tRemoving an event listener after execution."
          ],
          [
           " Darani(MIC)",
           "1.\tImport the events module and create a Calculator class extending EventEmitter. 2.\tDefine methods for addition, subtraction, multiplication, and division inside the class. 3.\tEach method should perform the operation and emit a 'calculation' event with the result. 4.\tImplement a function calculationHandler to listen for 'calculation' events. 5.\tRegister the event listener using on('calculation', calculationHandler). 6.\tPerform sample calculations by calling add, subtract, multiply, and divide. 7.\tHandle division by zero with an error message. 8.\tRemove the event listener using removeListener('calculation', calculationHandler). 9.\tPerform an operation after removing the listener to verify it’s detached. 10.\tRun the application and check the output in the console."
          ],
          [
           " Darani(MIC)",
           "Algorithm"
          ],
          [
           " Darani(MIC)",
           "const EventEmitter = require(\"events\");  class Calculator extends EventEmitter { add(a, b) { console.log(`Result: ${a} + ${b} = ${a + b}`); this.emit(\"calculation\", { operation: \"addition\", result: a + b }); }  subtract(a, b) { console.log(`Result: ${a} - ${b} = ${a - b}`); this.emit(\"calculation\", { operation: \"subtraction\", result: a - b }); }  multiply(a, b) { console.log(`Result: ${a} * ${b} = ${a * b}`); this.emit(\"calculation\", { operation: \"multiplication\", result: a * b }); }  divide(a, b) { if (b === 0) { console.log(\"Error: Division by zero is not allowed.\"); return; } console.log(`Result: ${a} / ${b} = ${a / b}`); this.emit(\"calculation\", { operation: \"division\", result: a / b }); } }  module.exports = Calculator;"
          ],
          [
           " Darani(MIC)",
           "calculator.js"
          ],
          [
           " Darani(MIC)",
           "const Calculator = require(\"./calculator\");  const calc = new Calculator();  const calculationHandler = (data) => { console.log( `Event Triggered: ${data.operation.toUpperCase()} | Result: ${data.result}` ); };  calc.on(\"calculation\", calculationHandler);  calc.add(10, 5); calc.subtract(20, 8); calc.multiply(4, 7); calc.divide(50, 5);  console.log(\"\\nRemoving event listener...\\n\"); calc.removeListener(\"calculation\", calculationHandler);  calc.add(5, 2); // No event output"
          ],
          [
           " Darani(MIC)",
           "app.js"
          ],
          [
           " Jagadeeswaran MIC",
           "Yes Maybe No"
          ],
          [
           " Ashwin MIC",
           "Last day for Assessment 6"
          ],
          [
           " Jagadeeswaran MIC",
           "Ok shut up"
          ],
          [
           " Darani(MIC)",
           "This message was deleted"
          ],
          [
           " Darani(MIC)",
           "from sqlalchemy import create_engine, Column, Integer, String, Float, ForeignKey, Date from sqlalchemy.orm import relationship, sessionmaker, declarative_base from datetime import date  engine = create_engine(\"sqlite:///bookstore.db\", echo=False) Session = sessionmaker(bind=engine) session = Session()  Base = declarative_base()  class Author(Base): __tablename__ = \"authors\"  id = Column(Integer, primary_key=True) name = Column(String, unique=True, nullable=False) country = Column(String, nullable=False)  books = relationship(\"Book\", back_populates=\"author\", cascade=\"all, delete\")  class Book(Base): __tablename__ = \"books\"  id = Column(Integer, primary_key=True) title = Column(String, unique=True, nullable=False) price = Column(Float, nullable=False) published_date = Column(Date, default=date.today) author_id = Column(Integer, ForeignKey(\"authors.id\"), nullable=False)  author = relationship(\"Author\", back_populates=\"books\") reviews = relationship(\"Review\", back_populates=\"book\", cascade=\"all, delete\")  class User(Base): __tablename__ = \"users\"  id = Column(Integer, primary_key=True) username = Column(String, unique=True, nullable=False) email = Column(String, unique=True, nullable=False)  reviews = relationship(\"Review\", back_populates=\"user\", cascade=\"all, delete-orphan\")  class Review(Base): __tablename__ = \"reviews\"  id = Column(Integer, primary_key=True) book_id = Column(Integer, ForeignKey(\"books.id\", ondelete=\"CASCADE\"), nullable=False) user_id = Column(Integer, ForeignKey(\"users.id\", ondelete=\"SET NULL\")) rating = Column(Integer, nullable=False) comment = Column(String)  book = relationship(\"Book\", back_populates=\"reviews\") user = relationship(\"User\", back_populates=\"reviews\")  Base.metadata.create_all(engine)  def add_book(title, price, author_name, country): existing_book = session.query(Book).filter_by(title=title).first() if existing_book: print(f\"Book '{title}' already exists. Skipping insertion.\") return  author = session.query(Author).filter_by(name=author_name).first() if not author: author = Author(name=author_name, country=country) session.add(author) session.commit()  new_book = Book(title=title, price=price, author_id=author.id) session.add(new_book) session.commit() print(f\"Added book: {title} by {author_name}\")  def get_books(): books = session.query(Book).join(Author).all() if not books: print(\"No books found.\") return  for book in books: print(f\"ID: {book.id}, Title: {book.title}, Price: ${book.price}, Author: {book.author.name}, Published: {book.published_date}\")  def delete_book(book_id): book = session.query(Book).filter_by(id=book_id).first() if book: session.delete(book) session.commit() print(f\"Deleted book with ID {book_id} and its reviews.\") else: print(f\"No book found with ID {book_id}.\")  def add_user(username, email): existing_user = session.query(User).filter_by(username=username).first() if existing_user: print(f\"User '{username}' already exists. Skipping insertion.\") return  user = User(username=username, email=email) session.add(user) session.commit() print(f\"Added user: {username}\")  def delete_user(user_id): user = session.query(User).filter_by(id=user_id).first() if user: session.query(Review).filter_by(user_id=user_id).update({\"user_id\": None}) session.delete(user) session.commit() print(f\"Deleted user with ID {user_id}, reviews marked as Anonymous.\") else: print(f\"No user found with ID {user_id}.\")  def add_review(book_id, user_id, rating, comment): review = Review(book_id=book_id, user_id=user_id, rating=rating, comment=comment) session.add(review) session.commit() print(f\"Added review for Book ID {book_id} by User ID {user_id}.\")  def get_reviews(): reviews = session.query(Review).all() if not reviews: print(\"No reviews found.\") return  for review in reviews: user_display = review.user.username if review.user else \"Anonymous\" print(f\"Book ID: {review.book_id}, User: {user_display}, Rating: {review.rating}, Comment: {review.comment}\")  def insert_test_data(): existing_books = session.query(Book).first() if not existing_books: add_book(\"Python Basics\", 29.99, \"John Doe\", \"USA\") add_book(\"Mastering SQLAlchemy\", 35.99, \"Jane Smith\", \"UK\") add_user(\"alice\", \"alice@example.com\") add_user(\"bob\", \"bob@example.com\") add_review(1, 1, 5, \"Great book for beginners!\") add_review(2, 2, 4, \"Good coverage of SQLAlchemy.\") print(\"\\nTest data inserted successfully!\") else: print(\"\\nTest data already exists, skipping insertion.\")  if __name__ == \"__main__\": insert_test_data()  print(\"\\n📚 Books in Database:\") get_books()  print(\"\\n📝 Reviews in Database:\") get_reviews()  delete_book(1) delete_user(2)  print(\"\\n📚 Books in Database (After Deletion):\") get_books()  print(\"\\n📝 Reviews in Database (After Deletion):\") get_reviews()"
          ],
          [
           " Santhosh Vit",
           "illa da"
          ],
          [
           " Darani(MIC)",
           "Aval than"
          ],
          [
           " Santhosh Vit",
           "pip install flask flask-sqlalchemy"
          ],
          [
           " Darani(MIC)",
           "But question la web application nu iruke ??"
          ],
          [
           " Santhosh Vit",
           "okay"
          ],
          [
           " Santhosh Vit",
           "@919894474945 styles maathuma ?"
          ],
          [
           " Ganapathy (MIC)",
           "Review illa da"
          ],
          [
           " Darani(MIC)",
           "Confirm ahh ??"
          ],
          [
           " Jagadeeswaran MIC",
           "Wait karr"
          ],
          [
           " Ganapathy (MIC)",
           "Illa"
          ],
          [
           " Jagadeeswaran MIC",
           "Waitttt"
          ],
          [
           " Darani(MIC)",
           "Machine Learning"
          ],
          [
           " Darani(MIC)",
           "April 1st week mid-term"
          ],
          [
           " Darani(MIC)",
           "Illa"
          ],
          [
           " Harish20205",
           "Doc file raa?"
          ],
          [
           " Santhosh Vit",
           "Ogayy"
          ],
          [
           " Santhosh Vit",
           "yeah bro 10 mins"
          ],
          [
           " Darani(MIC)",
           "Okiee"
          ],
          [
           " Santhosh Vit",
           "vanten"
          ],
          [
           " Ashwin MIC",
           "Invite"
          ],
          [
           " Ashwin MIC",
           "@919894474945 ?"
          ],
          [
           " Santhosh Vit",
           "wait"
          ],
          [
           " Darani(MIC)",
           "Okiee"
          ],
          [
           " Santhosh Vit",
           "ready"
          ],
          [
           " Santhosh Vit",
           "Nxt match"
          ],
          [
           " Avinash MIC",
           "nuke town"
          ],
          [
           " Ashwin MIC",
           "Rust"
          ],
          [
           " Darani(MIC)",
           "Nuketown"
          ],
          [
           " Avinash MIC",
           "change mode"
          ],
          [
           " Santhosh Vit",
           "byee"
          ],
          [
           " Santhosh Vit",
           "byee"
          ],
          [
           " Santhosh Vit",
           "last match guys"
          ],
          [
           " Ashwin MIC",
           "Yup <This message was edited>"
          ],
          [
           " Darani(MIC)",
           "Okiee"
          ],
          [
           " Darani(MIC)",
           "Come in"
          ],
          [
           " Santhosh Vit",
           "Vanten"
          ],
          [
           " Santhosh Vit",
           "Mass"
          ],
          [
           " Ashwin MIC",
           "Woww"
          ],
          [
           " Ashwin MIC",
           "Invite"
          ],
          [
           " Darani(MIC)",
           "Vino6"
          ],
          [
           " Darani(MIC)",
           "Tho 2 mins"
          ],
          [
           " Santhosh Vit",
           "ready"
          ],
          [
           " Darani(MIC)",
           "Rust"
          ],
          [
           " Santhosh Vit",
           "Zap map download"
          ],
          [
           " Darani(MIC)",
           "Kill house"
          ],
          [
           " Darani(MIC)",
           "Byee"
          ],
          [
           " Santhosh Vit",
           "Last module"
          ],
          [
           " Ashwin MIC",
           "Gonna eat"
          ],
          [
           " Darani(MIC)",
           "10 mins time"
          ],
          [
           " Darani(MIC)",
           "Your time starts now"
          ],
          [
           " Ashwin MIC",
           "I'll try my best bro"
          ],
          [
           " Ashwin MIC",
           "U guys play.. I'll join later"
          ],
          [
           " Darani(MIC)",
           "You don't have to join also"
          ],
          [
           " Darani(MIC)",
           "Good 😊"
          ],
          [
           " Ashwin MIC",
           "Illa"
          ],
          [
           " Santhosh Vit",
           "hetero associative?"
          ],
          [
           " Santhosh Vit",
           "ogayy"
          ],
          [
           " Jagadeeswaran MIC",
           "// SPDX-License-Identifier: MIT pragma solidity ^0.8.0;  contract VotingSystem { struct Candidate { string name; uint256 voteCount; }  mapping(uint256 => Candidate) public candidates; mapping(address => bool) public hasVoted; uint256 public candidateCount;  address public owner;  modifier onlyOwner() { require(msg.sender == owner, \"Only owner can call this function\"); _; }  constructor() { owner = msg.sender; }  function addCandidate(string memory _name) public onlyOwner { candidates[candidateCount] = Candidate(_name, 0); candidateCount++; }  function vote(uint256 _candidateId) public { require(!hasVoted[msg.sender], \"You have already voted\"); require(_candidateId < candidateCount, \"Invalid candidate ID\");  candidates[_candidateId].voteCount++; hasVoted[msg.sender] = true; }  function getCandidate(uint256 _candidateId) public view returns (string memory, uint256) { require(_candidateId < candidateCount, \"Invalid candidate ID\"); Candidate memory candidate = candidates[_candidateId]; return (candidate.name, candidate.voteCount); } }"
          ],
          [
           " Harish20205",
           "https://colab.research.google.com/drive/1jMXIH2MVWslsOlwTxol2pNtDIrZxUXjQ?usp=sharing"
          ],
          [
           " Ashwin MIC",
           "send as word"
          ],
          [
           " Darani(MIC)",
           "Create your own thing"
          ],
          [
           " Darani(MIC)",
           "Good"
          ],
          [
           " Santhosh Vit",
           "SCT task 7 guys"
          ],
          [
           " Ashwin MIC",
           "@918667672284"
          ],
          [
           " Darani(MIC)",
           "1. Naive Byers 2. ⁠Linear SVM 3. ⁠Non-Linear SVM 4. ⁠KNN"
          ],
          [
           " Jagadeeswaran MIC",
           "Code?"
          ],
          [
           " Darani(MIC)",
           "2, 3, 4 we already did bro"
          ],
          [
           " Darani(MIC)",
           "i’ll send the 1st one"
          ],
          [
           " Darani(MIC)",
           "little later"
          ],
          [
           " Ashwin MIC",
           "y little later"
          ],
          [
           " Darani(MIC)",
           "i have little work bro"
          ],
          [
           " Darani(MIC)",
           "i’ll check the code 1st"
          ],
          [
           " Darani(MIC)",
           "whether it’s working or not"
          ],
          [
           " Darani(MIC)",
           "and i’ll send"
          ],
          [
           " Ashwin MIC",
           "ok take your own time."
          ],
          [
           " Darani(MIC)",
           "For KNN, we have to change the code a bit bris"
          ],
          [
           " Darani(MIC)",
           "so these are the final codes"
          ],
          [
           " Jagadeeswaran MIC",
           "Send the word document bitch <This message was edited>"
          ],
          [
           " Darani(MIC)",
           "try to finish your DA boys"
          ],
          [
           " Darani(MIC)",
           "word"
          ],
          [
           " Jagadeeswaran MIC",
           ".. there is document"
          ],
          [
           " Darani(MIC)",
           "no there isn’t"
          ],
          [
           " Darani(MIC)",
           "only 4 words are there"
          ],
          [
           " Darani(MIC)",
           "in that document is not there"
          ],
          [
           " Darani(MIC)",
           "the word bitch"
          ],
          [
           " Ashwin MIC",
           "What are you trying to say broo?"
          ],
          [
           " Jagadeeswaran MIC",
           "Throw your phone in the trash"
          ],
          [
           " Darani(MIC)",
           "i’m using laptop bro"
          ],
          [
           " Darani(MIC)",
           "cheap guys"
          ],
          [
           " Jagadeeswaran MIC",
           "Then throw your laptop"
          ],
          [
           " Darani(MIC)",
           "shut the fuck up and watch the match"
          ],
          [
           " Darani(MIC)",
           "today CSK going to win"
          ],
          [
           " Ashwin MIC",
           "Broo don't waste your time here.. Kindly send the word document.."
          ],
          [
           " Darani(MIC)",
           "match is important"
          ],
          [
           " Jagadeeswaran MIC",
           "Wake up to reality"
          ],
          [
           " Jagadeeswaran MIC",
           "Give me your vtop credentials if you have uploaded the DA, I will fuck you"
          ],
          [
           " Darani(MIC)",
           "Bro he’s hitting too many sixes, ask him to get out"
          ],
          [
           " Jagadeeswaran MIC",
           "Ok. I will call him now"
          ],
          [
           " Darani(MIC)",
           "in our team, nobody will hit a six"
          ],
          [
           " Jagadeeswaran MIC",
           "Good brownie"
          ],
          [
           " Darani(MIC)",
           "don’t beg hereafter"
          ],
          [
           " Jagadeeswaran MIC",
           "Wicket!!!"
          ],
          [
           " Darani(MIC)",
           "nicee"
          ],
          [
           " Darani(MIC)",
           "go and finish the DA, you bitches"
          ],
          [
           " Ashwin MIC",
           "Software Application Architecture cat 2 marks out..."
          ],
          [
           " Jagadeeswaran MIC",
           "This message was deleted"
          ],
          [
           "system",
           "Darani(MIC) pinned a message"
          ],
          [
           " Ashwin MIC",
           "Svm linear or non linear?"
          ],
          [
           " Darani(MIC)",
           "Study both"
          ],
          [
           " Darani(MIC)",
           "POLL: Tomorrow Limra ? OPTION: Yes (4 votes) OPTION: No (0 votes)"
          ],
          [
           " Ganapathy (MIC)",
           "dai descison tree ella algorithmuma"
          ],
          [
           " Jagadeeswaran MIC",
           "Reminder for NPTEL"
          ],
          [
           " Darani(MIC)",
           "Don't know"
          ],
          [
           " Jagadeeswaran MIC",
           "https://docs.google.com/document/d/10mKAmHH-lroRKKdfEypNTtpBeCpp5vYFs6FfxKcFkwc/edit?usp=sharing"
          ],
          [
           " Jagadeeswaran MIC",
           "# K-Nearest Neighbors (KNN) Classifier from Scratch  import numpy as np from collections import Counter from sklearn.datasets import load_iris from sklearn.model_selection import train_test_split  class KNN: def __init__(self, k=3): self.k = k  def fit(self, X, y): self.X_train = X self.y_train = y  def predict(self, X): predictions = [self._predict(x) for x in X] return np.array(predictions)  def _predict(self, x): distances = [np.linalg.norm(x - x_train) for x_train in self.X_train] k_indices = np.argsort(distances)[:self.k] k_nearest_labels = [self.y_train[i] for i in k_indices] most_common = Counter(k_nearest_labels).most_common(1) return most_common[0][0]  # Load dataset data = load_iris() X, y = data.data, data.target X_train, X_test, y_train, y_test = train_test_split(X, y, test_size=0.2, random_state=42)  # Train and evaluate the model knn = KNN(k=3) knn.fit(X_train, y_train) knn_pred = knn.predict(X_test) accuracy = np.mean(knn_pred == y_test) print(f\"KNN Accuracy: {accuracy:.2f}\")"
          ],
          [
           " Harish20205",
           "https://chatgpt.com/share/67ee44e5-d394-8007-aedf-ed937ef04513"
          ],
          [
           " Jagadeeswaran MIC",
           "@917418967740 @919894474945 SCT DA"
          ],
          [
           " Avinash MIC",
           "Okk da denks"
          ],
          [
           " Darani(MIC)",
           "Last date April 8"
          ],
          [
           " Darani(MIC)",
           "15 pages"
          ],
          [
           " Santhosh Vit",
           "Oh super"
          ],
          [
           " Darani(MIC)",
           "4th question"
          ],
          [
           " Darani(MIC)",
           "import pandas as pd import numpy as np from sklearn.preprocessing import StandardScaler from sklearn.cluster import KMeans import matplotlib.pyplot as plt import seaborn as sns  # Load dataset df = pd.read_excel(r\"C:\\Users\\Mr\\Downloads\\Walmart_Store_sales.xlsx\")  # Select numerical columns numerical_df = df.select_dtypes(include=[np.number]).copy() numerical_df.fillna(0, inplace=True)  # Standardize scaler = StandardScaler() scaled_data = scaler.fit_transform(numerical_df)  # KMeans Clustering kmeans = KMeans(n_clusters=3, random_state=42) df['kmeans_cluster'] = kmeans.fit_predict(scaled_data)  # Visualization plt.figure(figsize=(8, 5)) sns.scatterplot(data=df, x=numerical_df.columns[0], y=numerical_df.columns[1], hue='kmeans_cluster', palette='Set2') plt.title(\"K-Means Clustering\") plt.show()"
          ],
          [
           " Darani(MIC)",
           "import pandas as pd from kmodes.kmodes import KModes  # Load dataset df = pd.read_excel(r\"C:\\Users\\Mr\\Downloads\\Walmart_Store_sales.xlsx\")  # Convert all columns to strings to treat them as categorical categorical_df = df.select_dtypes(exclude=[np.number]).astype(str).fillna('NA')  # Apply K-Modes kmodes = KModes(n_clusters=3, init='Huang', n_init=5, verbose=1) df['kmodes_cluster'] = kmodes.fit_predict(categorical_df)  # Show cluster assignments print(df[['kmodes_cluster'] + categorical_df.columns.tolist()].head())"
          ],
          [
           " Darani(MIC)",
           "Kmode"
          ],
          [
           " Darani(MIC)",
           "import pandas as pd import numpy as np from sklearn.ensemble import AdaBoostClassifier from sklearn.tree import DecisionTreeClassifier from sklearn.model_selection import train_test_split from sklearn.preprocessing import StandardScaler from sklearn.metrics import classification_report  # Load dataset df = pd.read_excel(r\"C:\\Users\\Mr\\Downloads\\Walmart_Store_sales.xlsx\")  # Select numerical columns and create dummy target numerical_df = df.select_dtypes(include=[np.number]).fillna(0) X = numerical_df.copy() y = np.random.choice([0, 1], size=len(df))  # Dummy binary target  # Scale features scaler = StandardScaler() X_scaled = scaler.fit_transform(X)  # Train-Test split X_train, X_test, y_train, y_test = train_test_split(X_scaled, y, test_size=0.3, random_state=42)  # AdaBoost Classifier (fixed for newer sklearn versions) clf = AdaBoostClassifier(estimator=DecisionTreeClassifier(max_depth=1), n_estimators=50, random_state=42) clf.fit(X_train, y_train)  # Prediction and Evaluation y_pred = clf.predict(X_test) print(classification_report(y_test, y_pred))"
          ],
          [
           " Darani(MIC)",
           "Adaboost"
          ],
          [
           " Darani(MIC)",
           "import pandas as pd import numpy as np from sklearn.preprocessing import StandardScaler from scipy.cluster.hierarchy import linkage, dendrogram import matplotlib.pyplot as plt  # Load dataset df = pd.read_excel(r\"C:\\Users\\Mr\\Downloads\\Walmart_Store_sales.xlsx\")  # Select and scale numerical columns numerical_df = df.select_dtypes(include=[np.number]).fillna(0) scaler = StandardScaler() scaled_data = scaler.fit_transform(numerical_df)  # Perform hierarchical clustering linked = linkage(scaled_data, method='ward')  # Plot dendrogram plt.figure(figsize=(12, 6)) dendrogram(linked, truncate_mode='lastp', p=10, leaf_rotation=45., leaf_font_size=12., show_contracted=True) plt.title('Hierarchical Clustering Dendrogram') plt.xlabel('Sample Index') plt.ylabel('Distance') plt.show()"
          ],
          [
           " Darani(MIC)",
           "hierarchical clustering"
          ],
          [
           " Ashwin MIC",
           "Dataset?"
          ],
          [
           " Darani(MIC)",
           "Download from Moodle"
          ],
          [
           " Darani(MIC)",
           "This message was deleted"
          ],
          [
           " Ashwin MIC",
           "Blockchain review marks out"
          ],
          [
           " Ashwin MIC",
           "Ml marks out"
          ],
          [
           " Harish20205",
           "https://docs.google.com/document/d/1edm4BF-GpVcBuK6tzy9mhrtRGoIbv6NiaFhnOVlEpGM/edit?usp=sharing"
          ],
          [
           " Harish20205",
           "https://www.canva.com/design/DAGgrBlNQwA/rZJn4BIQqp8db4D79svCqg/edit?utm_content=DAGgrBlNQwA&utm_campaign=designshare&utm_medium=link2&utm_source=sharebutton"
          ],
          [
           " Harish20205",
           "4.4 results section 85%?"
          ],
          [
           " Jagadeeswaran MIC",
           "This message was deleted"
          ],
          [
           " Jagadeeswaran MIC",
           "This message was deleted"
          ],
          [
           " Darani(MIC)",
           "This message was deleted"
          ],
          [
           " Darani(MIC)",
           "POLL: Tomorrow Limra..? OPTION: Yes (3 votes) OPTION: No (1 vote)"
          ],
          [
           " Jagadeeswaran MIC",
           "2.1 Yerkin, Adilet, and Pakizar Shamoi. \"Group Decision-Making System with Sentiment Analysis of Discussion Chat and Fuzzy Consensus Modeling.\" arXiv preprint arXiv:2503.18765 (2025). Abstract: In metropolitan environments, unmanned aerial vehicles (UAVs) equipped with video surveillance equipment can monitor crowd behavior and maintain public safety. In high-traffic areas where humans are more likely to make mistakes, a smart city needs modern technology to forecast the behavior of its residents. In order to improve citywide traffic flow, urban transportation systems (UTSs) monitor and learn how people behave in crowds. Using UAVs for video surveillance in smart cities, our research describes a unique way to assess crowd condition, which expands the scope of human-vehicle interactions. Moreover, we use fuzzy logic ranking to improve the system’s ability to detect anomalies in crowds. In order to improve decision-making, a novel deep transfer learning (DTL) technique is applied to the UAV’s received frames. A 98.5% accuracy rate, satisfactory performance, and robustness to population behavior are all characteristics of the proposed integrated model. In UTSs and urban areas, our novel intelligent system analyzes human behavior based on vehicle-human interactions. In areas with low and high traffic congestion, the modified ResNet (mResNet) architecture predicts the crowd’s condition based on fuzzy logic (FLA). Through decision-making based on accurate crowd conditions, best general paths can be selected using the algorithm. keywords: {Behavioral sciences;Monitoring;Decision making;Feature extraction;Convolution;Transfer learning;Smart cities;Smart environment;urban transportation system;crowd emotion prediction;human-vehicle interaction;deep transfer learning;fuzzy logic approach}, URL: https://ieeexplore.ieee.org/stamp/stamp.jsp?tp=&arnumber=10038641&isnumber=10339106 2.2 Jiang, Xiaowei et al. “Interpretable Dual-Filter Fuzzy Neural Networks for Affective Brain-Computer Interfaces.” ArXiv abs/2502.17445 (2025): n. Pag. Fuzzy logic provides a robust framework for enhancing explainability, particularly in domains requiring the interpretation of complex and ambiguous signals, such as brain-computer interface (BCI) systems. Despite significant advances in deep learning, interpreting human emotions remains a formidable challenge. In this work, we present iFuzzyAffectDuo, a novel computational model that integrates a dual-filter fuzzy neural network architecture for improved detection and interpretation of emotional states from neuroimaging data. The model introduces a new membership function (MF) based on the Laplace distribution, achieving superior accuracy and interpretability compared to traditional approaches. By refining the extraction of neural signals associated with specific emotions, iFuzzyAffectDuo offers a human-understandable framework that unravels the underlying decision-making processes. We validate our approach across three neuroimaging datasets using functional Near-Infrared Spectroscopy (fNIRS) and Electroencephalography (EEG), demonstrating its potential to advance affective computing. These findings open new pathways for understanding the neural basis of emotions and their application in enhancing human-computer interaction   2.3 Jiang, Xiaowei, et al. \"A Fuzzy-based Approach to Predict Human Interaction by Functional Near-Infrared Spectroscopy.\" arXiv preprint arXiv:2409.17661 (2024). The paper introduces a Fuzzy-based Attention (Fuzzy Attention Layer) mechanism, a novel computational approach to enhance the interpretability and efficacy of neural models in psychological research. The proposed Fuzzy Attention Layer mechanism is integrated as a neural network layer within the Transformer Encoder model to facilitate the analysis of complex psychological phenomena through neural signals, such as those captured by functional Near-Infrared Spectroscopy (fNIRS). By leveraging fuzzy logic, the Fuzzy Attention Layer is capable of learning and identifying interpretable patterns of neural activity. This capability addresses a significant challenge when using Transformer: the lack of transparency in determining which specific brain activities most contribute to particular predictions. Our experimental results demonstrated on fNIRS data from subjects engaged in social interactions involving handholding reveal that the Fuzzy Attention Layer not only learns interpretable patterns of neural activity but also enhances model performance. Additionally, the learned patterns provide deeper insights into the neural correlates of interpersonal touch and emotional exchange. The application of our model shows promising potential in deciphering the subtle complexities of human social behaviors, thereby contributing significantly to the fields of social neuroscience and psychological AI. 2.4 Mousavi, Seyed Muhammad Hossein. \"PSO Fuzzy XGBoost Classifier Boosted with Neural Gas Features on EEG Signals in Emotion Recognition.\" arXiv preprint arXiv:2407.09950 (2024). Emotion recognition is the technology-driven process of identifying and categorizing human emotions from various data sources, such as facial expressions, voice patterns, body motion, and physiological signals, such as EEG. These physiological indicators, though rich in data, present challenges due to their complexity and variability, necessitating sophisticated feature selection and extraction methods. NGN, an unsupervised learning algorithm, effectively adapts to input spaces without predefined grid structures, improving feature extraction from physiological data. Furthermore, the incorporation of fuzzy logic enables the handling of fuzzy data by introducing reasoning that mimics human decision-making. The combination of PSO with XGBoost aids in optimizing model performance through efficient hyperparameter tuning and decision process optimization. This study explores the integration of Neural-Gas Network (NGN), XGBoost, Particle Swarm Optimization (PSO), and fuzzy logic to enhance emotion recognition using physiological signals. Our research addresses three critical questions concerning the improvement of XGBoost with PSO and fuzzy logic, NGN's effectiveness in feature selection, and the performance comparison of the PSO-fuzzy XGBoost classifier with standard benchmarks. Acquired results indicate that our methodologies enhance the accuracy of emotion recognition systems and outperform other feature selection techniques using the majority of classifiers, offering significant implications for both theoretical advancement and practical application in emotion recognition technology. 2.5 Kozlov, Pavel, Alisher Akram, and Pakizar Shamoi. \"Fuzzy approach for audio-video emotion recognition in computer games for children.\" Procedia Computer Science 231 (2024): 771-778. Computer games are widespread nowadays and enjoyed by people of all ages. But when it comes to kids, playing these games can be more than just fun—it's a way for them to develop important skills and build emotional intelligence. Facial expressions and sounds that kids produce during gameplay reflect their feelings, thoughts, and moods. In this paper, we propose a novel framework that integrates a fuzzy approach for the recognition of emotions through the analysis of audio and video data. Our focus lies within the specific context of computer games tailored for children, aiming to enhance their overall user experience. We use the FER dataset to detect facial emotions in video frames recorded from the screen during the game. For the audio emotion recognition of sounds a kid produces during the game, we use CREMA-D, TESS, RAVDESS, and Savee datasets. Next, a fuzzy inference system is used for the fusion of results. Besides this, our system can detect emotion stability and emotion diversity during gameplay, which, together with prevailing emotion report, can serve as valuable information for parents worrying about the effect of certain games on their kids. The proposed approach has shown promising results in the preliminary experiments we conducted, involving 3 different video games, namely fighting, racing, and logic games, and providing emotion-tracking results for kids in each game. Our study can contribute to the advancement of child-oriented game development, which is not only engaging but also accounts for children's cognitive and emotional states.  2.6 A. Sherin, I. Jasmine Selvakumari Jeya and S. N. Deepa, \"Enhanced Aquila Optimizer Combined Ensemble Bi-LSTM-GRU With Fuzzy Emotion Extractor for Tweet Sentiment Analysis and Classification,\" in IEEE Access, vol. 12, pp. 141932-141951, 2024, doi: 10.1109/ACCESS.2024.3464091. Abstract: Tweet Sentiment Analysis (TSA) is a prominent technique to glean valuable insights from the users of Twitter (currently the X platform) to understand their emotional state of mind. This sentiment and opinion mining from tweets is highly important to formulate a decision-support model in the sector of natural language processing. In this research study, a combined version of the deep learning recurrent model, a fuzzy decision support system, and a variant of the nature-inspired Aquila Optimizer are suggested for sentiment analysis and classification of tweets. Fuzzy Sentiment Emotion Extractor (FEE) is crafted to extract the positive and negative emotions from the tweets using the semantic, positive or negative polarity of the words and their positions. An ensemble Bidirectional Long Short-Term Memory (enBi-LSTM) has been engineered in this work for capturing the order of tweet words, context based semantic detail, and the relation among the words in the tweet sequence. For the proposed ensemble bi-LSTM-GRU models, the weights are assigned to the features with the modeled Enhanced Aquila Optimizer (EAQ), and this intends to attain the prominent features from the tweet word sequence. A combination of the fuzzy emotion extractor and novel ensemble Bi-LSTM-GRU optimized with the enhanced aquila optimization algorithm is evaluated for Twitter (X) datasets. The efficacy of the suggested EAQ-FEE-enBi-LSTM-GRU is proven by its superiority derived from state-of-the-art techniques compared to the same tweet datasets. Evaluated performance metrics for the Twitter datasets claim for the efficacy of the proposed optimized fuzzy emotion extractor-based ensemble Bi-LSTM-GRU model. keywords: {Sentiment analysis;Social networking (online);Blogs;Feature extraction;Analytical models;Data mining;Classification algorithms;Long short term memory;BiLSTM;Deep learning;Ensemble Bi-LSTM model;gated recurrent unit;fuzzy emotion extractor;fuzzy sentiments;tweet sentiment analysis;deep learning;performance analysis;tweet sentiment classification;Gaussian radial basis mutation}, URL: https://ieeexplore.ieee.org/stamp/stamp.jsp?tp=&arnumber=10684171&isnumber=10380310 2.7 B. Vineetha and M. Nirmala, \"NeuroFuzDetect - A Neural and Fuzzy Inference System for Fake News Classification,\" in IEEE Access, doi: 10.1109/ACCESS.2025.3547123. Abstract: In the modern digital era, where false information can quickly impact public opinion, affect economies, and influence political results, the broad distribution of fake news is becoming a ubiquitous problem. As digital platforms grow, false information’s influence and reach are growing, thus it’s imperative to create trustworthy techniques for identifying and stopping its dissemination. Traditional fake news detection systems often face a trade-off between accuracy and interpretability, with many methods excelling in one area while falling short in the other. In response to this, we introduce NeuroFuzDetect, a novel and comprehensive approach to fake news detection that addresses both these crucial aspects.The Intelligent Fuzzy-Neural Network (NeuroFuzDetect) encapsulates the innovative nature of the model, highlighting its dual foundation in Fuzzy Logic and LSTM. This integration allows NeuroFuzDetect to offer a sophisticated solution for fake news detection, characterized by its intelligent processing capabilities, interpretability, and enhanced performance NeuroFuzDetect leverages advanced computational reasoning to navigate the uncertainty and ambiguity inherent in textual data, offering a nuanced understanding of content by examining linguistic features such as credibility, emotional tone, and language patterns. By focusing on these critical indicators, the model can assess the trustworthiness of news articles in a more refined manner. Additionally, NeuroFuzDetect enhances transparency, providing not only accurate predictions but also the rationale behind its decision-making process, which is essential for building trust in automated systems. This model was rigorously evaluated on a widely recognized dataset and demonstrated notable improvements in performance, with an accuracy of 87.2%. Furthermore, its advancements in precision, recall, and F1-score highlight its ability to outperform traditional approaches. This paper’s research offers a major step forward in the fight against false news by providing an effective tool that achieves a good balance between efficiency and readability. As such, NeuroFuzDetect offers a compelling solution for real-world applications, where both reliability and transparency are paramount in tackling the growing problem of misinformation. keywords: {Fake news;Accuracy;Long short term memory;Fuzzy logic;Linguistics;Cognition;Feature extraction;Vectors;Decision making;Overfitting;Fake News;Fuzzy Inference Design;Long Short-Term Memory;Neural Networks;Classification;Detection}, URL: https://ieeexplore.ieee.org/stamp/stamp.jsp?tp=&arnumber=10908835&isnumber=6514899   Shorten this to 3 lines with some addition to the context like what were the issues with the paper as well and i need the content as a paragraph"
          ],
          [
           " Ganapathy (MIC)",
           "https://chatgpt.com/share/67f3d0aa-840c-800c-8b72-1834d10af5d0"
          ],
          [
           " Jagadeeswaran MIC",
           "@917418967740 @919894474945 final ones"
          ],
          [
           " Jagadeeswaran MIC",
           "@918248052926  ok va?"
          ],
          [
           " Ganapathy (MIC)",
           "https://docs.google.com/presentation/d/1WH7QCeN0GW2NOESyA9xOYrENW1wc-f55xkJekwk-Abg/edit#slide=id.g3328a715edc_1_67"
          ],
          [
           " Ganapathy (MIC)",
           "@917418967740 @918778310929 @919790373682 check pannikinga da"
          ]
         ],
         "hovertemplate": "cluster_label=Message, Deleted, Name, Import, Number, Option, Data, Throw, String, Code<br>PCA Component 1=%{x}<br>PCA Component 2=%{y}<br>user=%{customdata[0]}<br>message=%{customdata[1]}<extra></extra>",
         "legendgroup": "Message, Deleted, Name, Import, Number, Option, Data, Throw, String, Code",
         "marker": {
          "color": "#EF553B",
          "opacity": 0.8,
          "size": 10,
          "symbol": "circle"
         },
         "mode": "markers",
         "name": "Message, Deleted, Name, Import, Number, Option, Data, Throw, String, Code",
         "showlegend": true,
         "type": "scattergl",
         "x": {
          "bdata": "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",
          "dtype": "f4"
         },
         "xaxis": "x",
         "y": {
          "bdata": "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",
          "dtype": "f4"
         },
         "yaxis": "y"
        },
        {
         "customdata": [
          [
           " Jagadeeswaran MIC",
           "Ok"
          ],
          [
           " Jagadeeswaran MIC",
           "ok"
          ],
          [
           " Jagadeeswaran MIC",
           "Ok"
          ],
          [
           " Santhosh Vit",
           "DCN"
          ],
          [
           " Darani(MIC)",
           "DA va ??"
          ],
          [
           " Ashwin MIC",
           "A."
          ],
          [
           " Avinash MIC",
           "ok da"
          ],
          [
           " Santhosh Vit",
           "224 511"
          ],
          [
           " Avinash MIC",
           "Ice"
          ],
          [
           " Avinash MIC",
           "👍🏻👍🏻"
          ],
          [
           " Darani(MIC)",
           "😎"
          ],
          [
           " Santhosh Vit",
           "5.10"
          ],
          [
           " Ashwin MIC",
           "🛐🛐🛐🛐🛐"
          ],
          [
           " Darani(MIC)",
           "🤷🏻"
          ],
          [
           " Santhosh Vit",
           "Mm"
          ],
          [
           " Santhosh Vit",
           "🫡"
          ],
          [
           " Jagadeeswaran MIC",
           "ko"
          ],
          [
           " Avinash MIC",
           "👍🏻"
          ],
          [
           " Darani(MIC)",
           "Dei"
          ],
          [
           " Avinash MIC",
           "👀"
          ],
          [
           " Darani(MIC)",
           "😷"
          ],
          [
           " Darani(MIC)",
           "."
          ],
          [
           " Darani(MIC)",
           "Haa ok"
          ],
          [
           " Darani(MIC)",
           "Haa ok ok"
          ],
          [
           " Santhosh Vit",
           "🆗"
          ],
          [
           " Avinash MIC",
           "💀💀"
          ],
          [
           " Santhosh Vit",
           "🐵🐵"
          ],
          [
           " Santhosh Vit",
           "2"
          ],
          [
           " Avinash MIC",
           "Oh"
          ],
          [
           " Santhosh Vit",
           "'gay"
          ],
          [
           " Darani(MIC)",
           "Haa ok da"
          ],
          [
           " Santhosh Vit",
           "Ok"
          ],
          [
           " Santhosh Vit",
           "F**k"
          ],
          [
           " Ashwin MIC",
           "💀💀💀"
          ],
          [
           " Harish20205",
           "69💀"
          ],
          [
           " Ashwin MIC",
           "🛐"
          ],
          [
           " Harish20205",
           "Nee"
          ],
          [
           " Darani(MIC)",
           "🌚"
          ],
          [
           " Jagadeeswaran MIC",
           "Ohh"
          ],
          [
           " Ashwin MIC",
           "8.17"
          ],
          [
           " Harish20205",
           "8.59"
          ],
          [
           " Santhosh Vit",
           "8"
          ],
          [
           " Darani(MIC)",
           "8.5"
          ],
          [
           " Jagadeeswaran MIC",
           "8.25 nga"
          ],
          [
           " Avinash MIC",
           "8.13"
          ],
          [
           " Ganapathy (MIC)",
           "8"
          ],
          [
           " Jagadeeswaran MIC",
           "Haa"
          ],
          [
           " Santhosh Vit",
           "Oh"
          ],
          [
           " Jagadeeswaran MIC",
           "Ok..."
          ],
          [
           " Jagadeeswaran MIC",
           "Mm"
          ],
          [
           " Ganapathy (MIC)",
           "same"
          ],
          [
           " Darani(MIC)",
           "🤔"
          ],
          [
           " Avinash MIC",
           "ama"
          ],
          [
           " Avinash MIC",
           "😂😂👍🏻"
          ],
          [
           " Darani(MIC)",
           "🤔"
          ],
          [
           " Darani(MIC)",
           "🤔"
          ],
          [
           " Harish20205",
           "Dai"
          ],
          [
           " Santhosh Vit",
           "🫥"
          ],
          [
           " Darani(MIC)",
           "Yep"
          ],
          [
           " Darani(MIC)",
           "🙋🏻"
          ],
          [
           " Harish20205",
           "Yep"
          ],
          [
           " Avinash MIC",
           "Same"
          ],
          [
           " Darani(MIC)",
           "20"
          ],
          [
           " Harish20205",
           "Ama"
          ],
          [
           " Ashwin MIC",
           "."
          ],
          [
           " Darani(MIC)",
           "20 than da"
          ],
          [
           " Darani(MIC)",
           "😂"
          ],
          [
           " Jagadeeswaran MIC",
           "Ok"
          ],
          [
           " Avinash MIC",
           "☠️"
          ],
          [
           " Jagadeeswaran MIC",
           "Yes"
          ],
          [
           " Darani(MIC)",
           "😂"
          ],
          [
           " Darani(MIC)",
           "Hi"
          ],
          [
           " Darani(MIC)",
           "🙋🏻"
          ],
          [
           " Avinash MIC",
           "Hi"
          ],
          [
           " Darani(MIC)",
           "🤔"
          ],
          [
           " Ashwin MIC",
           "Ok daa"
          ],
          [
           " Avinash MIC",
           "same"
          ],
          [
           " Ashwin MIC",
           "."
          ],
          [
           " Darani(MIC)",
           "😴"
          ],
          [
           " Ashwin MIC",
           "🤣"
          ],
          [
           " Darani(MIC)",
           "411"
          ],
          [
           " Darani(MIC)",
           "??"
          ],
          [
           " Avinash MIC",
           "sjt ok va?"
          ],
          [
           " Santhosh Vit",
           "Ok ca"
          ],
          [
           " Ashwin MIC",
           "."
          ],
          [
           " Santhosh Vit",
           "4pm"
          ],
          [
           " Darani(MIC)",
           "."
          ],
          [
           " Avinash MIC",
           "okk"
          ],
          [
           " Darani(MIC)",
           "??"
          ],
          [
           " Darani(MIC)",
           "🤔"
          ],
          [
           " Santhosh Vit",
           "Ok"
          ],
          [
           " Darani(MIC)",
           "☝🏻"
          ],
          [
           " Ashwin MIC",
           "Ok"
          ],
          [
           " Avinash MIC",
           "ok"
          ],
          [
           " Darani(MIC)",
           "OR 411"
          ],
          [
           " Avinash MIC",
           "414"
          ],
          [
           " Avinash MIC",
           "okk"
          ],
          [
           " Darani(MIC)",
           "🤔"
          ],
          [
           " Darani(MIC)",
           "Ooh ok"
          ],
          [
           " Avinash MIC",
           "Mm"
          ],
          [
           " Avinash MIC",
           "okk"
          ],
          [
           " Darani(MIC)",
           "😎"
          ],
          [
           " Ashwin MIC",
           "😂"
          ],
          [
           " Jagadeeswaran MIC",
           "😶‍🌫️👍"
          ],
          [
           " Jagadeeswaran MIC",
           "ok"
          ],
          [
           " Jagadeeswaran MIC",
           "ok"
          ],
          [
           " Jagadeeswaran MIC",
           "ok"
          ],
          [
           " Darani(MIC)",
           "😎"
          ],
          [
           " Jagadeeswaran MIC",
           "🫡🫡😱"
          ],
          [
           " Ashwin MIC",
           "S"
          ],
          [
           " Avinash MIC",
           "Okk"
          ],
          [
           " Jagadeeswaran MIC",
           "414 or 411"
          ],
          [
           " Avinash MIC",
           "411"
          ],
          [
           " Jagadeeswaran MIC",
           "Ok"
          ],
          [
           " Darani(MIC)",
           "Yep"
          ],
          [
           " Avinash MIC",
           "l1 + l2"
          ],
          [
           " Ashwin MIC",
           "😭"
          ],
          [
           " Ashwin MIC",
           "."
          ],
          [
           " Darani(MIC)",
           "🤧"
          ],
          [
           " Ashwin MIC",
           "😭"
          ],
          [
           " Darani(MIC)",
           "Ryt ra 🤧👍🏻"
          ],
          [
           " Avinash MIC",
           "Yeah"
          ],
          [
           " Jagadeeswaran MIC",
           "ok"
          ],
          [
           " Ashwin MIC",
           "No"
          ],
          [
           " Jagadeeswaran MIC",
           "ok"
          ],
          [
           " Avinash MIC",
           "yen da?"
          ],
          [
           " Darani(MIC)",
           "C2"
          ],
          [
           " Avinash MIC",
           "ohh"
          ],
          [
           " Ashwin MIC",
           "c1?"
          ],
          [
           " Avinash MIC",
           "c1 ok"
          ],
          [
           " Darani(MIC)",
           "Haa ok"
          ],
          [
           " Darani(MIC)",
           "😂🤣"
          ],
          [
           " Avinash MIC",
           "🙃"
          ],
          [
           " Ashwin MIC",
           "C1 and E1"
          ],
          [
           " Ashwin MIC",
           "Ok"
          ],
          [
           " Darani(MIC)",
           "Ok va ??"
          ],
          [
           " Ashwin MIC",
           "Okk"
          ],
          [
           " Ashwin MIC",
           "15"
          ],
          [
           " Avinash MIC",
           "new one da"
          ],
          [
           " Avinash MIC",
           "noo"
          ],
          [
           " Avinash MIC",
           "Sts 126 💀"
          ],
          [
           " Darani(MIC)",
           "Vaa da"
          ],
          [
           " Ganapathy (MIC)",
           "DA 1"
          ],
          [
           " Avinash MIC",
           "oh"
          ],
          [
           " Avinash MIC",
           "and this"
          ],
          [
           " Ashwin MIC",
           "33 26"
          ],
          [
           " Jagadeeswaran MIC",
           "33 26"
          ],
          [
           " Ashwin MIC",
           "C"
          ],
          [
           " Avinash MIC",
           "okk"
          ],
          [
           " Darani(MIC)",
           "Oru 5.30"
          ],
          [
           " Santhosh Vit",
           "7"
          ],
          [
           " Santhosh Vit",
           "hlo"
          ],
          [
           " Avinash MIC",
           "hlo"
          ],
          [
           " Avinash MIC",
           "?"
          ],
          [
           " Santhosh Vit",
           "A"
          ],
          [
           " Avinash MIC",
           "3?"
          ],
          [
           " Jagadeeswaran MIC",
           "FE 72 2B D7 6B 77 A4 6B AD 01 F0 63 30 D7 AF FE"
          ],
          [
           " Avinash MIC",
           "okk"
          ],
          [
           " Santhosh Vit",
           "💀"
          ],
          [
           " Santhosh Vit",
           "Ok da"
          ],
          [
           " Avinash MIC",
           "yeah"
          ],
          [
           " Avinash MIC",
           "Ama da"
          ],
          [
           " Jagadeeswaran MIC",
           "ok"
          ],
          [
           " Jagadeeswaran MIC",
           "."
          ],
          [
           " Jagadeeswaran MIC",
           "ok"
          ],
          [
           " Santhosh Vit",
           "Crt?"
          ],
          [
           " Santhosh Vit",
           "Ok"
          ],
          [
           " Santhosh Vit",
           "4"
          ],
          [
           " Darani(MIC)",
           "Ooh ok"
          ],
          [
           " Darani(MIC)",
           "DA - 2 da"
          ],
          [
           " Darani(MIC)",
           "A2"
          ],
          [
           " Darani(MIC)",
           "Dei"
          ],
          [
           " Santhosh Vit",
           "Wow"
          ],
          [
           " Santhosh Vit",
           "7"
          ],
          [
           " Darani(MIC)",
           "6"
          ],
          [
           " Darani(MIC)",
           "🤷🏻"
          ],
          [
           " Darani(MIC)",
           "RSA"
          ],
          [
           " Santhosh Vit",
           "Sir"
          ],
          [
           " Harish20205",
           "Ryt uh"
          ],
          [
           " Santhosh Vit",
           "?"
          ],
          [
           " Ganapathy (MIC)",
           "13 sep"
          ],
          [
           " Darani(MIC)",
           "🤷🏻"
          ],
          [
           " Darani(MIC)",
           "Doi"
          ],
          [
           " Avinash MIC",
           "Okk da"
          ],
          [
           " Darani(MIC)",
           "."
          ],
          [
           " Avinash MIC",
           "ohh"
          ],
          [
           " Santhosh Vit",
           "28"
          ],
          [
           " Santhosh Vit",
           "S"
          ],
          [
           " Santhosh Vit",
           "😅"
          ],
          [
           " Jagadeeswaran MIC",
           "Ok"
          ],
          [
           " Avinash MIC",
           "?"
          ],
          [
           " Avinash MIC",
           "Okk da"
          ],
          [
           " Ashwin MIC",
           "No"
          ],
          [
           " Harish20205",
           "Ryt uh"
          ],
          [
           " Avinash MIC",
           "Yen da"
          ],
          [
           " Avinash MIC",
           "👀"
          ],
          [
           " Darani(MIC)",
           "🤔"
          ],
          [
           " Ashwin MIC",
           "Hmm"
          ],
          [
           " Ashwin MIC",
           "Hmm"
          ],
          [
           " Ganapathy (MIC)",
           "Sjt"
          ],
          [
           " Jagadeeswaran MIC",
           "Sjt"
          ],
          [
           " Jagadeeswaran MIC",
           "Sjt"
          ],
          [
           " Jagadeeswaran MIC",
           "Sjt"
          ],
          [
           " Jagadeeswaran MIC",
           "Sjt"
          ],
          [
           " Jagadeeswaran MIC",
           "Sjt"
          ],
          [
           " Jagadeeswaran MIC",
           "Sht"
          ],
          [
           " Jagadeeswaran MIC",
           "Sjt"
          ],
          [
           " Jagadeeswaran MIC",
           "Sjt"
          ],
          [
           " Ashwin MIC",
           "?"
          ],
          [
           " Santhosh Vit",
           "?"
          ],
          [
           " Santhosh Vit",
           "Huh"
          ],
          [
           " Ashwin MIC",
           "💀"
          ],
          [
           " Santhosh Vit",
           "Aye"
          ],
          [
           " Harish20205",
           "yea"
          ],
          [
           " Ashwin MIC",
           "No.."
          ],
          [
           " Ashwin MIC",
           "No"
          ],
          [
           " Jagadeeswaran MIC",
           "💏💏💦"
          ],
          [
           " Ashwin MIC",
           "Na 32"
          ],
          [
           " Harish20205",
           "Na 32"
          ],
          [
           " Darani(MIC)",
           "Ryt uh 😂"
          ],
          [
           " Avinash MIC",
           "26 da"
          ],
          [
           " Ashwin MIC",
           "👍"
          ],
          [
           " Harish20205",
           "33 ah 32 va?😐"
          ],
          [
           " Santhosh Vit",
           "28"
          ],
          [
           " Ganapathy (MIC)",
           "32"
          ],
          [
           " Jagadeeswaran MIC",
           "11"
          ],
          [
           " Ashwin MIC",
           "9"
          ],
          [
           " Jagadeeswaran MIC",
           "ok..."
          ],
          [
           " Harish20205",
           "Ama da 🤣"
          ],
          [
           " Ashwin MIC",
           "Nee?"
          ],
          [
           " Ashwin MIC",
           "25"
          ],
          [
           " Harish20205",
           "25"
          ],
          [
           " Darani(MIC)",
           "21"
          ],
          [
           " Avinash MIC",
           "25 👀"
          ],
          [
           " Santhosh Vit",
           "25"
          ],
          [
           " Ashwin MIC",
           "😂😂"
          ],
          [
           " Darani(MIC)",
           "😂🤣"
          ],
          [
           " Ganapathy (MIC)",
           "Same here"
          ],
          [
           " Jagadeeswaran MIC",
           "33"
          ],
          [
           " Ganapathy (MIC)",
           "nee"
          ],
          [
           " Ashwin MIC",
           "Na 33"
          ],
          [
           " Ashwin MIC",
           "👀"
          ],
          [
           " Ganapathy (MIC)",
           "32.5"
          ],
          [
           " Ashwin MIC",
           "7"
          ],
          [
           " Ganapathy (MIC)",
           "9 me"
          ],
          [
           " Ashwin MIC",
           "?"
          ],
          [
           " Ashwin MIC",
           "2.5 out of 5"
          ],
          [
           " Ganapathy (MIC)",
           "4.5 out of 5"
          ],
          [
           " Santhosh Vit",
           "ass 2?"
          ],
          [
           " Santhosh Vit",
           "mm"
          ],
          [
           " Santhosh Vit",
           "32 7.5 5"
          ],
          [
           " Ashwin MIC",
           "🔥🔥"
          ],
          [
           " Ashwin MIC",
           "Ama"
          ],
          [
           " Jagadeeswaran MIC",
           "33.5 5.5 15"
          ],
          [
           " Santhosh Vit",
           "huh"
          ],
          [
           " Jagadeeswaran MIC",
           "g18 7pm to 10 pm"
          ],
          [
           " Jagadeeswaran MIC",
           "34"
          ],
          [
           " Ashwin MIC",
           "38"
          ],
          [
           " Santhosh Vit",
           "31"
          ],
          [
           " Ashwin MIC",
           "5"
          ],
          [
           " Ashwin MIC",
           "7pm ahh?"
          ],
          [
           " Avinash MIC",
           "30"
          ],
          [
           " Avinash MIC",
           "6.5"
          ],
          [
           " Ashwin MIC",
           "👀👀👀👀👀"
          ],
          [
           " Ashwin MIC",
           "👍🏻"
          ],
          [
           " Ashwin MIC",
           "Hmm"
          ],
          [
           " Avinash MIC",
           "SJT G19 3pm"
          ],
          [
           " Santhosh Vit",
           "G20 11 am"
          ],
          [
           " Harish20205",
           "Yes"
          ],
          [
           " Ganapathy (MIC)",
           "Ok"
          ],
          [
           " Santhosh Vit",
           "Huh"
          ],
          [
           " Ashwin MIC",
           "👀👀"
          ],
          [
           " Santhosh Vit",
           "yen da"
          ],
          [
           " Santhosh Vit",
           ".."
          ],
          [
           " Santhosh Vit",
           "Ok"
          ],
          [
           " Santhosh Vit",
           "Ok"
          ],
          [
           " Jagadeeswaran MIC",
           "Ok"
          ],
          [
           " Santhosh Vit",
           "MIC OR MID"
          ],
          [
           " Jagadeeswaran MIC",
           "MIX"
          ],
          [
           " Jagadeeswaran MIC",
           "MIC"
          ],
          [
           " Santhosh Vit",
           "Mm"
          ],
          [
           " Ashwin MIC",
           "."
          ],
          [
           " Ashwin MIC",
           "."
          ],
          [
           " Ashwin MIC",
           "✅✅"
          ],
          [
           " Darani(MIC)",
           "22 + 2 + 3"
          ],
          [
           " Darani(MIC)",
           "so 27"
          ],
          [
           " Santhosh Vit",
           "Crt aa?"
          ],
          [
           " Avinash MIC",
           "Yeah"
          ],
          [
           " Darani(MIC)",
           "Yep"
          ],
          [
           " Darani(MIC)",
           "SS - PRP 323"
          ],
          [
           " Darani(MIC)",
           "Yep"
          ],
          [
           " Avinash MIC",
           "prp 320"
          ],
          [
           " Darani(MIC)",
           "So.."
          ],
          [
           " Avinash MIC",
           "oh ok"
          ],
          [
           " Harish20205",
           "ok"
          ],
          [
           " Darani(MIC)",
           "🙋🏻"
          ],
          [
           " Santhosh Vit",
           "Ok"
          ],
          [
           " Avinash MIC",
           "ok"
          ],
          [
           " Jagadeeswaran MIC",
           "same da"
          ],
          [
           " Jagadeeswaran MIC",
           "ila da"
          ],
          [
           " Darani(MIC)",
           "AES and DES ?"
          ],
          [
           " Darani(MIC)",
           "This is for A2"
          ],
          [
           " Darani(MIC)",
           "For A1"
          ],
          [
           " Avinash MIC",
           "100"
          ],
          [
           " Harish20205",
           "🎉🎉"
          ],
          [
           " Ashwin MIC",
           "97"
          ],
          [
           " Santhosh Vit",
           "110"
          ],
          [
           " Jagadeeswaran MIC",
           "94"
          ],
          [
           " Darani(MIC)",
           "100 😎"
          ],
          [
           " Ganapathy (MIC)",
           "97"
          ],
          [
           " Harish20205",
           "97"
          ],
          [
           " Darani(MIC)",
           "Dei"
          ],
          [
           " Ashwin MIC",
           "Ok"
          ],
          [
           " Santhosh Vit",
           "Y?"
          ],
          [
           " Santhosh Vit",
           "Oh"
          ],
          [
           " Darani(MIC)",
           "Ooh ok ok"
          ],
          [
           " Darani(MIC)",
           "Yep"
          ],
          [
           " Santhosh Vit",
           "Okk"
          ],
          [
           " Santhosh Vit",
           "ok"
          ],
          [
           " Darani(MIC)",
           "Crt ahh ??"
          ],
          [
           " Jagadeeswaran MIC",
           "Yes"
          ],
          [
           " Ashwin MIC",
           "Yes"
          ],
          [
           " Darani(MIC)",
           "GPA - 7.88"
          ],
          [
           " Ganapathy (MIC)",
           "GPA - 8.47"
          ],
          [
           " Ashwin MIC",
           "GPA - 8.18"
          ],
          [
           " Santhosh Vit",
           "7.76"
          ],
          [
           " Avinash MIC",
           "8.22"
          ],
          [
           " Jagadeeswaran MIC",
           "8.28"
          ],
          [
           " Harish20205",
           "8.62"
          ],
          [
           " Harish20205",
           "`"
          ],
          [
           " Santhosh Vit",
           "Ok"
          ],
          [
           " Ashwin MIC",
           "👍🏻"
          ],
          [
           " Santhosh Vit",
           "😂😂"
          ],
          [
           " Ashwin MIC",
           "🧐🧐"
          ],
          [
           " Ashwin MIC",
           "Ok 👍🏻"
          ],
          [
           " Jagadeeswaran MIC",
           "👍"
          ],
          [
           " Santhosh Vit",
           "."
          ],
          [
           " Santhosh Vit",
           "9 to 1"
          ],
          [
           " Ashwin MIC",
           "🤣🤣"
          ],
          [
           " Santhosh Vit",
           "yo yo"
          ],
          [
           " Darani(MIC)",
           "Do if you can"
          ],
          [
           " Darani(MIC)",
           "😎"
          ],
          [
           " Ashwin MIC",
           "Then what abt you"
          ],
          [
           " Jagadeeswaran MIC",
           "🤫"
          ],
          [
           " Santhosh Vit",
           "Ohh ok"
          ],
          [
           " Avinash MIC",
           "okk da"
          ],
          [
           " Ashwin MIC",
           "Yup"
          ],
          [
           " Santhosh Vit",
           "ohh"
          ],
          [
           " Darani(MIC)",
           "34"
          ],
          [
           " Jagadeeswaran MIC",
           "39"
          ],
          [
           " Harish20205",
           "46"
          ],
          [
           " Ganapathy (MIC)",
           "32"
          ],
          [
           " Avinash MIC",
           "33"
          ],
          [
           " Santhosh Vit",
           "25"
          ],
          [
           " Ashwin MIC",
           "31"
          ],
          [
           " Santhosh Vit",
           "39"
          ],
          [
           " Ashwin MIC",
           "37"
          ],
          [
           " Darani(MIC)",
           "18"
          ],
          [
           " Ashwin MIC",
           "18"
          ],
          [
           " Ashwin MIC",
           "👍🏻"
          ],
          [
           " Ashwin MIC",
           "Ok😔👍🏻"
          ],
          [
           " Harish20205",
           "45"
          ],
          [
           " Harish20205",
           "🤣🤣"
          ],
          [
           " Darani(MIC)",
           "🫡"
          ],
          [
           " Ashwin MIC",
           "👍🏻"
          ],
          [
           " Darani(MIC)",
           "Yep"
          ],
          [
           " Darani(MIC)",
           "Yep"
          ],
          [
           " Jagadeeswaran MIC",
           "Aim?"
          ],
          [
           " Jagadeeswaran MIC",
           "Then?"
          ],
          [
           " Ganapathy (MIC)",
           "tdy"
          ],
          [
           " Jagadeeswaran MIC",
           "ok"
          ],
          [
           " Jagadeeswaran MIC",
           "Yes"
          ],
          [
           " Ashwin MIC",
           "Ama"
          ],
          [
           " Santhosh Vit",
           "ok"
          ],
          [
           " Ashwin MIC",
           "Ok"
          ],
          [
           " Jagadeeswaran MIC",
           "no"
          ],
          [
           " Ashwin MIC",
           "No"
          ],
          [
           " Harish20205",
           "No"
          ],
          [
           " Santhosh Vit",
           "👍🏻"
          ],
          [
           " Darani(MIC)",
           "or is this ??"
          ],
          [
           " Ashwin MIC",
           "This one"
          ],
          [
           " Darani(MIC)",
           "Yeah ok"
          ],
          [
           " Jagadeeswaran MIC",
           "ok..."
          ],
          [
           " Santhosh Vit",
           "Ok"
          ],
          [
           " Harish20205",
           "🚫🚫🚫🚫🚫🚫"
          ],
          [
           " Ashwin MIC",
           "No"
          ],
          [
           " Harish20205",
           "...."
          ],
          [
           " Darani(MIC)",
           "Ok va"
          ],
          [
           " Darani(MIC)",
           "Ok va ??"
          ],
          [
           " Darani(MIC)",
           "Haa ok"
          ],
          [
           " Darani(MIC)",
           "Aim"
          ],
          [
           " Santhosh Vit",
           "🙏🏻"
          ],
          [
           " Santhosh Vit",
           "yen da"
          ],
          [
           " Santhosh Vit",
           "iru"
          ],
          [
           " Santhosh Vit",
           "ok"
          ],
          [
           " Ashwin MIC",
           "May 5"
          ],
          [
           " Santhosh Vit",
           "Wow"
          ],
          [
           " Ashwin MIC",
           "Ok bro"
          ],
          [
           " Darani(MIC)",
           "."
          ],
          [
           " Ganapathy (MIC)",
           "Ok"
          ],
          [
           " Darani(MIC)",
           "Ok"
          ],
          [
           " Ashwin MIC",
           "ok"
          ],
          [
           " Santhosh Vit",
           "ok"
          ],
          [
           " Darani(MIC)",
           "Haa ok"
          ],
          [
           " Ashwin MIC",
           "Ama😆"
          ],
          [
           " Darani(MIC)",
           "🤣🤣"
          ],
          [
           " Harish20205",
           "Oh ryt uh"
          ],
          [
           " Darani(MIC)",
           "Cod ??"
          ],
          [
           " Ashwin MIC",
           "Vaa da"
          ],
          [
           " Santhosh Vit",
           "wow"
          ],
          [
           " Darani(MIC)",
           "Iru"
          ],
          [
           " Ashwin MIC",
           "?"
          ],
          [
           " Darani(MIC)",
           "Ok"
          ],
          [
           " Santhosh Vit",
           "ok da"
          ],
          [
           " Darani(MIC)",
           "Bye"
          ],
          [
           " Avinash MIC",
           "ML"
          ],
          [
           " Darani(MIC)",
           "Ok"
          ],
          [
           " Darani(MIC)",
           "Cod ??"
          ],
          [
           " Ashwin MIC",
           "Ok"
          ],
          [
           " Darani(MIC)",
           "Tho"
          ],
          [
           " Avinash MIC",
           "same"
          ],
          [
           " Darani(MIC)",
           "Ok"
          ],
          [
           " Santhosh Vit",
           "ok"
          ],
          [
           " Santhosh Vit",
           "bye bye"
          ],
          [
           " Avinash MIC",
           "bye"
          ],
          [
           " Darani(MIC)",
           "😂"
          ],
          [
           " Ganapathy (MIC)",
           "Cod ?"
          ],
          [
           " Darani(MIC)",
           "Ok"
          ],
          [
           " Darani(MIC)",
           "Cod ??"
          ],
          [
           " Ashwin MIC",
           "9.20!"
          ],
          [
           " Ashwin MIC",
           "."
          ],
          [
           " Darani(MIC)",
           "."
          ],
          [
           " Ashwin MIC",
           "."
          ],
          [
           " Darani(MIC)",
           "."
          ],
          [
           " Ashwin MIC",
           "."
          ],
          [
           " Darani(MIC)",
           "."
          ],
          [
           " Darani(MIC)",
           "."
          ],
          [
           " Ashwin MIC",
           "Ok🙃"
          ],
          [
           " Ashwin MIC",
           "😁"
          ],
          [
           " Santhosh Vit",
           "ok"
          ],
          [
           " Ashwin MIC",
           "BAM"
          ],
          [
           " Ashwin MIC",
           "."
          ],
          [
           " Darani(MIC)",
           "."
          ],
          [
           " Santhosh Vit",
           "++"
          ],
          [
           " Darani(MIC)",
           "No bro"
          ],
          [
           " Ashwin MIC",
           "ok"
          ],
          [
           " Ashwin MIC",
           "what about now?"
          ],
          [
           " Ashwin MIC",
           "ok"
          ],
          [
           " Darani(MIC)",
           "yeah ok"
          ],
          [
           " Ashwin MIC",
           "Bad one 🙃"
          ],
          [
           " Ashwin MIC",
           "."
          ],
          [
           " Jagadeeswaran MIC",
           "."
          ],
          [
           " Darani(MIC)",
           "why DA and all"
          ],
          [
           " Ashwin MIC",
           "👍🏻"
          ],
          [
           " Ashwin MIC",
           "🤣🤣🤣"
          ],
          [
           " Ashwin MIC",
           "🧨"
          ],
          [
           " Avinash MIC",
           "39"
          ],
          [
           " Jagadeeswaran MIC",
           "33"
          ],
          [
           " Ashwin MIC",
           "44"
          ],
          [
           " Ganapathy (MIC)",
           "37"
          ],
          [
           " Harish20205",
           "34"
          ],
          [
           " Santhosh Vit",
           "37"
          ],
          [
           " Darani(MIC)",
           "30"
          ],
          [
           " Darani(MIC)",
           "."
          ],
          [
           " Darani(MIC)",
           "Yep"
          ],
          [
           " Harish20205",
           "Ryt uh"
          ],
          [
           " Jagadeeswaran MIC",
           "ok da"
          ],
          [
           " Avinash MIC",
           "ok da"
          ]
         ],
         "hovertemplate": "cluster_label=Yeah<br>PCA Component 1=%{x}<br>PCA Component 2=%{y}<br>user=%{customdata[0]}<br>message=%{customdata[1]}<extra></extra>",
         "legendgroup": "Yeah",
         "marker": {
          "color": "#00cc96",
          "opacity": 0.8,
          "size": 10,
          "symbol": "circle"
         },
         "mode": "markers",
         "name": "Yeah",
         "showlegend": true,
         "type": "scattergl",
         "x": {
          "bdata": "/v9/P/7/fz/+/38//v9/P/7/fz/+/38//v9/P/7/fz/+/38//v9/P/7/fz/+/38//v9/P/7/fz/+/38//v9/P/7/fz/+/38//v9/P/7/fz/+/38//v9/P/7/fz/+/38//v9/P/7/fz/+/38//v9/P/7/fz/+/38//v9/P/7/fz/+/38//v9/P/7/fz/+/38//v9/P/7/fz/+/38//v9/P/7/fz/+/38//v9/P/7/fz/+/38//v9/P/7/fz/+/38//v9/P/7/fz/+/38//v9/P/7/fz/+/38//v9/P/7/fz/+/38//v9/P/7/fz/+/38//v9/P/7/fz/+/38//v9/P/7/fz/+/38//v9/P/7/fz/+/38//v9/P/7/fz/+/38//v9/P/7/fz/+/38//v9/P/7/fz/+/38//v9/P/7/fz/+/38//v9/P/7/fz/+/38//v9/P/7/fz/+/38//v9/P/7/fz/+/38//v9/P/7/fz/+/38//v9/P/7/fz/+/38//v9/P/7/fz/+/38//v9/P/7/fz/+/38//v9/P/7/fz/+/38//v9/P/7/fz/+/38//v9/P/7/fz/+/38//v9/P/7/fz/+/38//v9/P/7/fz/+/38//v9/P/7/fz/+/38//v9/P+MiMD/+/38//v9/P/7/fz/+/38//v9/P/7/fz/+/38//v9/P/7/fz/+/38//v9/P/7/fz/+/38//v9/P/7/fz/+/38//v9/P/7/fz/+/38//v9/P/7/fz/+/38//v9/P/7/fz/+/38//v9/P/7/fz/+/38//v9/P/7/fz/+/38//v9/P/7/fz/+/38//v9/P/7/fz/+/38//v9/P+MiMD/+/38//v9/P/7/fz/+/38//v9/P/7/fz/+/38//v9/P/7/fz/+/38//v9/P/7/fz/+/38//v9/P/7/fz/+/38//v9/P/7/fz/+/38//v9/P/7/fz/+/38//v9/P/7/fz/+/38/AACAP/7/fz/+/38//v9/P/7/fz/+/38//v9/P/7/fz/+/38//v9/P/7/fz/+/38//v9/P/7/fz/+/38//v9/P/7/fz/+/38//v9/P/7/fz/+/38//v9/P/7/fz/+/38//v9/P/7/fz/+/38//v9/P/7/fz/+/38//v9/P/7/fz/+/38//v9/P/7/fz/+/38//v9/P/7/fz/+/38//v9/P/7/fz/+/38//v9/P/7/fz/+/38//v9/P/7/fz/+/38//v9/P/7/fz/+/38//v9/P/7/fz/+/38//v9/P/7/fz/+/38//v9/P/7/fz/+/38//v9/PwAAgD/+/38//v9/P/7/fz/+/38//v9/P/7/fz/+/38//v9/P/7/fz/+/38//v9/P/7/fz/+/38//v9/P/7/fz/+/38//v9/P/7/fz/+/38//v9/P/7/fz/+/38//v9/P/7/fz/+/38//v9/P/7/fz/+/38//v9/P/7/fz/+/38//v9/P/7/fz/+/38//v9/P/7/fz/+/38//v9/P/7/fz/mIjA//v9/P/7/fz/+/38//v9/P/7/fz/+/38//v9/P/7/fz/+/38//v9/P/7/fz/+/38//v9/P/7/fz/+/38//v9/P/7/fz/+/38//v9/P/7/fz/+/38//v9/P/7/fz/+/38//v9/P/7/fz/+/38//v9/P/7/fz/+/38//v9/P/7/fz/+/38//v9/P/7/fz/+/38//v9/P/7/fz/+/38//v9/P/7/fz/+/38//v9/P/7/fz/+/38//v9/P/7/fz/+/38//v9/P/7/fz/+/38//v9/P/7/fz/+/38//v9/P/7/fz/+/38//v9/P/7/fz/+/38//v9/P/7/fz/+/38//v9/P/7/fz/+/38//v9/P/7/fz/+/38//v9/P/7/fz/+/38//v9/P/7/fz/+/38//v9/P/7/fz/+/38//v9/P/7/fz/+/38//v9/P/7/fz/+/38//v9/P/7/fz/+/38//v9/P/7/fz/+/38//v9/P/7/fz/+/38/4yIwP/7/fz8AAIA//v9/P/7/fz/+/38//v9/P/7/fz/+/38//v9/P/7/fz/+/38//v9/P/7/fz/+/38//v9/P/7/fz/+/38//v9/P/7/fz/+/38//v9/P/7/fz/+/38//v9/P/7/fz/+/38//v9/P/7/fz/+/38//v9/P/7/fz/+/38//v9/P/7/fz/+/38//v9/P/7/fz/+/38//v9/P/7/fz/+/38//v9/P/7/fz/+/38//v9/P/7/fz/+/38//v9/P/7/fz/+/38//v9/P/7/fz/+/38//v9/P/7/fz/+/38//v9/P/7/fz/+/38//v9/P/7/fz/+/38//v9/P/7/fz/+/38//v9/P+MiMD/+/38//v9/P/7/fz/+/38//v9/P/7/fz/+/38//v9/P/7/fz/+/38//v9/P/7/fz/+/38//v9/P/7/fz/+/38//v9/P/7/fz/+/38/",
          "dtype": "f4"
         },
         "xaxis": "x",
         "y": {
          "bdata": "RsAiP0bAIj9GwCI/RsAiP0bAIj9GwCI/RsAiP0bAIj9GwCI/RsAiP0bAIj9GwCI/RsAiP0bAIj9GwCI/RsAiP0bAIj9GwCI/RsAiP0bAIj9GwCI/RsAiP0bAIj9GwCI/RsAiP0bAIj9GwCI/RsAiP0bAIj9GwCI/RsAiP0bAIj9GwCI/RsAiP0bAIj9GwCI/RsAiP0bAIj9GwCI/RsAiP0bAIj9GwCI/RsAiP0bAIj9GwCI/RsAiP0bAIj9GwCI/RsAiP0bAIj9GwCI/RsAiP0bAIj9GwCI/RsAiP0bAIj9GwCI/RsAiP0bAIj9GwCI/RsAiP0bAIj9GwCI/RsAiP0bAIj9GwCI/RsAiP0bAIj9GwCI/RsAiP0bAIj9GwCI/RsAiP0bAIj9GwCI/RsAiP0bAIj9GwCI/RsAiP0bAIj9GwCI/RsAiP0bAIj9GwCI/RsAiP0bAIj9GwCI/RsAiP0bAIj9GwCI/RsAiP0bAIj9GwCI/RsAiP0bAIj9GwCI/RsAiP0bAIj9GwCI/RsAiP0bAIj9GwCI/RsAiP0bAIj9GwCI/RsAiP0bAIj9GwCI/RsAiP0bAIj9GwCI/RsAiP0bAIj9GwCI/RsAiP0bAIj9GwCI/RsAiP0bAIj9GwCI/RsAiP5gR8z5GwCI/RsAiP0bAIj9GwCI/RsAiP0bAIj9GwCI/RsAiP0bAIj9GwCI/RsAiP0bAIj9GwCI/RsAiP0bAIj9GwCI/RsAiP0bAIj9GwCI/RsAiP0bAIj9GwCI/RsAiP0bAIj9GwCI/RsAiP0bAIj9GwCI/RsAiP0bAIj9GwCI/RsAiP0bAIj9GwCI/RsAiP0bAIj9GwCI/RsAiP5gR8z5GwCI/RsAiP0bAIj9GwCI/RsAiP0bAIj9GwCI/RsAiP0bAIj9GwCI/RsAiP0bAIj9GwCI/RsAiP0bAIj9GwCI/RsAiP0bAIj9GwCI/RsAiP0bAIj9GwCI/RsAiP0bAIj9GwCI/RsAiP0bAIj9GwCI/RsAiP0bAIj9GwCI/RsAiP0bAIj9GwCI/RsAiP0bAIj9GwCI/RsAiP0bAIj9GwCI/RsAiP0bAIj9GwCI/RsAiP0bAIj9GwCI/RsAiP0bAIj9GwCI/RsAiP0bAIj9GwCI/RsAiP0bAIj9GwCI/RsAiP0bAIj9GwCI/RsAiP0bAIj9GwCI/RsAiP0bAIj9GwCI/RsAiP0bAIj9GwCI/RsAiP0bAIj9GwCI/RsAiP0bAIj9GwCI/RsAiP0bAIj9GwCI/RsAiP0bAIj9GwCI/RsAiP0bAIj9GwCI/RsAiP0bAIj9GwCI/RsAiP0bAIj9GwCI/RsAiP0bAIj9GwCI/RsAiP0bAIj9GwCI/RsAiP0bAIj9GwCI/RsAiP0bAIj9GwCI/RsAiP0bAIj9GwCI/RsAiP0bAIj9GwCI/RsAiP0bAIj9GwCI/RsAiP0bAIj9GwCI/RsAiP0bAIj9GwCI/RsAiP0bAIj9GwCI/RsAiP0bAIj9GwCI/RsAiP0bAIj9GwCI/RsAiP0bAIj+YEfM+RsAiP0bAIj9GwCI/RsAiP0bAIj9GwCI/RsAiP0bAIj9GwCI/RsAiP0bAIj9GwCI/RsAiP0bAIj9GwCI/RsAiP0bAIj9GwCI/RsAiP0bAIj9GwCI/RsAiP0bAIj9GwCI/RsAiP0bAIj9GwCI/RsAiP0bAIj9GwCI/RsAiP0bAIj9GwCI/RsAiP0bAIj9GwCI/RsAiP0bAIj9GwCI/RsAiP0bAIj9GwCI/RsAiP0bAIj9GwCI/RsAiP0bAIj9GwCI/RsAiP0bAIj9GwCI/RsAiP0bAIj9GwCI/RsAiP0bAIj9GwCI/RsAiP0bAIj9GwCI/RsAiP0bAIj9GwCI/RsAiP0bAIj9GwCI/RsAiP0bAIj9GwCI/RsAiP0bAIj9GwCI/RsAiP0bAIj9GwCI/RsAiP0bAIj9GwCI/RsAiP0bAIj9GwCI/RsAiP0bAIj9GwCI/RsAiP0bAIj9GwCI/RsAiP0bAIj9GwCI/RsAiP0bAIj9GwCI/mBHzPkbAIj9GwCI/RsAiP0bAIj9GwCI/RsAiP0bAIj9GwCI/RsAiP0bAIj9GwCI/RsAiP0bAIj9GwCI/RsAiP0bAIj9GwCI/RsAiP0bAIj9GwCI/RsAiP0bAIj9GwCI/RsAiP0bAIj9GwCI/RsAiP0bAIj9GwCI/RsAiP0bAIj9GwCI/RsAiP0bAIj9GwCI/RsAiP0bAIj9GwCI/RsAiP0bAIj9GwCI/RsAiP0bAIj9GwCI/RsAiP0bAIj9GwCI/RsAiP0bAIj9GwCI/RsAiP0bAIj9GwCI/RsAiP0bAIj9GwCI/RsAiP0bAIj9GwCI/RsAiP0bAIj9GwCI/RsAiP0bAIj9GwCI/RsAiP5gR8z5GwCI/RsAiP0bAIj9GwCI/RsAiP0bAIj9GwCI/RsAiP0bAIj9GwCI/RsAiP0bAIj9GwCI/RsAiP0bAIj9GwCI/RsAiP0bAIj9GwCI/",
          "dtype": "f4"
         },
         "yaxis": "y"
        },
        {
         "customdata": [
          [
           " Harish20205",
           "Nan leave panniten"
          ],
          [
           " Santhosh Vit",
           "@919976795710 @918667672284 software report  send pannunga"
          ],
          [
           " Jagadeeswaran MIC",
           "Innum pannala @919790373682"
          ],
          [
           " Santhosh Vit",
           "Attend pannatha"
          ],
          [
           " Santhosh Vit",
           "Accept panna maatanga"
          ],
          [
           " Santhosh Vit",
           "Mail pannu"
          ],
          [
           " Santhosh Vit",
           "Enna da panringa"
          ],
          [
           " Darani(MIC)",
           "Naanga summa than send pannom"
          ],
          [
           " Santhosh Vit",
           "Naanum summa tha pannen"
          ],
          [
           " Darani(MIC)",
           "Ana naanga summa pannalaiye"
          ],
          [
           " Santhosh Vit",
           "Aana na summa tha pannen"
          ],
          [
           " Darani(MIC)",
           "Ippa naan atha delete pannitana enna da pannuva"
          ],
          [
           " Darani(MIC)",
           "Dei naan note pannala"
          ],
          [
           " Darani(MIC)",
           "Aprm delete panniduvan pa thambi"
          ],
          [
           " Ashwin MIC",
           "Panikaa"
          ],
          [
           " Harish20205",
           "ithula join panikonga da"
          ],
          [
           " Harish20205",
           "ellam course and slot qp uhm send panrange"
          ],
          [
           " Santhosh Vit",
           "Dcn imps send pannunga yoi"
          ],
          [
           " Avinash MIC",
           "Already course panavanga kita irukum"
          ],
          [
           " Santhosh Vit",
           "Topics therinja pannalam"
          ],
          [
           " Santhosh Vit",
           "Ok pannidunga"
          ],
          [
           " Darani(MIC)",
           "Dei ithula ithalan add pannanumam da"
          ],
          [
           " Santhosh Vit",
           "Ithu yarna pannanga"
          ],
          [
           " Santhosh Vit",
           "Ithu na panren"
          ],
          [
           " Santhosh Vit",
           "Night start panna ok va"
          ],
          [
           " Darani(MIC)",
           "Nalaiku panna kuda ok than"
          ],
          [
           " Avinash MIC",
           "Parava podu check lam pannuvangala enna"
          ],
          [
           " Santhosh Vit",
           "Ok va paarunga da lock pannidalam"
          ],
          [
           " Ganapathy (MIC)",
           "itheye per mathi upload panniralam la"
          ],
          [
           " Darani(MIC)",
           "Apdi lan panna koodathu da"
          ],
          [
           " Ganapathy (MIC)",
           "eppidi ready pannradhu"
          ],
          [
           " Darani(MIC)",
           "Change panna mudiyathunu poturuku"
          ],
          [
           " Darani(MIC)",
           "Call pannu"
          ],
          [
           " Avinash MIC",
           "AI pick panalaya"
          ],
          [
           " Jagadeeswaran MIC",
           "Extra add pannala ya da?"
          ],
          [
           " Darani(MIC)",
           "Discussion start pannuvoma ??"
          ],
          [
           " Santhosh Vit",
           "Polam da time waste pannalam"
          ],
          [
           " Avinash MIC",
           "madhu lam neraya class cancel panuvaram"
          ],
          [
           " Darani(MIC)",
           "loosu maari pannatha da santhosh eh"
          ],
          [
           " Darani(MIC)",
           "Nammaku fresh ah allot panna maatangala"
          ],
          [
           " Jagadeeswaran MIC",
           "apo final ah onnu ready panni send pannunga da"
          ],
          [
           " Darani(MIC)",
           "Paathiya nee question kekurathuku munnadiye answer panniduvan"
          ],
          [
           " Avinash MIC",
           "front end try panni paru da"
          ],
          [
           " Harish20205",
           "Ithu apply panlama?"
          ],
          [
           " Darani(MIC)",
           "Innovative projects um add pannalama ??"
          ],
          [
           " Harish20205",
           "innovative uhmtry panlam da"
          ],
          [
           " Harish20205",
           "INnovative TCC! tryy panlam"
          ],
          [
           " Santhosh Vit",
           "Therinja comment pannunga"
          ],
          [
           " Darani(MIC)",
           "Comment panran"
          ],
          [
           " Darani(MIC)",
           "Fill pannuvoma ?? <This message was edited>"
          ],
          [
           " Harish20205",
           "Already panitom la?"
          ],
          [
           " Harish20205",
           "Okay fill pannlam <This message was edited>"
          ],
          [
           " Darani(MIC)",
           "Dei itha fill pannidunga da"
          ],
          [
           " Ganapathy (MIC)",
           "blank document upload pannunga da app deployment assignment la"
          ],
          [
           " Darani(MIC)",
           "NPTEL pay pannidunga da"
          ],
          [
           " Santhosh Vit",
           "start panalama"
          ],
          [
           " Santhosh Vit",
           "Pona murai lab la panna maari tha irukku pannidunga"
          ],
          [
           " Santhosh Vit",
           "Skip panna innum seekrama mudichidalam"
          ],
          [
           " Jagadeeswaran MIC",
           "guys nptel assignment complete pannidunga"
          ],
          [
           " Darani(MIC)",
           "netbeans download pannanuma da"
          ],
          [
           " Darani(MIC)",
           "dei eppadi da J unit test create panrathu ?"
          ],
          [
           " Ganapathy (MIC)",
           "Vtop la register panningada"
          ],
          [
           " Santhosh Vit",
           "Epadi pannanum"
          ],
          [
           " Santhosh Vit",
           "Ippa tha laptop close pannen"
          ],
          [
           " Darani(MIC)",
           "Vtop la Apaar ID upload pannanum da"
          ],
          [
           " Avinash MIC",
           "Eppadi da pdf ah generate panrathu"
          ],
          [
           " Darani(MIC)",
           "Apaar ID nu search pannu da"
          ],
          [
           " Darani(MIC)",
           "Aprm atha create pannitu"
          ],
          [
           " Avinash MIC",
           "Verkanave pannathu abc credits ah"
          ],
          [
           " Darani(MIC)",
           "Apa puthusa create pannu"
          ],
          [
           " Harish20205",
           "upload pantiya da?"
          ],
          [
           " Harish20205",
           "ah athu late aagum , appo nan pannumbothu 5 min kitta aachu"
          ],
          [
           " Santhosh Vit",
           "Account Create panni api key send pannunga da"
          ],
          [
           " Santhosh Vit",
           "Thirupi lam send panna theva illa"
          ],
          [
           " Darani(MIC)",
           "skip pannidata da ?"
          ],
          [
           " Darani(MIC)",
           "upload pannidata ?"
          ],
          [
           " Harish20205",
           "Pannidu da"
          ],
          [
           " Ganapathy (MIC)",
           "CRYPTO DA yaratchu pannunga da 1st rendu question pannitan last rendu yaratchu pannunga"
          ],
          [
           " Santhosh Vit",
           "Skip pannidalam"
          ],
          [
           " Jagadeeswaran MIC",
           "apo ellam sethu oru word la mattum pottu send pannunga da"
          ],
          [
           " Santhosh Vit",
           "combine panni name potu anupidu da vinayagam"
          ],
          [
           " Santhosh Vit",
           "Laptop close panniten"
          ],
          [
           " Darani(MIC)",
           "Epdi pannanum nu kandu pudichitingala ?"
          ],
          [
           " Santhosh Vit",
           "Openstack pannanuma"
          ],
          [
           " Darani(MIC)",
           "Name change panni upload pannidalama da ?"
          ],
          [
           " Jagadeeswaran MIC",
           "rendum combine pannanum"
          ],
          [
           " Jagadeeswaran MIC",
           "yaarachum panringala?"
          ],
          [
           " Jagadeeswaran MIC",
           "konjam alignment and size laam maathi upload pannikonga"
          ],
          [
           " Darani(MIC)",
           "Enna reel paathu try panniya 😂🤣"
          ],
          [
           " Darani(MIC)",
           "Nethu naanum athan pannan 😂"
          ],
          [
           " Ganapathy (MIC)",
           "innum vtopla register pann sollale"
          ],
          [
           " Avinash MIC",
           "@919790373682 fill panra"
          ],
          [
           " Avinash MIC",
           "Yen da, team leader dhana pananum?"
          ],
          [
           " Santhosh Vit",
           "pannitana"
          ],
          [
           " Santhosh Vit",
           "yar venalum pannalam <This message was edited>"
          ],
          [
           " Avinash MIC",
           "Pannu da"
          ],
          [
           " Jagadeeswaran MIC",
           "Avan reply pannala da"
          ],
          [
           " Jagadeeswaran MIC",
           "Dei group 2 ungaloda registration number and name send pannunga da"
          ],
          [
           " Jagadeeswaran MIC",
           "Itha na varshan ku send pannitan da"
          ],
          [
           " Jagadeeswaran MIC",
           "Oru Vela submit panni irunthana?"
          ],
          [
           " Jagadeeswaran MIC",
           "Innum submit pannalayam"
          ],
          [
           " Darani(MIC)",
           "lean start up add pannala"
          ],
          [
           " Santhosh Vit",
           "Crt aa check panni sollunga da"
          ],
          [
           " Avinash MIC",
           "11th confirm panra"
          ],
          [
           " Santhosh Vit",
           "Watha login panna solluthu da"
          ],
          [
           " Avinash MIC",
           "watha app install panra"
          ],
          [
           " Avinash MIC",
           "mostly drop paniduvom"
          ],
          [
           " Santhosh Vit",
           "Credits complete panna easy aa irukkum"
          ],
          [
           " Santhosh Vit",
           "Quiz attend pannanuma enna?"
          ],
          [
           " Darani(MIC)",
           "venum na attend pannlam"
          ],
          [
           " Avinash MIC",
           "Mail check pannunga"
          ],
          [
           " Avinash MIC",
           "enna da upload pananum?"
          ],
          [
           " Avinash MIC",
           "also report pananum"
          ],
          [
           " Harish20205",
           "nan panniten xerox edukula"
          ],
          [
           " Avinash MIC",
           "report sample send panunga, i'll do the same"
          ],
          [
           " Avinash MIC",
           "instead certificate add panalama or wot?"
          ],
          [
           " Jagadeeswaran MIC",
           "Aama da na certificate than add panni irukkan"
          ],
          [
           " Darani(MIC)",
           "Paravala ithula add pannidu"
          ],
          [
           " Darani(MIC)",
           "NPTEL certificate upload pannunga da"
          ],
          [
           " Darani(MIC)",
           "Summa poi explore pannalam nu"
          ],
          [
           " Darani(MIC)",
           "Atha mudicha than fill pannanuma da ??"
          ],
          [
           " Darani(MIC)",
           "Apa fill pannathinga da"
          ],
          [
           " Darani(MIC)",
           "Soft computing form fill pannidata ??"
          ],
          [
           " Santhosh Vit",
           "pannidu da"
          ],
          [
           " Darani(MIC)",
           "Ippaiye fill pannata illa aprm ahh ??"
          ],
          [
           " Santhosh Vit",
           "form link send pannathe theriyathu"
          ],
          [
           " Santhosh Vit",
           "pannidu paathukalam"
          ],
          [
           " Harish20205",
           "Pannidu"
          ],
          [
           " Darani(MIC)",
           "Submit pannitan da"
          ],
          [
           " Santhosh Vit",
           "Inniki review pannanuma?"
          ],
          [
           " Harish20205",
           "Try panlam"
          ],
          [
           " Ganapathy (MIC)",
           "avinash pg number check panni eluthu da"
          ],
          [
           " Darani(MIC)",
           "Presentation than pannanum"
          ],
          [
           " Jagadeeswaran MIC",
           "Epo pannanum?"
          ],
          [
           " Jagadeeswaran MIC",
           "public class PanValidationException extends Exception { public PanValidationException(String message) { super(message); } }"
          ],
          [
           " Santhosh Vit",
           "rendum questions um answer panna theva illaiaya?"
          ],
          [
           " Darani(MIC)",
           "naan 2nd question panna poran"
          ],
          [
           " Santhosh Vit",
           "all grp member same aa pannanuma?"
          ],
          [
           " Harish20205",
           "upload panna venam"
          ],
          [
           " Harish20205",
           "yesss oru dependency extra va add pannanum"
          ],
          [
           " Darani(MIC)",
           "Namba 4th DA ku oru question upload panniruparu"
          ],
          [
           " Darani(MIC)",
           "Atha finish panni 3rd DA la upload pannanum"
          ],
          [
           " Santhosh Vit",
           "Athaiyae upload pannalama?"
          ],
          [
           " Darani(MIC)",
           "Athula get method lan explain pannirukon"
          ],
          [
           " Darani(MIC)",
           "So atha mattum eluthi upload panran"
          ],
          [
           " Darani(MIC)",
           "Dei unga project name \"Fund Panrom\" nu vekkalam da @917418967740 @919790373682 @918778310929"
          ],
          [
           " Santhosh Vit",
           "fun panriya"
          ],
          [
           " Darani(MIC)",
           "Fund Panrom"
          ],
          [
           " Santhosh Vit",
           "Sir kita discuss pannitu vekalam"
          ],
          [
           " Ganapathy (MIC)",
           "POLL: “Fund Panrom” good name or not ?? OPTION: yes (5 votes) OPTION: no (1 vote)"
          ],
          [
           " Darani(MIC)",
           "Vtop la MOOC registration pannunga da"
          ],
          [
           " Santhosh Vit",
           "LSM DA  group aa pannanum polaiyae da"
          ],
          [
           " Santhosh Vit",
           "bootsrap use panni irukku"
          ],
          [
           " Darani(MIC)",
           "Naan ithaye upload pannitan"
          ],
          [
           " Darani(MIC)",
           "Athalan panna mudiyathu da"
          ],
          [
           " Santhosh Vit",
           "naa panni anupava"
          ],
          [
           " Ashwin MIC",
           "Deii nama ui create panala avlo tha"
          ],
          [
           " Ashwin MIC",
           "Na ivlo tha pani iruken Ithu tha upload panna"
          ],
          [
           " Darani(MIC)",
           "Naanum upload pannitan"
          ],
          [
           " Darani(MIC)",
           "Venam vidu, ithuve upload pannikuran"
          ],
          [
           " Darani(MIC)",
           "Avanuku vena panni anupu"
          ],
          [
           " Santhosh Vit",
           "ML DA enna pannanum"
          ],
          [
           " Darani(MIC)",
           "Dei ithaye upload pannathinga da"
          ],
          [
           " Darani(MIC)",
           "Neenga code copy panni output eduthu podunga"
          ],
          [
           " Darani(MIC)",
           "Ungaluku illana wait pannuvom, illana kelambuvom"
          ],
          [
           " Darani(MIC)",
           "Ithu panna theva illa"
          ],
          [
           " Darani(MIC)",
           "Blank document upload panna pothum"
          ],
          [
           " Santhosh Vit",
           "panna venam la"
          ],
          [
           " Santhosh Vit",
           "panna poringala?"
          ],
          [
           " Darani(MIC)",
           "Send panran"
          ],
          [
           " Darani(MIC)",
           "Loosu maari pannitu irukanga 🤣"
          ],
          [
           " Darani(MIC)",
           "Chatgpt la potu upload pannunga"
          ],
          [
           " Darani(MIC)",
           "10.05 ku start pannalam"
          ],
          [
           " Darani(MIC)",
           "Jagdees um install pantan"
          ],
          [
           " Ganapathy (MIC)",
           "Oru 2 mins wait pannunga"
          ],
          [
           " Darani(MIC)",
           "Pannitan"
          ],
          [
           " Santhosh Vit",
           "Enna pannanum"
          ],
          [
           " Ashwin MIC",
           "Moodle la submit pananuma?"
          ],
          [
           " Jagadeeswaran MIC",
           "1. theva illa da 2. chapter wise theva illa 3. athula konjam modify pannanum 4. ok da"
          ],
          [
           " Jagadeeswaran MIC",
           "@918248052926 ellarume upload pannanuma?"
          ]
         ],
         "hovertemplate": "cluster_label=Upload, Panna, Pannunga, Panni, Send, Pannanum, Enna, Fill, Pannanuma, Pannitan<br>PCA Component 1=%{x}<br>PCA Component 2=%{y}<br>user=%{customdata[0]}<br>message=%{customdata[1]}<extra></extra>",
         "legendgroup": "Upload, Panna, Pannunga, Panni, Send, Pannanum, Enna, Fill, Pannanuma, Pannitan",
         "marker": {
          "color": "#ab63fa",
          "opacity": 0.8,
          "size": 10,
          "symbol": "circle"
         },
         "mode": "markers",
         "name": "Upload, Panna, Pannunga, Panni, Send, Pannanum, Enna, Fill, Pannanuma, Pannitan",
         "showlegend": true,
         "type": "scattergl",
         "x": {
          "bdata": "l2I8Pmxm4D3A+189jG/IPUSbqT2CRTk+sHqlPSQE9D1gX2o9TB/EPT5AAz5w7j49yHn6PdjJ+D1X1gY+YJbyPXSE5D2cvgI+0EwmPZx/oT1WNRE+yIQePdB0lT1Jegw+HEghPpS2qT3A/qc8KDKCPWBGFz54b2g9rPaIPcCyiT1zoQs+RKwKPrr7Lj6TgB8+QK8iPjRYuD2gEko92IKjPchatj1E15c9y1chPtBg2T3Dtx8+LJp4Pso3jz6V/xU+dpFePj2aEz7WBGA+on4kPvDS1z0Ir/A9mKSvPayvqD14fWs9TIysPVhMsj0AP+w90GJWPdRQ9z0g3549N5kLPoQuAj4oE+I9iCToPQh8sD3EEvM9IOYpPfxE+j1Q95I9lJ/MPRyJoT0A9P89eFPSPbxsTD7gckI9EWEaPpyApz0gdUE9xxQdPgAAAADgvgA+DLUDPsSYuT3MRYE9jCadPahAcD3wFNI8nD+UPRTf5D0Q3Iw9qE3wPUjiBD6uMGY+0eY2PsjZoT3A/149tEjaPZAsxj00h+g92FcWPYXlRz5+NQE+KQg7Pm90Lz549xM+MHgePTQAyj2QO7k9WIaiPYCEoz1diQ0+cNK1PbBzwz04znM9REiBPRhbfz2sUrc9GGI6PWn/FT40RPc9vGxMPgBUID0AI7Q9sIOLPbxsTD4uQQU+rFifPXmmpD4U/q49BeE2PhLlEz5g9bI90A61PaQF6z0DYxY+0EEEPjSX7T08LZA9NK0ePvj5+j3cMfo9EFXsPSgNzT2DqAo+GUB/PlCR1T3WlIM+YPbkPbx9nD1IzCo+T/0GPsh9dj0D8BU+cDvDPaDKqj2AHls9yHDoPTAe4z105os9vY8XPuCmgjzIhNo9FPmEPbRa+D3UtAI+6B/0PZYJIT4Y0Fo93IPFPega+T1EFvw9HzAbPgTQKT585os9MMLKPFCMfT2cD9M9",
          "dtype": "f4"
         },
         "xaxis": "x",
         "y": {
          "bdata": "ZWYaPzLO6D7Gevk+J2dBP50ATj+KFDM/osFjP2LyPD95f1o/hMVqP9cOZT+ZmlA/N59OP+JBLT+o6nY/OK5UP1L40D4daTg/VjViP0nTVD/WrVw/+k9pP1B8bz/erWw/wSMzP/GadD8rRmI/pmRTP/VvMT+mrHU/USNNP1ACUz+8fCY/9IFRP+MtPj+BeDg/b3YsP0RuNj/6J1o/RZRlP46fLz8g8VA/vg9aP2omYj8pR04/Oi8sP3BOKT/gjE0/1pg2Pxll7j7GHDc/ISO9PmGIVj9wZgo/yklWP/QdVj/8wmo/X/lRPx4EMD+MhTo/9tEiP+NVDz9gBVU/NRscP1WhDz80ujI/voEsP6oiQj/Kq0s/9DdaPykaPD89+Vo/d9kYP2jKUj8+wzo/nWweP+SsTz8Y/TY/vU1HPynRQD+iZFs/dDkBPxbLVz8e2Ew/wVokPw/CJD8caE8/n8QxP5j5cD+i9WY/tqQTP5Dy/T718lE/9+hTP1vG3T5kMVM/XOwrP1mtDT/ilTo/jpJGP7DhNz8fQz4/jno7P6hEIj8Nvyg/VXkwP2zZJT+LF0Q/JUFBPwRuJj9kvxc/QvY3P4oCLz/wmCA/GEcZPykkLz9SkEU/ev9gP1nJDz9R+1A//nBdP/DyLj9lxho/5KxPP+CQWD9p9Bc/CwFpP+SsTz/NLS8/5YdUPyE6Lj+9TRo/4AUyP6oLRj+xXrU+w6tTP7hTVz8qPUU/PTIuP4pqCD9ZdjM/lyE4PxQOQD9UETY/mC9HP4XZET+CS2o/bu8ZP696XD8wQP4+oFIVP4krQT/mjmM/3uhEP5Trdj81EWY/yMddPzu9XD+m7UI//n9GP/xFeD90Slw/MMEtP5E2KT9ANGc/AACAPwP5Cj9CrWE/+/FhP30xJD+EWWs/QxEfP8XhEj+BoSk/ZsA/P2JGTz90Slw/oIYuPy2UVD+0Gc8+",
          "dtype": "f4"
         },
         "yaxis": "y"
        }
       ],
       "layout": {
        "legend": {
         "title": {
          "text": "Cluster Topics"
         },
         "tracegroupgap": 0
        },
        "template": {
         "data": {
          "bar": [
           {
            "error_x": {
             "color": "#2a3f5f"
            },
            "error_y": {
             "color": "#2a3f5f"
            },
            "marker": {
             "line": {
              "color": "#E5ECF6",
              "width": 0.5
             },
             "pattern": {
              "fillmode": "overlay",
              "size": 10,
              "solidity": 0.2
             }
            },
            "type": "bar"
           }
          ],
          "barpolar": [
           {
            "marker": {
             "line": {
              "color": "#E5ECF6",
              "width": 0.5
             },
             "pattern": {
              "fillmode": "overlay",
              "size": 10,
              "solidity": 0.2
             }
            },
            "type": "barpolar"
           }
          ],
          "carpet": [
           {
            "aaxis": {
             "endlinecolor": "#2a3f5f",
             "gridcolor": "white",
             "linecolor": "white",
             "minorgridcolor": "white",
             "startlinecolor": "#2a3f5f"
            },
            "baxis": {
             "endlinecolor": "#2a3f5f",
             "gridcolor": "white",
             "linecolor": "white",
             "minorgridcolor": "white",
             "startlinecolor": "#2a3f5f"
            },
            "type": "carpet"
           }
          ],
          "choropleth": [
           {
            "colorbar": {
             "outlinewidth": 0,
             "ticks": ""
            },
            "type": "choropleth"
           }
          ],
          "contour": [
           {
            "colorbar": {
             "outlinewidth": 0,
             "ticks": ""
            },
            "colorscale": [
             [
              0,
              "#0d0887"
             ],
             [
              0.1111111111111111,
              "#46039f"
             ],
             [
              0.2222222222222222,
              "#7201a8"
             ],
             [
              0.3333333333333333,
              "#9c179e"
             ],
             [
              0.4444444444444444,
              "#bd3786"
             ],
             [
              0.5555555555555556,
              "#d8576b"
             ],
             [
              0.6666666666666666,
              "#ed7953"
             ],
             [
              0.7777777777777778,
              "#fb9f3a"
             ],
             [
              0.8888888888888888,
              "#fdca26"
             ],
             [
              1,
              "#f0f921"
             ]
            ],
            "type": "contour"
           }
          ],
          "contourcarpet": [
           {
            "colorbar": {
             "outlinewidth": 0,
             "ticks": ""
            },
            "type": "contourcarpet"
           }
          ],
          "heatmap": [
           {
            "colorbar": {
             "outlinewidth": 0,
             "ticks": ""
            },
            "colorscale": [
             [
              0,
              "#0d0887"
             ],
             [
              0.1111111111111111,
              "#46039f"
             ],
             [
              0.2222222222222222,
              "#7201a8"
             ],
             [
              0.3333333333333333,
              "#9c179e"
             ],
             [
              0.4444444444444444,
              "#bd3786"
             ],
             [
              0.5555555555555556,
              "#d8576b"
             ],
             [
              0.6666666666666666,
              "#ed7953"
             ],
             [
              0.7777777777777778,
              "#fb9f3a"
             ],
             [
              0.8888888888888888,
              "#fdca26"
             ],
             [
              1,
              "#f0f921"
             ]
            ],
            "type": "heatmap"
           }
          ],
          "histogram": [
           {
            "marker": {
             "pattern": {
              "fillmode": "overlay",
              "size": 10,
              "solidity": 0.2
             }
            },
            "type": "histogram"
           }
          ],
          "histogram2d": [
           {
            "colorbar": {
             "outlinewidth": 0,
             "ticks": ""
            },
            "colorscale": [
             [
              0,
              "#0d0887"
             ],
             [
              0.1111111111111111,
              "#46039f"
             ],
             [
              0.2222222222222222,
              "#7201a8"
             ],
             [
              0.3333333333333333,
              "#9c179e"
             ],
             [
              0.4444444444444444,
              "#bd3786"
             ],
             [
              0.5555555555555556,
              "#d8576b"
             ],
             [
              0.6666666666666666,
              "#ed7953"
             ],
             [
              0.7777777777777778,
              "#fb9f3a"
             ],
             [
              0.8888888888888888,
              "#fdca26"
             ],
             [
              1,
              "#f0f921"
             ]
            ],
            "type": "histogram2d"
           }
          ],
          "histogram2dcontour": [
           {
            "colorbar": {
             "outlinewidth": 0,
             "ticks": ""
            },
            "colorscale": [
             [
              0,
              "#0d0887"
             ],
             [
              0.1111111111111111,
              "#46039f"
             ],
             [
              0.2222222222222222,
              "#7201a8"
             ],
             [
              0.3333333333333333,
              "#9c179e"
             ],
             [
              0.4444444444444444,
              "#bd3786"
             ],
             [
              0.5555555555555556,
              "#d8576b"
             ],
             [
              0.6666666666666666,
              "#ed7953"
             ],
             [
              0.7777777777777778,
              "#fb9f3a"
             ],
             [
              0.8888888888888888,
              "#fdca26"
             ],
             [
              1,
              "#f0f921"
             ]
            ],
            "type": "histogram2dcontour"
           }
          ],
          "mesh3d": [
           {
            "colorbar": {
             "outlinewidth": 0,
             "ticks": ""
            },
            "type": "mesh3d"
           }
          ],
          "parcoords": [
           {
            "line": {
             "colorbar": {
              "outlinewidth": 0,
              "ticks": ""
             }
            },
            "type": "parcoords"
           }
          ],
          "pie": [
           {
            "automargin": true,
            "type": "pie"
           }
          ],
          "scatter": [
           {
            "fillpattern": {
             "fillmode": "overlay",
             "size": 10,
             "solidity": 0.2
            },
            "type": "scatter"
           }
          ],
          "scatter3d": [
           {
            "line": {
             "colorbar": {
              "outlinewidth": 0,
              "ticks": ""
             }
            },
            "marker": {
             "colorbar": {
              "outlinewidth": 0,
              "ticks": ""
             }
            },
            "type": "scatter3d"
           }
          ],
          "scattercarpet": [
           {
            "marker": {
             "colorbar": {
              "outlinewidth": 0,
              "ticks": ""
             }
            },
            "type": "scattercarpet"
           }
          ],
          "scattergeo": [
           {
            "marker": {
             "colorbar": {
              "outlinewidth": 0,
              "ticks": ""
             }
            },
            "type": "scattergeo"
           }
          ],
          "scattergl": [
           {
            "marker": {
             "colorbar": {
              "outlinewidth": 0,
              "ticks": ""
             }
            },
            "type": "scattergl"
           }
          ],
          "scattermap": [
           {
            "marker": {
             "colorbar": {
              "outlinewidth": 0,
              "ticks": ""
             }
            },
            "type": "scattermap"
           }
          ],
          "scattermapbox": [
           {
            "marker": {
             "colorbar": {
              "outlinewidth": 0,
              "ticks": ""
             }
            },
            "type": "scattermapbox"
           }
          ],
          "scatterpolar": [
           {
            "marker": {
             "colorbar": {
              "outlinewidth": 0,
              "ticks": ""
             }
            },
            "type": "scatterpolar"
           }
          ],
          "scatterpolargl": [
           {
            "marker": {
             "colorbar": {
              "outlinewidth": 0,
              "ticks": ""
             }
            },
            "type": "scatterpolargl"
           }
          ],
          "scatterternary": [
           {
            "marker": {
             "colorbar": {
              "outlinewidth": 0,
              "ticks": ""
             }
            },
            "type": "scatterternary"
           }
          ],
          "surface": [
           {
            "colorbar": {
             "outlinewidth": 0,
             "ticks": ""
            },
            "colorscale": [
             [
              0,
              "#0d0887"
             ],
             [
              0.1111111111111111,
              "#46039f"
             ],
             [
              0.2222222222222222,
              "#7201a8"
             ],
             [
              0.3333333333333333,
              "#9c179e"
             ],
             [
              0.4444444444444444,
              "#bd3786"
             ],
             [
              0.5555555555555556,
              "#d8576b"
             ],
             [
              0.6666666666666666,
              "#ed7953"
             ],
             [
              0.7777777777777778,
              "#fb9f3a"
             ],
             [
              0.8888888888888888,
              "#fdca26"
             ],
             [
              1,
              "#f0f921"
             ]
            ],
            "type": "surface"
           }
          ],
          "table": [
           {
            "cells": {
             "fill": {
              "color": "#EBF0F8"
             },
             "line": {
              "color": "white"
             }
            },
            "header": {
             "fill": {
              "color": "#C8D4E3"
             },
             "line": {
              "color": "white"
             }
            },
            "type": "table"
           }
          ]
         },
         "layout": {
          "annotationdefaults": {
           "arrowcolor": "#2a3f5f",
           "arrowhead": 0,
           "arrowwidth": 1
          },
          "autotypenumbers": "strict",
          "coloraxis": {
           "colorbar": {
            "outlinewidth": 0,
            "ticks": ""
           }
          },
          "colorscale": {
           "diverging": [
            [
             0,
             "#8e0152"
            ],
            [
             0.1,
             "#c51b7d"
            ],
            [
             0.2,
             "#de77ae"
            ],
            [
             0.3,
             "#f1b6da"
            ],
            [
             0.4,
             "#fde0ef"
            ],
            [
             0.5,
             "#f7f7f7"
            ],
            [
             0.6,
             "#e6f5d0"
            ],
            [
             0.7,
             "#b8e186"
            ],
            [
             0.8,
             "#7fbc41"
            ],
            [
             0.9,
             "#4d9221"
            ],
            [
             1,
             "#276419"
            ]
           ],
           "sequential": [
            [
             0,
             "#0d0887"
            ],
            [
             0.1111111111111111,
             "#46039f"
            ],
            [
             0.2222222222222222,
             "#7201a8"
            ],
            [
             0.3333333333333333,
             "#9c179e"
            ],
            [
             0.4444444444444444,
             "#bd3786"
            ],
            [
             0.5555555555555556,
             "#d8576b"
            ],
            [
             0.6666666666666666,
             "#ed7953"
            ],
            [
             0.7777777777777778,
             "#fb9f3a"
            ],
            [
             0.8888888888888888,
             "#fdca26"
            ],
            [
             1,
             "#f0f921"
            ]
           ],
           "sequentialminus": [
            [
             0,
             "#0d0887"
            ],
            [
             0.1111111111111111,
             "#46039f"
            ],
            [
             0.2222222222222222,
             "#7201a8"
            ],
            [
             0.3333333333333333,
             "#9c179e"
            ],
            [
             0.4444444444444444,
             "#bd3786"
            ],
            [
             0.5555555555555556,
             "#d8576b"
            ],
            [
             0.6666666666666666,
             "#ed7953"
            ],
            [
             0.7777777777777778,
             "#fb9f3a"
            ],
            [
             0.8888888888888888,
             "#fdca26"
            ],
            [
             1,
             "#f0f921"
            ]
           ]
          },
          "colorway": [
           "#636efa",
           "#EF553B",
           "#00cc96",
           "#ab63fa",
           "#FFA15A",
           "#19d3f3",
           "#FF6692",
           "#B6E880",
           "#FF97FF",
           "#FECB52"
          ],
          "font": {
           "color": "#2a3f5f"
          },
          "geo": {
           "bgcolor": "white",
           "lakecolor": "white",
           "landcolor": "#E5ECF6",
           "showlakes": true,
           "showland": true,
           "subunitcolor": "white"
          },
          "hoverlabel": {
           "align": "left"
          },
          "hovermode": "closest",
          "mapbox": {
           "style": "light"
          },
          "paper_bgcolor": "white",
          "plot_bgcolor": "#E5ECF6",
          "polar": {
           "angularaxis": {
            "gridcolor": "white",
            "linecolor": "white",
            "ticks": ""
           },
           "bgcolor": "#E5ECF6",
           "radialaxis": {
            "gridcolor": "white",
            "linecolor": "white",
            "ticks": ""
           }
          },
          "scene": {
           "xaxis": {
            "backgroundcolor": "#E5ECF6",
            "gridcolor": "white",
            "gridwidth": 2,
            "linecolor": "white",
            "showbackground": true,
            "ticks": "",
            "zerolinecolor": "white"
           },
           "yaxis": {
            "backgroundcolor": "#E5ECF6",
            "gridcolor": "white",
            "gridwidth": 2,
            "linecolor": "white",
            "showbackground": true,
            "ticks": "",
            "zerolinecolor": "white"
           },
           "zaxis": {
            "backgroundcolor": "#E5ECF6",
            "gridcolor": "white",
            "gridwidth": 2,
            "linecolor": "white",
            "showbackground": true,
            "ticks": "",
            "zerolinecolor": "white"
           }
          },
          "shapedefaults": {
           "line": {
            "color": "#2a3f5f"
           }
          },
          "ternary": {
           "aaxis": {
            "gridcolor": "white",
            "linecolor": "white",
            "ticks": ""
           },
           "baxis": {
            "gridcolor": "white",
            "linecolor": "white",
            "ticks": ""
           },
           "bgcolor": "#E5ECF6",
           "caxis": {
            "gridcolor": "white",
            "linecolor": "white",
            "ticks": ""
           }
          },
          "title": {
           "x": 0.05
          },
          "xaxis": {
           "automargin": true,
           "gridcolor": "white",
           "linecolor": "white",
           "ticks": "",
           "title": {
            "standoff": 15
           },
           "zerolinecolor": "white",
           "zerolinewidth": 2
          },
          "yaxis": {
           "automargin": true,
           "gridcolor": "white",
           "linecolor": "white",
           "ticks": "",
           "title": {
            "standoff": 15
           },
           "zerolinecolor": "white",
           "zerolinewidth": 2
          }
         }
        },
        "title": {
         "text": "Semantic Clustering of Messages"
        },
        "xaxis": {
         "anchor": "y",
         "domain": [
          0,
          1
         ],
         "title": {
          "text": "PCA Component 1"
         }
        },
        "yaxis": {
         "anchor": "x",
         "domain": [
          0,
          1
         ],
         "title": {
          "text": "PCA Component 2"
         }
        }
       }
      }
     },
     "metadata": {},
     "output_type": "display_data"
    }
   ],
   "source": [
    "model.similar_conversations(4)\n"
   ]
  },
  {
   "cell_type": "code",
   "execution_count": 51,
   "metadata": {},
   "outputs": [
    {
     "data": {
      "image/png": "[encoded data removed]",
      "text/plain": [
       "<Figure size 1000x400 with 1 Axes>"
      ]
     },
     "metadata": {},
     "output_type": "display_data"
    }
   ],
   "source": [
    "model.sentiment_dashboard()\n"
   ]
  },
  {
   "cell_type": "code",
   "execution_count": null,
   "metadata": {},
   "outputs": [],
   "source": []
  }
 ],
 "metadata": {
  "kernelspec": {
   "display_name": "Python 3",
   "language": "python",
   "name": "python3"
  },
  "language_info": {
   "codemirror_mode": {
    "name": "ipython",
    "version": 3
   },
   "file_extension": ".py",
   "mimetype": "text/x-python",
   "name": "python",
   "nbconvert_exporter": "python",
   "pygments_lexer": "ipython3",
   "version": "3.10.12"
  }
 },
 "nbformat": 4,
 "nbformat_minor": 2
}
